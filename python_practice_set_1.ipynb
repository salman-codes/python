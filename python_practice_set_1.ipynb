{
 "cells": [
  {
   "cell_type": "markdown",
   "metadata": {},
   "source": [
    "# Python Practice Set 1"
   ]
  },
  {
   "cell_type": "code",
   "execution_count": 1,
   "metadata": {},
   "outputs": [
    {
     "ename": "AttributeError",
     "evalue": "'tuple' object has no attribute 'remove'",
     "output_type": "error",
     "traceback": [
      "\u001b[1;31m---------------------------------------------------------------------------\u001b[0m",
      "\u001b[1;31mAttributeError\u001b[0m                            Traceback (most recent call last)",
      "\u001b[1;32m<ipython-input-1-d90e0c92d077>\u001b[0m in \u001b[0;36m<module>\u001b[1;34m\u001b[0m\n\u001b[0;32m      1\u001b[0m \u001b[0malpha\u001b[0m \u001b[1;33m=\u001b[0m \u001b[1;33m(\u001b[0m\u001b[1;34m'a'\u001b[0m\u001b[1;33m,\u001b[0m \u001b[1;34m'e'\u001b[0m\u001b[1;33m,\u001b[0m \u001b[1;34m'i'\u001b[0m\u001b[1;33m,\u001b[0m \u001b[1;34m'o'\u001b[0m\u001b[1;33m,\u001b[0m \u001b[1;34m'u'\u001b[0m\u001b[1;33m)\u001b[0m\u001b[1;33m\u001b[0m\u001b[1;33m\u001b[0m\u001b[0m\n\u001b[0;32m      2\u001b[0m \u001b[0mfSet\u001b[0m \u001b[1;33m=\u001b[0m \u001b[0mfrozenset\u001b[0m\u001b[1;33m(\u001b[0m\u001b[0malpha\u001b[0m\u001b[1;33m)\u001b[0m\u001b[1;33m\u001b[0m\u001b[1;33m\u001b[0m\u001b[0m\n\u001b[1;32m----> 3\u001b[1;33m \u001b[0malpha\u001b[0m\u001b[1;33m.\u001b[0m\u001b[0mremove\u001b[0m\u001b[1;33m(\u001b[0m\u001b[1;34m'a'\u001b[0m\u001b[1;33m)\u001b[0m\u001b[1;33m\u001b[0m\u001b[1;33m\u001b[0m\u001b[0m\n\u001b[0m",
      "\u001b[1;31mAttributeError\u001b[0m: 'tuple' object has no attribute 'remove'"
     ]
    }
   ],
   "source": [
    "alpha = ('a', 'e', 'i', 'o', 'u')\n",
    "fSet = frozenset(alpha)\n",
    "alpha.remove('a')"
   ]
  },
  {
   "cell_type": "code",
   "execution_count": 2,
   "metadata": {},
   "outputs": [
    {
     "name": "stdout",
     "output_type": "stream",
     "text": [
      "6\n"
     ]
    }
   ],
   "source": [
    "my_dic = {}\n",
    "my_dic[1] = 1\n",
    "my_dic['1'] = 2\n",
    "my_dic[1.0] = 4\n",
    "sum = 0\n",
    "for k in my_dic:\n",
    " sum += my_dic[k]\n",
    "print (sum)"
   ]
  },
  {
   "cell_type": "code",
   "execution_count": 3,
   "metadata": {},
   "outputs": [
    {
     "ename": "NameError",
     "evalue": "name 'copy' is not defined",
     "output_type": "error",
     "traceback": [
      "\u001b[1;31m---------------------------------------------------------------------------\u001b[0m",
      "\u001b[1;31mNameError\u001b[0m                                 Traceback (most recent call last)",
      "\u001b[1;32m<ipython-input-3-2de8b77c62ef>\u001b[0m in \u001b[0;36m<module>\u001b[1;34m\u001b[0m\n\u001b[0;32m      1\u001b[0m \u001b[0mold_list\u001b[0m \u001b[1;33m=\u001b[0m \u001b[1;33m[\u001b[0m\u001b[1;33m[\u001b[0m\u001b[1;36m1\u001b[0m\u001b[1;33m,\u001b[0m \u001b[1;36m1\u001b[0m\u001b[1;33m,\u001b[0m \u001b[1;36m1\u001b[0m\u001b[1;33m]\u001b[0m\u001b[1;33m,\u001b[0m \u001b[1;33m[\u001b[0m\u001b[1;36m2\u001b[0m\u001b[1;33m,\u001b[0m \u001b[1;36m2\u001b[0m\u001b[1;33m,\u001b[0m \u001b[1;36m2\u001b[0m\u001b[1;33m]\u001b[0m\u001b[1;33m,\u001b[0m \u001b[1;33m[\u001b[0m\u001b[1;36m3\u001b[0m\u001b[1;33m,\u001b[0m \u001b[1;36m3\u001b[0m\u001b[1;33m,\u001b[0m \u001b[1;36m3\u001b[0m\u001b[1;33m]\u001b[0m\u001b[1;33m]\u001b[0m\u001b[1;33m\u001b[0m\u001b[1;33m\u001b[0m\u001b[0m\n\u001b[1;32m----> 2\u001b[1;33m \u001b[0mnew_list\u001b[0m \u001b[1;33m=\u001b[0m \u001b[0mcopy\u001b[0m\u001b[1;33m.\u001b[0m\u001b[0mcopy\u001b[0m\u001b[1;33m(\u001b[0m\u001b[0mold_list\u001b[0m\u001b[1;33m)\u001b[0m\u001b[1;33m\u001b[0m\u001b[1;33m\u001b[0m\u001b[0m\n\u001b[0m\u001b[0;32m      3\u001b[0m \u001b[0mold_list\u001b[0m\u001b[1;33m[\u001b[0m\u001b[1;36m1\u001b[0m\u001b[1;33m]\u001b[0m\u001b[1;33m[\u001b[0m\u001b[1;36m1\u001b[0m\u001b[1;33m]\u001b[0m \u001b[1;33m=\u001b[0m \u001b[1;34m'AA'\u001b[0m\u001b[1;33m\u001b[0m\u001b[1;33m\u001b[0m\u001b[0m\n\u001b[0;32m      4\u001b[0m \u001b[0mprint\u001b[0m\u001b[1;33m(\u001b[0m\u001b[1;34m\"Old list:\"\u001b[0m\u001b[1;33m,\u001b[0m \u001b[0mold_list\u001b[0m\u001b[1;33m)\u001b[0m\u001b[1;33m\u001b[0m\u001b[1;33m\u001b[0m\u001b[0m\n\u001b[0;32m      5\u001b[0m \u001b[0mprint\u001b[0m\u001b[1;33m(\u001b[0m\u001b[1;34m\"My New list:\"\u001b[0m\u001b[1;33m,\u001b[0m \u001b[0mnew_list\u001b[0m\u001b[1;33m)\u001b[0m\u001b[1;33m\u001b[0m\u001b[1;33m\u001b[0m\u001b[0m\n",
      "\u001b[1;31mNameError\u001b[0m: name 'copy' is not defined"
     ]
    }
   ],
   "source": [
    "old_list = [[1, 1, 1], [2, 2, 2], [3, 3, 3]]\n",
    "new_list = copy.copy(old_list)\n",
    "old_list[1][1] = 'AA'\n",
    "print(\"Old list:\", old_list)\n",
    "print(\"My New list:\", new_list)"
   ]
  },
  {
   "cell_type": "code",
   "execution_count": 4,
   "metadata": {},
   "outputs": [
    {
     "name": "stdout",
     "output_type": "stream",
     "text": [
      "[2, 3, [4, 5]]\n",
      "[88, 3, [4, 5]]\n"
     ]
    }
   ],
   "source": [
    "l=[2, 3, [4, 5]]\n",
    "l2=l.copy()\n",
    "l2[0]=88\n",
    "print(l)\n",
    "print(l2)"
   ]
  },
  {
   "cell_type": "code",
   "execution_count": 5,
   "metadata": {},
   "outputs": [
    {
     "name": "stdout",
     "output_type": "stream",
     "text": [
      "True\n",
      "True\n",
      "False\n",
      "True\n",
      "False\n",
      "False\n"
     ]
    }
   ],
   "source": [
    "import copy\n",
    "colors1 = ['Red', 'Blue']\n",
    "colors2 = ['White','Black']\n",
    "colors3 = [colors1 , colors2]\n",
    "colors4 = colors3\n",
    "print (id(colors3) == id(colors4)) # 1\n",
    "print (id(colors3[0]) == id(colors4[0])) # 2\n",
    "colors4 = copy.copy(colors3)\n",
    "print (id(colors3) == id(colors4)) # 3\n",
    "print (id(colors3[0]) == id(colors4[0])) # 4\n",
    "colors4 = copy.deepcopy(colors3)\n",
    "print (id(colors3) == id(colors4)) # 5\n",
    "print (id(colors3[0]) == id(colors4[0])) # 6"
   ]
  },
  {
   "cell_type": "code",
   "execution_count": 6,
   "metadata": {},
   "outputs": [
    {
     "name": "stdout",
     "output_type": "stream",
     "text": [
      "equal\n"
     ]
    }
   ],
   "source": [
    "i=10\n",
    "++i\n",
    "if i==10:\n",
    " print('equal')\n",
    "else:\n",
    " print('not equal')"
   ]
  },
  {
   "cell_type": "code",
   "execution_count": 7,
   "metadata": {},
   "outputs": [
    {
     "name": "stdout",
     "output_type": "stream",
     "text": [
      "not equal\n"
     ]
    }
   ],
   "source": [
    "i=2\n",
    "j=i**4\n",
    "if i==i**4%2==0:\n",
    " print('equal')\n",
    "else:\n",
    " print('not equal')"
   ]
  },
  {
   "cell_type": "code",
   "execution_count": 8,
   "metadata": {},
   "outputs": [
    {
     "name": "stdout",
     "output_type": "stream",
     "text": [
      "Tablet with i7 CPU & 16 GB ram by Intel\n"
     ]
    }
   ],
   "source": [
    "class PC:\n",
    "    processor = \"Xeon\" \n",
    "    def __init__(self, processor, ram):\n",
    "        self.processor = processor\n",
    "        self.ram = ram\n",
    "    def set_processor(self, new_processor): \n",
    "        processor = new_processor\n",
    "    def get_PC(self):\n",
    "        return \"%s cpu & %s ram\" % (self.processor, self.ram)\n",
    "\n",
    "class Tablet():\n",
    "    make = \"Intel\"\n",
    "    def __init__(self, processor, ram, make):\n",
    "        self.PC = PC(processor, ram) # Composition\n",
    "        self.make = make\n",
    "    def get_Tablet(self):\n",
    "        return \"Tablet with %s CPU & %s ram by %s\" % (self.PC.processor, self.PC.ram, self.make)\n",
    "if __name__ == \"__main__\":\n",
    "    tab = Tablet(\"i7\", \"16 GB\", \"Intel\")\n",
    "    print(tab.get_Tablet())"
   ]
  },
  {
   "cell_type": "code",
   "execution_count": 9,
   "metadata": {},
   "outputs": [
    {
     "name": "stdout",
     "output_type": "stream",
     "text": [
      "['fizzbuzz', 22, 14, 'buzz', 97, 'fizz']\n"
     ]
    }
   ],
   "source": [
    "numbers = [45, 22, 14, 65, 97, 72]\n",
    "for i in range(len(numbers)):\n",
    "    if numbers[i] % 3 == 0 and numbers[i] % 5 == 0:\n",
    "        numbers[i] = 'fizzbuzz'\n",
    "    elif numbers[i] % 3 == 0:\n",
    "        numbers[i] = 'fizz'\n",
    "    elif numbers[i] % 5 == 0:\n",
    "        numbers[i] = 'buzz'\n",
    "print(numbers)"
   ]
  },
  {
   "cell_type": "code",
   "execution_count": 10,
   "metadata": {},
   "outputs": [
    {
     "name": "stdout",
     "output_type": "stream",
     "text": [
      "5 6 -1 1 2 3\n",
      "5 6 0 1 2 3\n"
     ]
    }
   ],
   "source": [
    "def construct(n, m, a): \n",
    "    ind = 0\n",
    "    for i in range(n): \n",
    "        if (a[i]!=-1): \n",
    "            ind = i \n",
    "            break\n",
    "    for i in range(ind-1, -1, -1): \n",
    "        if (a[i]==-1): \n",
    "            a[i]=(a[i + 1]-1 + m)% m \n",
    "    for i in range(ind + 1, n): \n",
    "        if(a[i]==-1): \n",
    "            a[i]=(a[i-1]+1)% m \n",
    "            print(*a) \n",
    "n, m = 6, 7\n",
    "a =[5, -1, -1, 1, 2, 3] \n",
    "construct(n, m, a)"
   ]
  },
  {
   "cell_type": "code",
   "execution_count": 11,
   "metadata": {},
   "outputs": [
    {
     "name": "stdout",
     "output_type": "stream",
     "text": [
      "9808\n"
     ]
    }
   ],
   "source": [
    "def getVal(arr,n): \n",
    "    max = arr[0] \n",
    "    for i in range(1, n): \n",
    "        if arr[i] > max: \n",
    "            max = arr[i] \n",
    "    return max\n",
    "arr = [10, 324, 45, 90, 9808] \n",
    "n = len(arr) \n",
    "Ans = getVal(arr,n) \n",
    "print (Ans)"
   ]
  },
  {
   "cell_type": "code",
   "execution_count": 12,
   "metadata": {},
   "outputs": [
    {
     "name": "stdout",
     "output_type": "stream",
     "text": [
      "3\n",
      "4\n",
      "5\n",
      "6\n",
      "7\n",
      "1\n",
      "2\n"
     ]
    }
   ],
   "source": [
    "def processMe(arr, start, end): \n",
    "    while (start < end): \n",
    "        temp = arr[start] \n",
    "        arr[start] = arr[end] \n",
    "        arr[end] = temp \n",
    "        start += 1\n",
    "        end = end-1\n",
    "\n",
    "def leftRotateMe(arr, d): \n",
    "    n = len(arr) \n",
    "    processMe(arr, 0, d-1) \n",
    "    processMe(arr, d, n-1) \n",
    "    processMe(arr, 0, n-1) \n",
    "\n",
    "def printArray(arr): \n",
    "    for i in range(0, len(arr)): \n",
    "        print (arr[i]) \n",
    "\n",
    "arr = [1, 2, 3, 4, 5, 6, 7] \n",
    "leftRotateMe(arr, 2) \n",
    "printArray(arr)"
   ]
  },
  {
   "cell_type": "code",
   "execution_count": 13,
   "metadata": {},
   "outputs": [
    {
     "name": "stdout",
     "output_type": "stream",
     "text": [
      "9808\n"
     ]
    }
   ],
   "source": [
    "\n",
    "def getVal(arr,n): \n",
    "    max = arr[0] \n",
    "    for i in range(1, n): \n",
    "        if arr[i] > max: \n",
    "            max = arr[i] \n",
    "    return max\n",
    "arr = [10, 45, 90, 9808] \n",
    "n = len(arr) \n",
    "Ans = getVal(arr,n) \n",
    "print (Ans)"
   ]
  },
  {
   "cell_type": "code",
   "execution_count": 19,
   "metadata": {},
   "outputs": [
    {
     "name": "stdout",
     "output_type": "stream",
     "text": [
      "1667167816256\n",
      "1667168474928\n"
     ]
    }
   ],
   "source": [
    "s =\"Hello\"\n",
    "print(id(s))\n",
    "print(id(s[:2]+s[2:]))"
   ]
  },
  {
   "cell_type": "code",
   "execution_count": 14,
   "metadata": {},
   "outputs": [
    {
     "ename": "AttributeError",
     "evalue": "'list' object has no attribute 'extends'",
     "output_type": "error",
     "traceback": [
      "\u001b[1;31m---------------------------------------------------------------------------\u001b[0m",
      "\u001b[1;31mAttributeError\u001b[0m                            Traceback (most recent call last)",
      "\u001b[1;32m<ipython-input-14-322ac85b0d73>\u001b[0m in \u001b[0;36m<module>\u001b[1;34m\u001b[0m\n\u001b[0;32m      6\u001b[0m \u001b[0mnames1\u001b[0m \u001b[1;33m=\u001b[0m \u001b[1;33m[\u001b[0m\u001b[1;34m\"Ava\"\u001b[0m\u001b[1;33m,\u001b[0m \u001b[1;34m\"Emma\"\u001b[0m\u001b[1;33m,\u001b[0m \u001b[1;34m\"Olivia\"\u001b[0m\u001b[1;33m]\u001b[0m\u001b[1;33m\u001b[0m\u001b[1;33m\u001b[0m\u001b[0m\n\u001b[0;32m      7\u001b[0m \u001b[0mnames2\u001b[0m \u001b[1;33m=\u001b[0m \u001b[1;33m[\u001b[0m\u001b[1;34m\"Olivia\"\u001b[0m\u001b[1;33m,\u001b[0m \u001b[1;34m\"Sophia\"\u001b[0m\u001b[1;33m,\u001b[0m \u001b[1;34m\"Emma\"\u001b[0m\u001b[1;33m]\u001b[0m\u001b[1;33m\u001b[0m\u001b[1;33m\u001b[0m\u001b[0m\n\u001b[1;32m----> 8\u001b[1;33m \u001b[0mprint\u001b[0m\u001b[1;33m(\u001b[0m\u001b[0munique_names\u001b[0m\u001b[1;33m(\u001b[0m\u001b[0mnames1\u001b[0m\u001b[1;33m,\u001b[0m \u001b[0mnames2\u001b[0m\u001b[1;33m)\u001b[0m\u001b[1;33m)\u001b[0m \u001b[1;31m# should print Ava, Emma, Olivia, Sophia\u001b[0m\u001b[1;33m\u001b[0m\u001b[1;33m\u001b[0m\u001b[0m\n\u001b[0m",
      "\u001b[1;32m<ipython-input-14-322ac85b0d73>\u001b[0m in \u001b[0;36munique_names\u001b[1;34m(names1, names2)\u001b[0m\n\u001b[0;32m      1\u001b[0m \u001b[1;32mdef\u001b[0m \u001b[0munique_names\u001b[0m\u001b[1;33m(\u001b[0m\u001b[0mnames1\u001b[0m\u001b[1;33m,\u001b[0m \u001b[0mnames2\u001b[0m\u001b[1;33m)\u001b[0m\u001b[1;33m:\u001b[0m\u001b[1;33m\u001b[0m\u001b[1;33m\u001b[0m\u001b[0m\n\u001b[1;32m----> 2\u001b[1;33m     \u001b[0mtemp\u001b[0m \u001b[1;33m=\u001b[0m \u001b[0mnames1\u001b[0m\u001b[1;33m.\u001b[0m\u001b[0mextends\u001b[0m\u001b[1;33m(\u001b[0m\u001b[0mnames2\u001b[0m\u001b[1;33m)\u001b[0m\u001b[1;33m\u001b[0m\u001b[1;33m\u001b[0m\u001b[0m\n\u001b[0m\u001b[0;32m      3\u001b[0m     \u001b[0mtemp\u001b[0m \u001b[1;33m=\u001b[0m \u001b[0mlist\u001b[0m\u001b[1;33m(\u001b[0m\u001b[0mset\u001b[0m\u001b[1;33m(\u001b[0m\u001b[0mtemp\u001b[0m\u001b[1;33m)\u001b[0m\u001b[1;33m)\u001b[0m\u001b[1;33m\u001b[0m\u001b[1;33m\u001b[0m\u001b[0m\n\u001b[0;32m      4\u001b[0m     \u001b[1;32mreturn\u001b[0m \u001b[0mtemp\u001b[0m\u001b[1;33m\u001b[0m\u001b[1;33m\u001b[0m\u001b[0m\n\u001b[0;32m      5\u001b[0m \u001b[1;33m\u001b[0m\u001b[0m\n",
      "\u001b[1;31mAttributeError\u001b[0m: 'list' object has no attribute 'extends'"
     ]
    }
   ],
   "source": [
    "def unique_names(names1, names2):\n",
    "    temp = names1.extends(names2)\n",
    "    temp = list(set(temp))\n",
    "    return temp\n",
    "\n",
    "names1 = [\"Ava\", \"Emma\", \"Olivia\"]\n",
    "names2 = [\"Olivia\", \"Sophia\", \"Emma\"]\n",
    "print(unique_names(names1, names2)) # should print Ava, Emma, Olivia, Sophia"
   ]
  },
  {
   "cell_type": "code",
   "execution_count": null,
   "metadata": {},
   "outputs": [],
   "source": []
  }
 ],
 "metadata": {
  "kernelspec": {
   "display_name": "Python 3",
   "language": "python",
   "name": "python3"
  },
  "language_info": {
   "codemirror_mode": {
    "name": "ipython",
    "version": 3
   },
   "file_extension": ".py",
   "mimetype": "text/x-python",
   "name": "python",
   "nbconvert_exporter": "python",
   "pygments_lexer": "ipython3",
   "version": "3.7.3"
  }
 },
 "nbformat": 4,
 "nbformat_minor": 2
}
