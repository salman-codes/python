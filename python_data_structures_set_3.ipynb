{
 "cells": [
  {
   "cell_type": "code",
   "execution_count": 28,
   "metadata": {},
   "outputs": [
    {
     "name": "stdout",
     "output_type": "stream",
     "text": [
      "0 1 2 4 3 None\n"
     ]
    }
   ],
   "source": [
    "from collections import defaultdict \n",
    "class Test: \n",
    "    def __init__(self): \n",
    "        self.graph = defaultdict(list) \n",
    "  \n",
    "    def create(self,u,v): \n",
    "        self.graph[u].append(v) \n",
    "\n",
    "    def f1(self, s): \n",
    "        visited = [False] * (len(self.graph)) \n",
    "        queue = [] \n",
    "\n",
    "        queue.append(s) \n",
    "        visited[s] = True\n",
    "\n",
    "        while queue:  \n",
    "            s = queue.pop(0) \n",
    "            print (s, end = \" \")\n",
    "            for i in self.graph[s]: \n",
    "                if visited[i] == False: \n",
    "                    queue.append(i) \n",
    "                    visited[i] = True\n",
    "\n",
    "g = Test()\n",
    "g.create(1, 2)\n",
    "g.create(0, 1)\n",
    "g.create(3, 1)\n",
    "g.create(2, 3)\n",
    "g.create(1, 4)\n",
    "g.create(4, 2)\n",
    "\n",
    "print(g.f1(0))"
   ]
  },
  {
   "cell_type": "code",
   "execution_count": 6,
   "metadata": {},
   "outputs": [
    {
     "name": "stdout",
     "output_type": "stream",
     "text": [
      "5\n",
      "1\n"
     ]
    }
   ],
   "source": [
    "class Tree(object):\n",
    "    def __init__(self):\n",
    "        self.left = None\n",
    "        self.child = []\n",
    "        self.data = []\n",
    "    \n",
    "    def createChildren(self, amount):\n",
    "        for i in range(0, amount):\n",
    "            self.child.append(Tree())\n",
    "    \n",
    "    def setChildrenValues(self, list):\n",
    "        for i in range(0, len(list)):\n",
    "            self.data.append(list[i])\n",
    "\n",
    "root = Tree()\n",
    "root.createChildren(3)\n",
    "root.setChildrenValues([5,6,7]) \n",
    "root.child[0].createChildren(2)\n",
    "root.child[0].setChildrenValues([1,2])\n",
    "# print some values in the tree\n",
    "print(root.data[0])\n",
    "print(root.child[0].data[0])"
   ]
  },
  {
   "cell_type": "code",
   "execution_count": 17,
   "metadata": {},
   "outputs": [
    {
     "name": "stdout",
     "output_type": "stream",
     "text": [
      "4\n"
     ]
    }
   ],
   "source": [
    "# Python3 program to find the maximum depth of tree \n",
    "class Node:\n",
    "    def __init__(self, data): \n",
    "        self.data = data \n",
    "        self.left = None\n",
    "        self.right = None\n",
    "\n",
    "def f1(node): \n",
    "    if node is None: \n",
    "        return 0 ; \n",
    "    else :\n",
    "        a = maxDepth(node.left) \n",
    "        b = maxDepth(node.right) \n",
    "  \n",
    "        if (a > b): \n",
    "            return a+1\n",
    "        else: \n",
    "            return b+1\n",
    "  \n",
    "root = Node(1) \n",
    "root.left = Node(2) \n",
    "root.right = Node(3) \n",
    "root.left.left = Node(4) \n",
    "root.left.right = Node(5)\n",
    "root.left.left.left = Node(6) \n",
    "print ((f1(root))) "
   ]
  },
  {
   "cell_type": "code",
   "execution_count": 22,
   "metadata": {},
   "outputs": [
    {
     "name": "stdout",
     "output_type": "stream",
     "text": [
      "12 19 23 23 87 1 \n",
      "12 19 5 23 23 87 1 "
     ]
    }
   ],
   "source": [
    "# Python program to insert element in binary tree  \n",
    "class newNode():\n",
    "    def __init__(self, data):  \n",
    "        self.key = data \n",
    "        self.left = None\n",
    "        self.right = None\n",
    "\n",
    "def print_tree(temp): \n",
    "  \n",
    "    if (not temp): \n",
    "        return\n",
    "  \n",
    "    print_tree(temp.left)  \n",
    "    print(temp.key,end = \" \") \n",
    "    print_tree(temp.right)  \n",
    "\n",
    "def add_data(temp,key):\n",
    "    q = []  \n",
    "    q.append(temp)\n",
    "    while (len(q)):  \n",
    "        temp = q[0]  \n",
    "        q.pop(0)  \n",
    "  \n",
    "        if (not temp.left): \n",
    "            temp.left = newNode(key)  \n",
    "            break\n",
    "        else: \n",
    "            q.append(temp.left)  \n",
    "  \n",
    "        if (not temp.right): \n",
    "            temp.right = newNode(key)  \n",
    "            break\n",
    "        else: \n",
    "            q.append(temp.right)  \n",
    "\n",
    "if __name__ == '__main__': \n",
    "    root = newNode(23)  \n",
    "    root.left = newNode(19)  \n",
    "    root.left.left = newNode(12)  \n",
    "    root.right = newNode(87)\n",
    "    root.right.left = newNode(23)  \n",
    "    root.right.right = newNode(1)  \n",
    "\n",
    "    print_tree(root)  \n",
    "    key = 5\n",
    "    add_data(root, key)  \n",
    "    print()\n",
    "    print_tree(root)"
   ]
  },
  {
   "cell_type": "code",
   "execution_count": 27,
   "metadata": {},
   "outputs": [
    {
     "name": "stdout",
     "output_type": "stream",
     "text": [
      "2 1 7 5 9 "
     ]
    }
   ],
   "source": [
    "class Node: \n",
    "    def __init__(self, data): \n",
    "        self.data = data  \n",
    "        self.left = None\n",
    "        self.right = None\n",
    "\n",
    "def traverse(root): \n",
    "    current = root  \n",
    "      \n",
    "    while(current is not None): \n",
    "          \n",
    "        if current.left is None: \n",
    "            print(current.data, end=\" \")\n",
    "            current = current.right \n",
    "        else: \n",
    "            pre = current.left \n",
    "            while(pre.right is not None and pre.right != current): \n",
    "                pre = pre.right \n",
    "            if(pre.right is None): \n",
    "                pre.right = current \n",
    "                current = current.left \n",
    "            else: \n",
    "                pre.right = None\n",
    "                print(current.data, end=\" \") \n",
    "                current = current.right \n",
    "              \n",
    "\n",
    "root = Node(5) \n",
    "root.left = Node(1) \n",
    "root.right = Node(9) \n",
    "root.left.left = Node(2) \n",
    "root.left.right = Node(7) \n",
    "  \n",
    "traverse(root)"
   ]
  },
  {
   "cell_type": "code",
   "execution_count": 29,
   "metadata": {},
   "outputs": [
    {
     "name": "stdout",
     "output_type": "stream",
     "text": [
      "3\n"
     ]
    }
   ],
   "source": [
    "# Python3 program to count number   \n",
    "# of trees in a forest. \n",
    "def addEdge(adj, u, v): \n",
    "    adj[u].append(v)  \n",
    "    adj[v].append(u) \n",
    "\n",
    "def f1(u, adj, visited): \n",
    "    visited[u] = True\n",
    "    for i in range(len(adj[u])): \n",
    "        if (visited[adj[u][i]] == False): \n",
    "            f1(adj[u][i], adj, visited) \n",
    " \n",
    "def f2(adj, V): \n",
    "    visited = [False] * V  \n",
    "    res = 0\n",
    "    for u in range(V): \n",
    "        if (visited[u] == False): \n",
    "            f1(u, adj, visited)  \n",
    "            res += 1\n",
    "    return res \n",
    "\n",
    "if __name__ == '__main__': \n",
    "    V = 6\n",
    "    adj = [[] for i in range(V)]  \n",
    "    addEdge(adj, 1, 2)\n",
    "    addEdge(adj, 0, 3)\n",
    "    addEdge(adj, 2, 5)\n",
    "    print(f2(adj, V))"
   ]
  },
  {
   "cell_type": "code",
   "execution_count": 5,
   "metadata": {},
   "outputs": [
    {
     "name": "stdout",
     "output_type": "stream",
     "text": [
      "[[], [], [], [], [], []]\n",
      "[[], [2], [1], [], [], []]\n",
      "__________________________________________\n",
      "[[], [2], [1], [], [], []]\n",
      "[[3], [2], [1], [0], [], []]\n",
      "__________________________________________\n",
      "[[3], [2], [1], [0], [], []]\n",
      "[[3], [2], [1, 5], [0], [], [2]]\n",
      "__________________________________________\n",
      "3\n"
     ]
    }
   ],
   "source": [
    "def addEdge(adj, u, v): \n",
    "    print(adj)\n",
    "    adj[u].append(v)  \n",
    "    adj[v].append(u) \n",
    "    print(adj)\n",
    "    print('__________________________________________')\n",
    "\n",
    "def f1(u, adj, visited): \n",
    "    visited[u] = True\n",
    "    for i in range(len(adj[u])): \n",
    "        if (visited[adj[u][i]] == False): \n",
    "            f1(adj[u][i], adj, visited) \n",
    " \n",
    "def f2(adj, V): \n",
    "    visited = [False] * V  \n",
    "    res = 0\n",
    "    for u in range(V): \n",
    "        if (visited[u] == False): \n",
    "            f1(u, adj, visited)  \n",
    "            res += 1\n",
    "    return res \n",
    "\n",
    "if __name__ == '__main__': \n",
    "    V = 6\n",
    "    adj = [[] for i in range(V)]  \n",
    "    addEdge(adj, 1, 2)\n",
    "    addEdge(adj, 0, 3)\n",
    "    addEdge(adj, 2, 5)\n",
    "    print(f2(adj, V))"
   ]
  },
  {
   "cell_type": "code",
   "execution_count": null,
   "metadata": {},
   "outputs": [],
   "source": []
  },
  {
   "cell_type": "code",
   "execution_count": null,
   "metadata": {},
   "outputs": [],
   "source": []
  },
  {
   "cell_type": "code",
   "execution_count": null,
   "metadata": {},
   "outputs": [],
   "source": []
  },
  {
   "cell_type": "code",
   "execution_count": null,
   "metadata": {},
   "outputs": [],
   "source": []
  }
 ],
 "metadata": {
  "kernelspec": {
   "display_name": "Python 3",
   "language": "python",
   "name": "python3"
  },
  "language_info": {
   "codemirror_mode": {
    "name": "ipython",
    "version": 3
   },
   "file_extension": ".py",
   "mimetype": "text/x-python",
   "name": "python",
   "nbconvert_exporter": "python",
   "pygments_lexer": "ipython3",
   "version": "3.7.3"
  }
 },
 "nbformat": 4,
 "nbformat_minor": 2
}
