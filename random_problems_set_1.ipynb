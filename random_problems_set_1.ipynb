{
 "cells": [
  {
   "cell_type": "code",
   "execution_count": 70,
   "metadata": {},
   "outputs": [
    {
     "name": "stdout",
     "output_type": "stream",
     "text": [
      "1 0x7ff848269340\n",
      "34 0x7ff848269760\n",
      "3 0x7ff848269380\n",
      "5 0x7ff8482693c0\n",
      "234 0x7ff84826b060\n",
      "wdef 0x29835777ab0\n",
      "0x7ff848269380\n",
      "0x7ff848269380\n"
     ]
    }
   ],
   "source": [
    "\n",
    "a = set([1, 3, 5, 1, 34, 234, 'wdef'])\n",
    "for i in a:\n",
    "    print(i, hex(id(i)))\n",
    "\n",
    "b = [3]\n",
    "c = 3\n",
    "print(hex(id(b[0])))\n",
    "print(hex(id(c)))"
   ]
  },
  {
   "cell_type": "code",
   "execution_count": 72,
   "metadata": {},
   "outputs": [
    {
     "name": "stderr",
     "output_type": "stream",
     "text": [
      "2019-12-26 14:11:12,850 [MainThread  ] [INFO ]  Retrieving http://search.maven.org/remotecontent?filepath=org/apache/tika/tika-server/1.23/tika-server-1.23.jar to C:\\Users\\SALMAN~1.AKH\\AppData\\Local\\Temp\\tika-server.jar.\n",
      "2019-12-26 14:15:25,698 [MainThread  ] [INFO ]  Retrieving http://search.maven.org/remotecontent?filepath=org/apache/tika/tika-server/1.23/tika-server-1.23.jar.md5 to C:\\Users\\SALMAN~1.AKH\\AppData\\Local\\Temp\\tika-server.jar.md5.\n",
      "2019-12-26 14:15:29,073 [MainThread  ] [WARNI]  Failed to see startup log message; retrying...\n",
      "2019-12-26 14:15:34,414 [MainThread  ] [WARNI]  Failed to see startup log message; retrying...\n"
     ]
    },
    {
     "name": "stdout",
     "output_type": "stream",
     "text": [
      "\n",
      "\n",
      "\n",
      "\n",
      "\n",
      "\n",
      "\n",
      "\n",
      "\n",
      "\n",
      "\n",
      "\n",
      "\n",
      "\n",
      "\n",
      "\n",
      "\n",
      "\n",
      "\n",
      "\n",
      "\n",
      "\n",
      "\n",
      "\n",
      "\n",
      "\n",
      "\n",
      "\n",
      "\n",
      "\n",
      "\n",
      "\n",
      "\n",
      "\n",
      "\n",
      "Download GRASSMAN: LOGIC DISCRETE MATHS _c1: A Computer Science Perspective (History of the United States of)\n",
      "\n",
      "\n",
      "Download [Pdf] GRASSMAN: LOGIC DISCRETE MATHS _c1: A \n",
      "Computer Science Perspective (History of the United States of) Full Books\n",
      "\n",
      "https://pdfreadfulldownload99.blogspot.com/0135012066\n",
      "\n",
      "\n",
      "Book Details\n",
      "\n",
      "Author : Winfried Karl Grassmann ,Jean-Paul Tremblay\n",
      "Pages : 776\n",
      "\n",
      "Publisher : Pearson\n",
      "Brand : English\n",
      "\n",
      "ISBN : \n",
      "Publication Date : 1995-12-18\n",
      "\n",
      "Release Date : 1995-12-18\n",
      "\n",
      "\n",
      "\n",
      "Description\n",
      "\n",
      "Downloads Best Books , PDF Downloads GRASSMAN: LOGIC DISCRETE MATHS _c1: A Computer \n",
      "Science Perspective (History of the United States of) Full Online, free ebook GRASSMAN: LOGIC \n",
      "\n",
      "DISCRETE MATHS _c1: A Computer Science Perspective (History of the United States of), full book \n",
      "GRASSMAN: LOGIC DISCRETE MATHS _c1: A Computer Science Perspective (History of the United \n",
      "States of), online free GRASSMAN: LOGIC DISCRETE MATHS _c1: A Computer Science Perspective \n",
      "\n",
      "(History of the United States of), pdf download GRASSMAN: LOGIC DISCRETE MATHS _c1: A \n",
      "Computer Science Perspective (History of the United States of), Download Online GRASSMAN: LOGIC \n",
      "\n",
      "DISCRETE MATHS _c1: A Computer Science Perspective (History of the United States of) Book, \n",
      "Download PDF GRASSMAN: LOGIC DISCRETE MATHS _c1: A Computer Science Perspective \n",
      "(History of the United States of) Free Online, read online free GRASSMAN: LOGIC DISCRETE \n",
      "\n",
      "MATHS _c1: A Computer Science Perspective (History of the United States of), pdf GRASSMAN: \n",
      "LOGIC DISCRETE MATHS _c1: A Computer Science Perspective (History of the United States of), \n",
      "Download Online GRASSMAN: LOGIC DISCRETE MATHS _c1: A Computer Science Perspective \n",
      "(History of the United States of) Book, Download GRASSMAN: LOGIC DISCRETE MATHS _c1: A \n",
      "\n",
      "Computer Science Perspective (History of the United States of) E-Books, Read Best Book Online \n",
      "GRASSMAN: LOGIC DISCRETE MATHS _c1: A Computer Science Perspective (History of the United \n",
      "\n",
      "States of), Read Online GRASSMAN: LOGIC DISCRETE MATHS _c1: A Computer Science \n",
      "Perspective (History of the United States of) E-Books, Read Best Book GRASSMAN: LOGIC \n",
      "\n",
      "DISCRETE MATHS _c1: A Computer Science Perspective (History of the United States of) Online, Read \n",
      "GRASSMAN: LOGIC DISCRETE MATHS _c1: A Computer Science Perspective (History of the United \n",
      "\n",
      "States of) Books Online Free, Read GRASSMAN: LOGIC DISCRETE MATHS _c1: A Computer \n",
      "\n",
      "\n",
      "\n",
      "Science Perspective (History of the United States of) Book Free, GRASSMAN: LOGIC DISCRETE \n",
      "MATHS _c1: A Computer Science Perspective (History of the United States of) PDF read online, \n",
      "\n",
      "GRASSMAN: LOGIC DISCRETE MATHS _c1: A Computer Science Perspective (History of the United \n",
      "States of) pdf read online, GRASSMAN: LOGIC DISCRETE MATHS _c1: A Computer Science \n",
      "\n",
      "Perspective (History of the United States of) Ebooks Free, GRASSMAN: LOGIC DISCRETE MATHS \n",
      "_c1: A Computer Science Perspective (History of the United States of) Popular Download, GRASSMAN: \n",
      "LOGIC DISCRETE MATHS _c1: A Computer Science Perspective (History of the United States of) Full \n",
      "Download, GRASSMAN: LOGIC DISCRETE MATHS _c1: A Computer Science Perspective (History of \n",
      "the United States of) Free PDF Download, GRASSMAN: LOGIC DISCRETE MATHS _c1: A Computer \n",
      "Science Perspective (History of the United States of) Books Online, GRASSMAN: LOGIC DISCRETE \n",
      "\n",
      "MATHS _c1: A Computer Science Perspective (History of the United States of) Book Download \n",
      "\n",
      "\n",
      "\n",
      "if you want to download or read GRASSMAN: LOGIC \n",
      "DISCRETE MATHS _c1: A Computer Science Perspective \n",
      "\n",
      "(History of the United States of), click button download in the last \n",
      "page\n",
      "\n",
      "https://pdfreadfulldownload99.blogspot.com/0135012066\n",
      "\n",
      "\n",
      "Download or read GRASSMAN: LOGIC DISCRETE MATHS _c1: A Computer Science \n",
      "Perspective (History of the United States of) by click link below\n",
      "\n",
      "Download or read GRASSMAN: LOGIC DISCRETE MATHS _c1: A Computer Science Perspective \n",
      "(History of the United States of)\n",
      "\n",
      "OR\n",
      "\n",
      "https://pdfreadfulldownload99.blogspot.com/0135012066\n",
      "https://pdfreadfulldownload99.blogspot.com/0135012066\n",
      "https://pdfreadfulldownload99.blogspot.com/0135012066\n",
      "\n",
      "\n"
     ]
    }
   ],
   "source": [
    "from tika import parser\n",
    "\n",
    "raw = parser.from_file('book4850164-180803012859.pdf')\n",
    "print(raw['content'])"
   ]
  },
  {
   "cell_type": "code",
   "execution_count": 75,
   "metadata": {},
   "outputs": [
    {
     "ename": "ModuleNotFoundError",
     "evalue": "No module named 'PyPDF2'",
     "output_type": "error",
     "traceback": [
      "\u001b[1;31m---------------------------------------------------------------------------\u001b[0m",
      "\u001b[1;31mModuleNotFoundError\u001b[0m                       Traceback (most recent call last)",
      "\u001b[1;32m<ipython-input-75-85077b02b592>\u001b[0m in \u001b[0;36m<module>\u001b[1;34m\u001b[0m\n\u001b[1;32m----> 1\u001b[1;33m \u001b[1;32mimport\u001b[0m \u001b[0mPyPDF2\u001b[0m\u001b[1;33m\u001b[0m\u001b[1;33m\u001b[0m\u001b[0m\n\u001b[0m\u001b[0;32m      2\u001b[0m \u001b[1;31m# pdf file object\u001b[0m\u001b[1;33m\u001b[0m\u001b[1;33m\u001b[0m\u001b[1;33m\u001b[0m\u001b[0m\n\u001b[0;32m      3\u001b[0m \u001b[1;31m# you can find find the pdf file with complete code in below\u001b[0m\u001b[1;33m\u001b[0m\u001b[1;33m\u001b[0m\u001b[1;33m\u001b[0m\u001b[0m\n\u001b[0;32m      4\u001b[0m \u001b[0mpdfFileObj\u001b[0m \u001b[1;33m=\u001b[0m \u001b[0mopen\u001b[0m\u001b[1;33m(\u001b[0m\u001b[1;34m'book4850164-180803012859.pdf'\u001b[0m\u001b[1;33m,\u001b[0m \u001b[1;34m'rb'\u001b[0m\u001b[1;33m)\u001b[0m\u001b[1;33m\u001b[0m\u001b[1;33m\u001b[0m\u001b[0m\n\u001b[0;32m      5\u001b[0m \u001b[1;31m# pdf reader object\u001b[0m\u001b[1;33m\u001b[0m\u001b[1;33m\u001b[0m\u001b[1;33m\u001b[0m\u001b[0m\n",
      "\u001b[1;31mModuleNotFoundError\u001b[0m: No module named 'PyPDF2'"
     ]
    }
   ],
   "source": [
    "import PyPDF2\n",
    "# pdf file object\n",
    "# you can find find the pdf file with complete code in below\n",
    "pdfFileObj = open('book4850164-180803012859.pdf', 'rb')\n",
    "# pdf reader object\n",
    "pdfReader = PyPDF2.PdfFileReader(pdfFileObj)\n",
    "# number of pages in pdf\n",
    "print(pdfReader.numPages)\n",
    "# a page object\n",
    "pageObj = pdfReader.getPage(0)\n",
    "# extracting text from page.\n",
    "# this will print the text you can also save that into String\n",
    "print(pageObj.extractText())"
   ]
  },
  {
   "cell_type": "code",
   "execution_count": 97,
   "metadata": {},
   "outputs": [
    {
     "name": "stdout",
     "output_type": "stream",
     "text": [
      "[[1, 1, 1, 1, 1], [1, 1, 1, 1, 1], [1, 1, 1, 1, 1], [1, 1, 1, 1, 1]]\n",
      "[[0, 0], [0, 2], [1, 3], [1, 4], [2, 1], [3, 0], [3, 2], [3, 3], [3, 4]]\n"
     ]
    }
   ],
   "source": [
    "import numpy as np\n",
    "servers = [\n",
    "    [0, 1, 0, 1, 1],\n",
    "    [1, 1, 1, 0, 0],\n",
    "    [1, 0, 1, 1, 1],\n",
    "    [0, 1, 0, 0, 0]\n",
    "]\n",
    "\n",
    "updated_index = []\n",
    "def update_sever(row, column):\n",
    "    servers[row][column] = 1\n",
    "    updated_index.append([row, column])\n",
    "    return servers\n",
    "\n",
    "# A = np.array(servers)\n",
    "# print(A)\n",
    "day_counter = 0\n",
    "for i in range(len(servers)):\n",
    "    for j in range(len(servers[i])):\n",
    "        if servers[i][j] == 0:\n",
    "            servers = update_sever(row=i, column=j)\n",
    "    \n",
    "    day_counter += 1\n",
    "#         print(servers[i][j])\n",
    "print(servers)\n",
    "print(updated_index)"
   ]
  },
  {
   "cell_type": "code",
   "execution_count": 1,
   "metadata": {},
   "outputs": [
    {
     "name": "stdout",
     "output_type": "stream",
     "text": [
      "zdjhcbv sdjkfvn akdjnvsfdjksalman\n"
     ]
    }
   ],
   "source": [
    "a = \" zdjhcbv sdjkfvn akdjnvsfdjk \"\n",
    "a = a.strip()\n",
    "a += \"salman\"\n",
    "print(a)"
   ]
  },
  {
   "cell_type": "code",
   "execution_count": 15,
   "metadata": {},
   "outputs": [
    {
     "name": "stdout",
     "output_type": "stream",
     "text": [
      "Length: 100\n",
      "1 2\n",
      "Length: 99\n",
      "2 4\n",
      "Length: 98\n",
      "3 6\n",
      "Length: 97\n",
      "4 8\n",
      "Length: 96\n",
      "5 10\n",
      "Length: 95\n",
      "6 12\n",
      "Length: 94\n",
      "7 14\n",
      "Length: 93\n",
      "8 16\n",
      "Length: 92\n",
      "9 18\n",
      "Length: 91\n",
      "10 20\n",
      "Length: 90\n",
      "11 22\n",
      "Length: 89\n",
      "12 24\n",
      "Length: 88\n",
      "13 26\n",
      "Length: 87\n",
      "14 28\n",
      "Length: 86\n",
      "15 30\n",
      "Length: 85\n",
      "16 32\n",
      "Length: 84\n",
      "17 34\n",
      "Length: 83\n",
      "18 36\n",
      "Length: 82\n",
      "19 38\n",
      "Length: 81\n",
      "20 40\n",
      "Length: 80\n",
      "21 42\n",
      "Length: 79\n",
      "22 44\n",
      "Length: 78\n",
      "23 46\n",
      "Length: 77\n",
      "24 48\n",
      "Length: 76\n",
      "25 50\n",
      "Length: 75\n",
      "26 52\n",
      "Length: 74\n",
      "27 54\n",
      "Length: 73\n",
      "28 56\n",
      "Length: 72\n",
      "29 58\n",
      "Length: 71\n",
      "30 60\n",
      "Length: 70\n",
      "31 62\n",
      "Length: 69\n",
      "32 64\n",
      "Length: 68\n",
      "33 66\n",
      "Length: 67\n",
      "34 68\n",
      "Length: 66\n",
      "35 70\n",
      "Length: 65\n",
      "36 72\n",
      "Length: 64\n",
      "37 74\n",
      "Length: 63\n",
      "38 76\n",
      "Length: 62\n",
      "39 78\n",
      "Length: 61\n",
      "40 80\n",
      "Length: 60\n",
      "41 82\n",
      "Length: 59\n",
      "42 84\n",
      "Length: 58\n",
      "43 86\n",
      "Length: 57\n",
      "44 88\n",
      "Length: 56\n",
      "45 90\n",
      "Length: 55\n",
      "46 92\n",
      "Length: 54\n",
      "47 94\n",
      "Length: 53\n",
      "48 96\n",
      "Length: 52\n",
      "49 98\n",
      "Length: 51\n",
      "50 100\n",
      "Length: 50\n"
     ]
    },
    {
     "ename": "AttributeError",
     "evalue": "'list' object has no attribute 'keys'",
     "output_type": "error",
     "traceback": [
      "\u001b[1;31m---------------------------------------------------------------------------\u001b[0m",
      "\u001b[1;31mAttributeError\u001b[0m                            Traceback (most recent call last)",
      "\u001b[1;32m<ipython-input-15-77703545e11b>\u001b[0m in \u001b[0;36m<module>\u001b[1;34m\u001b[0m\n\u001b[0;32m      4\u001b[0m     \u001b[0mprint\u001b[0m\u001b[1;33m(\u001b[0m\u001b[1;34m\"Length: %s\"\u001b[0m \u001b[1;33m%\u001b[0m \u001b[0mlen\u001b[0m\u001b[1;33m(\u001b[0m\u001b[0mpeople\u001b[0m\u001b[1;33m)\u001b[0m\u001b[1;33m)\u001b[0m\u001b[1;33m\u001b[0m\u001b[1;33m\u001b[0m\u001b[0m\n\u001b[0;32m      5\u001b[0m     \u001b[1;32mif\u001b[0m \u001b[0mindex\u001b[0m \u001b[1;33m>\u001b[0m \u001b[0mlen\u001b[0m\u001b[1;33m(\u001b[0m\u001b[0mpeople\u001b[0m\u001b[1;33m)\u001b[0m\u001b[1;33m:\u001b[0m\u001b[1;33m\u001b[0m\u001b[1;33m\u001b[0m\u001b[0m\n\u001b[1;32m----> 6\u001b[1;33m         \u001b[0mkeys\u001b[0m \u001b[1;33m=\u001b[0m \u001b[0mpeople\u001b[0m\u001b[1;33m.\u001b[0m\u001b[0mkeys\u001b[0m\u001b[1;33m(\u001b[0m\u001b[1;33m)\u001b[0m\u001b[1;33m\u001b[0m\u001b[1;33m\u001b[0m\u001b[0m\n\u001b[0m\u001b[0;32m      7\u001b[0m         \u001b[0mindex\u001b[0m \u001b[1;33m=\u001b[0m \u001b[0mkey\u001b[0m\u001b[1;33m[\u001b[0m\u001b[1;36m0\u001b[0m\u001b[1;33m]\u001b[0m\u001b[1;33m\u001b[0m\u001b[1;33m\u001b[0m\u001b[0m\n\u001b[0;32m      8\u001b[0m \u001b[1;33m\u001b[0m\u001b[0m\n",
      "\u001b[1;31mAttributeError\u001b[0m: 'list' object has no attribute 'keys'"
     ]
    }
   ],
   "source": [
    "people = [i+1 for i in range(100)]\n",
    "index = 1\n",
    "for i in range(len(people)):\n",
    "    print(\"Length: %s\" % len(people))\n",
    "    if index > len(people):\n",
    "        index = 0\n",
    "    \n",
    "    print(index, people[index])\n",
    "    people.pop(index)\n",
    "    index += 1\n",
    "  \n",
    "# people.remove(2)\n",
    "people"
   ]
  },
  {
   "cell_type": "code",
   "execution_count": null,
   "metadata": {},
   "outputs": [],
   "source": []
  },
  {
   "cell_type": "code",
   "execution_count": 22,
   "metadata": {},
   "outputs": [
    {
     "name": "stdout",
     "output_type": "stream",
     "text": [
      "Length: 100\n",
      "1 2\n",
      "Length: 99\n",
      "2 3\n",
      "Length: 98\n",
      "3 4\n",
      "Length: 97\n",
      "4 5\n",
      "Length: 96\n",
      "5 6\n",
      "Length: 95\n",
      "6 7\n",
      "Length: 94\n",
      "7 8\n",
      "Length: 93\n",
      "8 9\n",
      "Length: 92\n",
      "9 10\n",
      "Length: 91\n",
      "10 11\n",
      "Length: 90\n",
      "11 12\n",
      "Length: 89\n",
      "12 13\n",
      "Length: 88\n",
      "13 14\n",
      "Length: 87\n",
      "14 15\n",
      "Length: 86\n",
      "15 16\n",
      "Length: 85\n",
      "16 17\n",
      "Length: 84\n",
      "17 18\n",
      "Length: 83\n",
      "18 19\n",
      "Length: 82\n",
      "19 20\n",
      "Length: 81\n",
      "20 21\n",
      "Length: 80\n",
      "21 22\n",
      "Length: 79\n",
      "22 23\n",
      "Length: 78\n",
      "23 24\n",
      "Length: 77\n",
      "24 25\n",
      "Length: 76\n",
      "25 26\n",
      "Length: 75\n",
      "26 27\n",
      "Length: 74\n",
      "27 28\n",
      "Length: 73\n",
      "28 29\n",
      "Length: 72\n",
      "29 30\n",
      "Length: 71\n",
      "30 31\n",
      "Length: 70\n",
      "31 32\n",
      "Length: 69\n",
      "32 33\n",
      "Length: 68\n",
      "33 34\n",
      "Length: 67\n",
      "34 35\n",
      "Length: 66\n",
      "35 36\n",
      "Length: 65\n",
      "36 37\n",
      "Length: 64\n",
      "37 38\n",
      "Length: 63\n",
      "38 39\n",
      "Length: 62\n",
      "39 40\n",
      "Length: 61\n",
      "40 41\n",
      "Length: 60\n",
      "41 42\n",
      "Length: 59\n",
      "42 43\n",
      "Length: 58\n",
      "43 44\n",
      "Length: 57\n",
      "44 45\n",
      "Length: 56\n",
      "45 46\n",
      "Length: 55\n",
      "46 47\n",
      "Length: 54\n",
      "47 48\n",
      "Length: 53\n",
      "48 49\n",
      "Length: 52\n",
      "49 50\n",
      "Length: 51\n",
      "50 51\n",
      "Length: 50\n",
      "51 52\n",
      "Length: 49\n",
      "52 53\n",
      "Length: 48\n",
      "53 54\n",
      "Length: 47\n",
      "54 55\n",
      "Length: 46\n",
      "55 56\n",
      "Length: 45\n",
      "56 57\n",
      "Length: 44\n",
      "57 58\n",
      "Length: 43\n",
      "58 59\n",
      "Length: 42\n",
      "59 60\n",
      "Length: 41\n",
      "60 61\n",
      "Length: 40\n",
      "61 62\n",
      "Length: 39\n",
      "62 63\n",
      "Length: 38\n",
      "63 64\n",
      "Length: 37\n",
      "64 65\n",
      "Length: 36\n",
      "65 66\n",
      "Length: 35\n",
      "66 67\n",
      "Length: 34\n",
      "67 68\n",
      "Length: 33\n",
      "68 69\n",
      "Length: 32\n",
      "69 70\n",
      "Length: 31\n",
      "70 71\n",
      "Length: 30\n",
      "71 72\n",
      "Length: 29\n",
      "72 73\n",
      "Length: 28\n",
      "73 74\n",
      "Length: 27\n",
      "74 75\n",
      "Length: 26\n",
      "75 76\n",
      "Length: 25\n",
      "76 77\n",
      "Length: 24\n",
      "77 78\n",
      "Length: 23\n",
      "78 79\n",
      "Length: 22\n",
      "79 80\n",
      "Length: 21\n",
      "80 81\n",
      "Length: 20\n",
      "81 82\n",
      "Length: 19\n",
      "82 83\n",
      "Length: 18\n",
      "83 84\n",
      "Length: 17\n",
      "84 85\n",
      "Length: 16\n",
      "85 86\n",
      "Length: 15\n",
      "86 87\n",
      "Length: 14\n",
      "87 88\n",
      "Length: 13\n",
      "88 89\n",
      "Length: 12\n",
      "89 90\n",
      "Length: 11\n",
      "90 91\n",
      "Length: 10\n",
      "91 92\n",
      "Length: 9\n",
      "92 93\n",
      "Length: 8\n",
      "93 94\n",
      "Length: 7\n",
      "94 95\n",
      "Length: 6\n",
      "95 96\n",
      "Length: 5\n",
      "96 97\n",
      "Length: 4\n",
      "97 98\n",
      "Length: 3\n",
      "98 99\n",
      "Length: 2\n",
      "99 100\n",
      "Length: 1\n",
      "{0: 1}\n",
      "0 1\n"
     ]
    },
    {
     "data": {
      "text/plain": [
       "{}"
      ]
     },
     "execution_count": 22,
     "metadata": {},
     "output_type": "execute_result"
    }
   ],
   "source": [
    "people = {i:i+1 for i in range(100)}\n",
    "index = 1\n",
    "for i in range(len(people)):\n",
    "    print(\"Length: %s\" % len(people))\n",
    "    if index not in people.keys():\n",
    "        t_key = list(people.keys())\n",
    "        index = t_key[0]\n",
    "        print(people)\n",
    "    print(index, people[index])\n",
    "    del people[index]\n",
    "    index += 1\n",
    "  \n",
    "# people.remove(2)\n",
    "people"
   ]
  },
  {
   "cell_type": "code",
   "execution_count": 1,
   "metadata": {},
   "outputs": [
    {
     "ename": "TypeError",
     "evalue": "round() missing required argument 'number' (pos 1)",
     "output_type": "error",
     "traceback": [
      "\u001b[1;31m---------------------------------------------------------------------------\u001b[0m",
      "\u001b[1;31mTypeError\u001b[0m                                 Traceback (most recent call last)",
      "\u001b[1;32m<ipython-input-1-776eeab594c2>\u001b[0m in \u001b[0;36m<module>\u001b[1;34m\u001b[0m\n\u001b[1;32m----> 1\u001b[1;33m \u001b[0mround\u001b[0m\u001b[1;33m(\u001b[0m\u001b[1;33m)\u001b[0m\u001b[1;33m\u001b[0m\u001b[1;33m\u001b[0m\u001b[0m\n\u001b[0m",
      "\u001b[1;31mTypeError\u001b[0m: round() missing required argument 'number' (pos 1)"
     ]
    }
   ],
   "source": [
    "round()"
   ]
  },
  {
   "cell_type": "code",
   "execution_count": 4,
   "metadata": {},
   "outputs": [
    {
     "data": {
      "text/plain": [
       "20138.56"
      ]
     },
     "execution_count": 4,
     "metadata": {},
     "output_type": "execute_result"
    }
   ],
   "source": [
    " round(20138.56,12)"
   ]
  },
  {
   "cell_type": "code",
   "execution_count": 13,
   "metadata": {},
   "outputs": [
    {
     "name": "stdout",
     "output_type": "stream",
     "text": [
      "tom\r\n",
      "dick\r\n",
      "harry\n"
     ]
    }
   ],
   "source": [
    "print('tom\\r\\ndick\\r\\nharry')"
   ]
  },
  {
   "cell_type": "code",
   "execution_count": 17,
   "metadata": {},
   "outputs": [
    {
     "name": "stdout",
     "output_type": "stream",
     "text": [
      "Help on built-in function round in module builtins:\n",
      "\n",
      "round(number, ndigits=None)\n",
      "    Round a number to a given precision in decimal digits.\n",
      "    \n",
      "    The return value is an integer if ndigits is omitted or None.  Otherwise\n",
      "    the return value has the same type as the number.  ndigits may be negative.\n",
      "\n"
     ]
    }
   ],
   "source": [
    "help(round)"
   ]
  },
  {
   "cell_type": "code",
   "execution_count": 19,
   "metadata": {},
   "outputs": [
    {
     "data": {
      "text/plain": [
       "7"
      ]
     },
     "execution_count": 19,
     "metadata": {},
     "output_type": "execute_result"
    }
   ],
   "source": [
    "x = 15//2\n",
    "x"
   ]
  },
  {
   "cell_type": "code",
   "execution_count": 21,
   "metadata": {},
   "outputs": [
    {
     "data": {
      "text/plain": [
       "1"
      ]
     },
     "execution_count": 21,
     "metadata": {},
     "output_type": "execute_result"
    }
   ],
   "source": [
    "x = 15%2\n",
    "x"
   ]
  },
  {
   "cell_type": "code",
   "execution_count": 22,
   "metadata": {},
   "outputs": [
    {
     "data": {
      "text/plain": [
       "7"
      ]
     },
     "execution_count": 22,
     "metadata": {},
     "output_type": "execute_result"
    }
   ],
   "source": [
    "x = int(15/2)\n",
    "x"
   ]
  },
  {
   "cell_type": "code",
   "execution_count": 23,
   "metadata": {},
   "outputs": [
    {
     "ename": "TypeError",
     "evalue": "unsupported operand type(s) for -: 'str' and 'str'",
     "output_type": "error",
     "traceback": [
      "\u001b[1;31m---------------------------------------------------------------------------\u001b[0m",
      "\u001b[1;31mTypeError\u001b[0m                                 Traceback (most recent call last)",
      "\u001b[1;32m<ipython-input-23-3f827f62e79d>\u001b[0m in \u001b[0;36m<module>\u001b[1;34m\u001b[0m\n\u001b[0;32m      1\u001b[0m \u001b[0ma\u001b[0m \u001b[1;33m=\u001b[0m \u001b[1;34m'love'\u001b[0m\u001b[1;33m\u001b[0m\u001b[1;33m\u001b[0m\u001b[0m\n\u001b[0;32m      2\u001b[0m \u001b[0mb\u001b[0m \u001b[1;33m=\u001b[0m \u001b[1;34m'python'\u001b[0m\u001b[1;33m\u001b[0m\u001b[1;33m\u001b[0m\u001b[0m\n\u001b[1;32m----> 3\u001b[1;33m \u001b[0ma\u001b[0m\u001b[1;33m-\u001b[0m\u001b[0mb\u001b[0m\u001b[1;33m\u001b[0m\u001b[1;33m\u001b[0m\u001b[0m\n\u001b[0m",
      "\u001b[1;31mTypeError\u001b[0m: unsupported operand type(s) for -: 'str' and 'str'"
     ]
    }
   ],
   "source": [
    "a = 'love'\n",
    "b = 'python'\n",
    "a-b"
   ]
  },
  {
   "cell_type": "code",
   "execution_count": 25,
   "metadata": {},
   "outputs": [
    {
     "name": "stdout",
     "output_type": "stream",
     "text": [
      "4.0\n"
     ]
    }
   ],
   "source": [
    "a = 8.6\n",
    "b = 2\n",
    "print(a//b)"
   ]
  },
  {
   "cell_type": "code",
   "execution_count": 41,
   "metadata": {},
   "outputs": [
    {
     "name": "stdout",
     "output_type": "stream",
     "text": [
      "Bye World\n"
     ]
    }
   ],
   "source": [
    "class Test:\n",
    "   def __init__(self):\n",
    "      print(\"Hello World\")\n",
    "   def __init__(self):\n",
    "      print(\"Bye World\")\n",
    "obj=Test()"
   ]
  },
  {
   "cell_type": "code",
   "execution_count": 46,
   "metadata": {},
   "outputs": [
    {
     "name": "stdout",
     "output_type": "stream",
     "text": [
      "c\n"
     ]
    }
   ],
   "source": [
    "a = True\n",
    "b = False\n",
    "c = False\n",
    " \n",
    "if not a or b:\n",
    "    print(\"a\")\n",
    "elif not a or not b and c:\n",
    "    print(\"b\")\n",
    "elif not a or b or not b and a:\n",
    "    print(\"c\")\n",
    "else:\n",
    "    print(\"d\")"
   ]
  },
  {
   "cell_type": "code",
   "execution_count": 49,
   "metadata": {},
   "outputs": [
    {
     "data": {
      "text/plain": [
       "25"
      ]
     },
     "execution_count": 49,
     "metadata": {},
     "output_type": "execute_result"
    }
   ],
   "source": [
    "list1 = [2, 33, 222, 14, 25]\n",
    "list1[-1]"
   ]
  },
  {
   "cell_type": "code",
   "execution_count": 52,
   "metadata": {},
   "outputs": [
    {
     "name": "stdout",
     "output_type": "stream",
     "text": [
      "13\n"
     ]
    }
   ],
   "source": [
    "import re\n",
    "sum = 0\n",
    "\n",
    "pattern = 'back'\n",
    "if re.match(pattern, 'backup.txt'):\n",
    "    sum += 1\n",
    "if re.match(pattern, 'text.back'):\n",
    "    sum += 2\n",
    "if re.search(pattern, 'backup.txt'):\n",
    "    sum += 4\n",
    "if re.search(pattern, 'text.back'):\n",
    "    sum += 8\n",
    "\n",
    "print(sum)"
   ]
  },
  {
   "cell_type": "code",
   "execution_count": 54,
   "metadata": {},
   "outputs": [
    {
     "data": {
      "text/plain": [
       "['3', '3', '3', '3', '3']"
      ]
     },
     "execution_count": 54,
     "metadata": {},
     "output_type": "execute_result"
    }
   ],
   "source": [
    "import math\n",
    "[str(round(math.pi)) for i in range (1, 6)]"
   ]
  },
  {
   "cell_type": "code",
   "execution_count": 56,
   "metadata": {},
   "outputs": [
    {
     "ename": "TypeError",
     "evalue": "'float' object is not iterable",
     "output_type": "error",
     "traceback": [
      "\u001b[1;31m---------------------------------------------------------------------------\u001b[0m",
      "\u001b[1;31mTypeError\u001b[0m                                 Traceback (most recent call last)",
      "\u001b[1;32m<ipython-input-56-bf44b4ff997a>\u001b[0m in \u001b[0;36m<module>\u001b[1;34m\u001b[0m\n\u001b[0;32m      1\u001b[0m \u001b[0mt\u001b[0m\u001b[1;33m=\u001b[0m\u001b[1;36m32.00\u001b[0m\u001b[1;33m\u001b[0m\u001b[1;33m\u001b[0m\u001b[0m\n\u001b[1;32m----> 2\u001b[1;33m \u001b[1;33m[\u001b[0m\u001b[0mround\u001b[0m\u001b[1;33m(\u001b[0m\u001b[1;33m(\u001b[0m\u001b[0mx\u001b[0m\u001b[1;33m-\u001b[0m\u001b[1;36m32\u001b[0m\u001b[1;33m)\u001b[0m\u001b[1;33m*\u001b[0m\u001b[1;36m5\u001b[0m\u001b[1;33m/\u001b[0m\u001b[1;36m9\u001b[0m\u001b[1;33m)\u001b[0m \u001b[1;32mfor\u001b[0m \u001b[0mx\u001b[0m \u001b[1;32min\u001b[0m \u001b[0mt\u001b[0m\u001b[1;33m]\u001b[0m\u001b[1;33m\u001b[0m\u001b[1;33m\u001b[0m\u001b[0m\n\u001b[0m",
      "\u001b[1;31mTypeError\u001b[0m: 'float' object is not iterable"
     ]
    }
   ],
   "source": [
    "t=32.00\n",
    "[round((x-32)*5/9) for x in t]"
   ]
  },
  {
   "cell_type": "code",
   "execution_count": 58,
   "metadata": {},
   "outputs": [
    {
     "data": {
      "text/plain": [
       "[0, 0, 0]"
      ]
     },
     "execution_count": 58,
     "metadata": {},
     "output_type": "execute_result"
    }
   ],
   "source": [
    "l1=[10, 20, 30]\n",
    "l2=[-10, -20, -30]\n",
    "l3=[x+y for x, y in zip(l1, l2)]\n",
    "l3"
   ]
  },
  {
   "cell_type": "code",
   "execution_count": 60,
   "metadata": {},
   "outputs": [
    {
     "data": {
      "text/plain": [
       "[[1, 4, 7], [2, 5, 8], [3, 6, 9]]"
      ]
     },
     "execution_count": 60,
     "metadata": {},
     "output_type": "execute_result"
    }
   ],
   "source": [
    "l=[[1 ,2, 3], [4, 5, 6], [7, 8, 9]]\n",
    "[[row[i] for row in l] for i in range(3)]"
   ]
  },
  {
   "cell_type": "code",
   "execution_count": 66,
   "metadata": {},
   "outputs": [
    {
     "name": "stdout",
     "output_type": "stream",
     "text": [
      "21\n"
     ]
    }
   ],
   "source": [
    "number_game = {}\n",
    "number_game[(3,2,5)] = 4\n",
    "number_game[(5,2,3)] = 6\n",
    "number_game[(3,2)] = 8\n",
    "sum = 0\n",
    "for k in number_game:\n",
    "    sum += number_game[k]\n",
    "print(len(number_game) + sum)"
   ]
  },
  {
   "cell_type": "code",
   "execution_count": 69,
   "metadata": {},
   "outputs": [
    {
     "name": "stdout",
     "output_type": "stream",
     "text": [
      "xav\n",
      "ti\n"
     ]
    },
    {
     "ename": "NameError",
     "evalue": "name 'dictionary' is not defined",
     "output_type": "error",
     "traceback": [
      "\u001b[1;31m---------------------------------------------------------------------------\u001b[0m",
      "\u001b[1;31mNameError\u001b[0m                                 Traceback (most recent call last)",
      "\u001b[1;32m<ipython-input-69-2a3cb7a6ffd5>\u001b[0m in \u001b[0;36m<module>\u001b[1;34m\u001b[0m\n\u001b[0;32m     10\u001b[0m     \u001b[0mprint\u001b[0m\u001b[1;33m(\u001b[0m\u001b[0mkey\u001b[0m\u001b[1;33m)\u001b[0m\u001b[1;33m\u001b[0m\u001b[1;33m\u001b[0m\u001b[0m\n\u001b[0;32m     11\u001b[0m \u001b[1;32mdel\u001b[0m \u001b[0mdictionary\u001b[0m\u001b[1;33m;\u001b[0m\u001b[1;33m\u001b[0m\u001b[1;33m\u001b[0m\u001b[0m\n\u001b[1;32m---> 12\u001b[1;33m \u001b[1;32mfor\u001b[0m \u001b[0mkey\u001b[0m\u001b[1;33m,\u001b[0m \u001b[0mvalues\u001b[0m \u001b[1;32min\u001b[0m \u001b[0mdictionary\u001b[0m\u001b[1;33m.\u001b[0m\u001b[0mitems\u001b[0m\u001b[1;33m(\u001b[0m\u001b[1;33m)\u001b[0m\u001b[1;33m:\u001b[0m\u001b[1;33m\u001b[0m\u001b[1;33m\u001b[0m\u001b[0m\n\u001b[0m\u001b[0;32m     13\u001b[0m     \u001b[0mprint\u001b[0m\u001b[1;33m(\u001b[0m\u001b[0mkey\u001b[0m\u001b[1;33m)\u001b[0m\u001b[1;33m\u001b[0m\u001b[1;33m\u001b[0m\u001b[0m\n",
      "\u001b[1;31mNameError\u001b[0m: name 'dictionary' is not defined"
     ]
    }
   ],
   "source": [
    "dictionary = {'xav' : 'Xavient Digital', \n",
    "              'tel' : 'TELUS', \n",
    "              'ti' : 'TELUS Internationals'\n",
    "              } \n",
    "del dictionary['tel']; \n",
    "for key, values in dictionary.items(): \n",
    "    print(key) \n",
    "dictionary.clear(); \n",
    "for key, values in dictionary.items(): \n",
    "    print(key) \n",
    "del dictionary; \n",
    "for key, values in dictionary.items(): \n",
    "    print(key) "
   ]
  },
  {
   "cell_type": "code",
   "execution_count": 71,
   "metadata": {},
   "outputs": [
    {
     "name": "stdout",
     "output_type": "stream",
     "text": [
      "Google 1\n",
      "Facebook 2\n",
      "Microsoft 2\n",
      "GFG 1\n",
      "Youtube 3\n"
     ]
    }
   ],
   "source": [
    "dictionary1 = {'Google' : 1, \n",
    "               'Facebook' : 2, \n",
    "               'Microsoft' : 3\n",
    "               } \n",
    "dictionary2 = {'GFG' : 1, \n",
    "               'Microsoft' : 2, \n",
    "               'Youtube' : 3\n",
    "               } \n",
    "dictionary1.update(dictionary2); \n",
    "for key, values in dictionary1.items(): \n",
    "    print(key, values) "
   ]
  },
  {
   "cell_type": "code",
   "execution_count": 74,
   "metadata": {},
   "outputs": [
    {
     "name": "stdout",
     "output_type": "stream",
     "text": [
      "Enter number of elements:4\n",
      "Enter element:7\n",
      "Enter element:12\n",
      "Enter element:9\n",
      "Enter element:3\n",
      "Second largest number is: 9\n"
     ]
    },
    {
     "data": {
      "text/plain": [
       "9"
      ]
     },
     "execution_count": 74,
     "metadata": {},
     "output_type": "execute_result"
    }
   ],
   "source": [
    "a=[]\n",
    "n=int(input(\"Enter number of elements:\"))\n",
    "for i in range(1,n+1):\n",
    "    b=int(input(\"Enter element:\"))\n",
    "    a.append(b)\n",
    "for i in range(0,len(a)):\n",
    "    for j in range(0,len(a)-1):\n",
    "        if(a[j]>a[j+1]):\n",
    "            temp=a[j]\n",
    "            a[j]=a[j+1]\n",
    "            a[j+1]=temp \n",
    "print(a[-2])\n",
    "a[-2]\n",
    "nothing to add\n",
    "just a[2]\n",
    "or"
   ]
  },
  {
   "cell_type": "code",
   "execution_count": 1,
   "metadata": {},
   "outputs": [
    {
     "name": "stdout",
     "output_type": "stream",
     "text": [
      "Cost is 1710.0\n"
     ]
    }
   ],
   "source": [
    "quantity = 19\n",
    "if quantity*100 > 1000:\n",
    "  print(\"Cost is\",((quantity*100)-(.1*quantity*100)))\n",
    "else:\n",
    "  print(\"Cost is\",quantity*100)"
   ]
  },
  {
   "cell_type": "code",
   "execution_count": 4,
   "metadata": {},
   "outputs": [
    {
     "name": "stdout",
     "output_type": "stream",
     "text": [
      "Number is greater than 0\n",
      "4\n",
      "Number is greater than 4\n",
      "8\n",
      "Number is greater than 8\n",
      "9\n",
      "Number of tries: 3\n"
     ]
    }
   ],
   "source": [
    "import random\n",
    "target_num = random.randint(1, 10)\n",
    "counter = 0\n",
    "guess_num = 0\n",
    "guessed = False\n",
    "while not guessed:\n",
    "    if guess_num > target_num:\n",
    "        print(\"Number is less than {}\".format(guess_num))\n",
    "        guess_num = int(input())\n",
    "        counter += 1\n",
    "    elif guess_num < target_num:\n",
    "        print(\"Number is greater than {}\".format(guess_num))\n",
    "        guess_num = int(input())\n",
    "        counter += 1\n",
    "    else:\n",
    "        guessed = True\n",
    "print('Number of tries: {}'.format(counter))"
   ]
  },
  {
   "cell_type": "code",
   "execution_count": 12,
   "metadata": {},
   "outputs": [
    {
     "name": "stdout",
     "output_type": "stream",
     "text": [
      "Value of x: 0\n",
      "Value of x: 1\n",
      "1 Value of x: 2\n",
      "Value of x: 3\n",
      "Value of x: 4\n",
      "Value of x: 5\n",
      "5 Value of x: 6\n",
      "Value of x: 7\n",
      "7 Value of x: 8\n",
      "\n",
      "\n"
     ]
    }
   ],
   "source": [
    "for x in range(9):\n",
    "    print('Value of x: {}'.format(x))\n",
    "    if (x == 3 or x==6):\n",
    "        continue\n",
    "    if not (x % 2):\n",
    "        continue\n",
    "    print(x,end=' ')\n",
    "print(\"\\n\")"
   ]
  },
  {
   "cell_type": "code",
   "execution_count": 14,
   "metadata": {},
   "outputs": [
    {
     "data": {
      "text/plain": [
       "(1, 2, 3)"
      ]
     },
     "execution_count": 14,
     "metadata": {},
     "output_type": "execute_result"
    }
   ],
   "source": [
    "a = 1,2,3\n",
    "a"
   ]
  },
  {
   "cell_type": "code",
   "execution_count": 15,
   "metadata": {},
   "outputs": [
    {
     "name": "stdout",
     "output_type": "stream",
     "text": [
      "Input a dog's age in human years: 3\n",
      "The dog's age in dog's years is 25\n"
     ]
    }
   ],
   "source": [
    "h_age = int(input(\"Input a dog's age in human years: \"))\n",
    "\n",
    "if h_age < 0:\n",
    "    print(\"Age must be positive number.\")\n",
    "    exit()\n",
    "elif h_age <= 2:\n",
    "    d_age = h_age * 10.5\n",
    "else:\n",
    "    d_age = 21 + (h_age - 2)*4\n",
    "\n",
    "print(\"The dog's age in dog's years is\", d_age)"
   ]
  },
  {
   "cell_type": "code",
   "execution_count": 16,
   "metadata": {},
   "outputs": [
    {
     "name": "stdout",
     "output_type": "stream",
     "text": [
      "Bye World\n"
     ]
    }
   ],
   "source": [
    "a = 10\n",
    "def check_global():\n",
    "    a = 20\n",
    "    print(\"Global Variable: \")\n",
    "    return a\n",
    "\n",
    "class CheckMultipleMethods():\n",
    "    def __init__(self):\n",
    "        print(\"Hello World\")\n",
    "    def __init__(self):\n",
    "        print(\"Bye World\")\n",
    "\n",
    "a = CheckMultipleMethods()"
   ]
  },
  {
   "cell_type": "code",
   "execution_count": 17,
   "metadata": {},
   "outputs": [
    {
     "name": "stdout",
     "output_type": "stream",
     "text": [
      "Help on built-in function round in module builtins:\n",
      "\n",
      "round(number, ndigits=None)\n",
      "    Round a number to a given precision in decimal digits.\n",
      "    \n",
      "    The return value is an integer if ndigits is omitted or None.  Otherwise\n",
      "    the return value has the same type as the number.  ndigits may be negative.\n",
      "\n"
     ]
    }
   ],
   "source": [
    "help(round)"
   ]
  },
  {
   "cell_type": "code",
   "execution_count": 23,
   "metadata": {},
   "outputs": [
    {
     "name": "stdout",
     "output_type": "stream",
     "text": [
      "True\n",
      "True\n",
      "False\n",
      "True\n",
      "False\n"
     ]
    }
   ],
   "source": [
    "x = 0\n",
    "y = 3\n",
    "z = 9\n",
    "\n",
    "print(x == 0)\n",
    "print(x != 9)\n",
    "print(x != 2 and y >= 8)\n",
    "print(z != 1 or x == 7)\n",
    "print(not (y < 7))"
   ]
  },
  {
   "cell_type": "code",
   "execution_count": 2,
   "metadata": {},
   "outputs": [
    {
     "name": "stdout",
     "output_type": "stream",
     "text": [
      "x%2 0\n",
      "x%2 1\n",
      "1 x%2 0\n",
      "x%2 0\n",
      "x%2 1\n",
      "5 x%2 1\n",
      "7 x%2 0\n",
      "\n",
      "\n"
     ]
    }
   ],
   "source": [
    "for x in range(9):\n",
    "    if (x == 3 or x==6):\n",
    "        continue\n",
    "    print(\"x%2\", (x % 2))\n",
    "    if not (x % 2):\n",
    "        continue\n",
    "    print(x,end=' ')\n",
    "print(\"\\n\")"
   ]
  },
  {
   "cell_type": "code",
   "execution_count": 5,
   "metadata": {},
   "outputs": [
    {
     "name": "stdout",
     "output_type": "stream",
     "text": [
      "Number is greater than 0\n",
      "2\n",
      "Number is greater than 2\n",
      "5\n",
      "Number is greater than 5\n",
      "8\n",
      "Number is greater than 8\n",
      "9\n",
      "Number is greater than 9\n",
      "10\n",
      "Number of tries: 5\n"
     ]
    }
   ],
   "source": [
    "import random\n",
    "target_num = random.randint(1, 10)\n",
    "counter = 0\n",
    "guess_num = 0\n",
    "guessed = False\n",
    "while not guessed:\n",
    "    if guess_num > target_num:\n",
    "        print(\"Number is less than {}\".format(guess_num))\n",
    "        guess_num = int(input())\n",
    "        counter += 1\n",
    "    elif guess_num < target_num:\n",
    "        print(\"Number is greater than {}\".format(guess_num))\n",
    "        guess_num = int(input())\n",
    "        counter += 1\n",
    "    else:\n",
    "        guessed = True\n",
    "print('Number of tries: {}'.format(counter))"
   ]
  },
  {
   "cell_type": "code",
   "execution_count": 12,
   "metadata": {},
   "outputs": [
    {
     "name": "stdout",
     "output_type": "stream",
     "text": [
      "\n",
      "K\n"
     ]
    }
   ],
   "source": [
    "if print(\"\"):\n",
    "    print(\"J\")\n",
    "else:\n",
    "    print(\"K\")"
   ]
  },
  {
   "cell_type": "code",
   "execution_count": 4,
   "metadata": {},
   "outputs": [
    {
     "name": "stdout",
     "output_type": "stream",
     "text": [
      "Hello\n"
     ]
    }
   ],
   "source": [
    "if not False:\n",
    "    print(\"Hello\")"
   ]
  },
  {
   "cell_type": "code",
   "execution_count": null,
   "metadata": {},
   "outputs": [],
   "source": []
  },
  {
   "cell_type": "code",
   "execution_count": null,
   "metadata": {},
   "outputs": [],
   "source": []
  },
  {
   "cell_type": "code",
   "execution_count": null,
   "metadata": {},
   "outputs": [],
   "source": []
  },
  {
   "cell_type": "code",
   "execution_count": null,
   "metadata": {},
   "outputs": [],
   "source": []
  },
  {
   "cell_type": "code",
   "execution_count": null,
   "metadata": {},
   "outputs": [],
   "source": []
  },
  {
   "cell_type": "code",
   "execution_count": null,
   "metadata": {},
   "outputs": [],
   "source": []
  },
  {
   "cell_type": "code",
   "execution_count": null,
   "metadata": {},
   "outputs": [],
   "source": []
  },
  {
   "cell_type": "code",
   "execution_count": 23,
   "metadata": {},
   "outputs": [
    {
     "name": "stdout",
     "output_type": "stream",
     "text": [
      "J\n"
     ]
    }
   ],
   "source": [
    "if print(\"\"):\n",
    "    print(\"J\")\n",
    "else:\n",
    "    print(\"K\")"
   ]
  },
  {
   "cell_type": "code",
   "execution_count": 37,
   "metadata": {},
   "outputs": [
    {
     "name": "stdout",
     "output_type": "stream",
     "text": [
      "1st condition is  True\n",
      "\n",
      "3rd condition is  False\n",
      "5th Condition is  False\n",
      "6th Condition is  False\n",
      "7th Condition is  True\n",
      "8th Condition is  True\n",
      "9th Condition is  False\n"
     ]
    }
   ],
   "source": [
    "i = 1\n",
    "j =23\n",
    "string = \"I lovee python.\"\n",
    "if -i:\n",
    "    print(\"1st condition is \", True)\n",
    "if print(\"\"):\n",
    "    print(\"2nd condition is \", True)\n",
    "if j % 21:\n",
    "    print(\"3rd condition is \", not True)\n",
    "if j % 23:\n",
    "    print(\"4th condition is \", True)\n",
    "if( (-100 and 100) or (20 and -20) ):\n",
    "    print(\"5th Condition is \", not True)\n",
    "if int(-j):\n",
    "    print(\"6th Condition is \", not True)\n",
    "if [1, 2, 3] != (1, 2, 3):\n",
    "    print(\"7th Condition is \", True)\n",
    "if 'love' in string:\n",
    "    print(\"8th Condition is \", True)\n",
    "if  'python.' in string:\n",
    "    print(\"9th Condition is \", False)\n"
   ]
  },
  {
   "cell_type": "code",
   "execution_count": 20,
   "metadata": {},
   "outputs": [
    {
     "name": "stdout",
     "output_type": "stream",
     "text": [
      "Help on built-in function print in module builtins:\n",
      "\n",
      "print(...)\n",
      "    print(value, ..., sep=' ', end='\\n', file=sys.stdout, flush=False)\n",
      "    \n",
      "    Prints the values to a stream, or to sys.stdout by default.\n",
      "    Optional keyword arguments:\n",
      "    file:  a file-like object (stream); defaults to the current sys.stdout.\n",
      "    sep:   string inserted between values, default a space.\n",
      "    end:   string appended after the last value, default a newline.\n",
      "    flush: whether to forcibly flush the stream.\n",
      "\n"
     ]
    }
   ],
   "source": [
    "help(print)"
   ]
  },
  {
   "cell_type": "code",
   "execution_count": 29,
   "metadata": {},
   "outputs": [
    {
     "name": "stdout",
     "output_type": "stream",
     "text": [
      "1st condition is  True\n",
      "\n",
      "3rd condition is  False\n",
      "5th Condition is  False\n",
      "6th Condition is  False\n",
      "7th Condition is  True\n",
      "8th Condition is  True\n",
      "9th Condition is  False\n"
     ]
    }
   ],
   "source": [
    "i = 1\n",
    "j = 23\n",
    "string = \"I lovee python.\"\n",
    "if -i:\n",
    "    print(\"1st condition is \", True)\n",
    "if print(\"\"):\n",
    "    print(\"2nd condition is \", True)\n",
    "if j % 21:\n",
    "    print(\"3rd condition is \", not True)\n",
    "if j % 23:\n",
    "    print(\"4th condition is \", True)\n",
    "if( (-100 and 100) or (20 and -20) ):\n",
    "    print(\"5th Condition is \", not True)\n",
    "if int(-j):\n",
    "    print(\"6th Condition is \", not True)\n",
    "if [1, 2, 3] != (1, 2, 3):\n",
    "    print(\"7th Condition is \", True)\n",
    "if 'love' in string:\n",
    "    print(\"8th Condition is \", True)\n",
    "if  'python.' in string:\n",
    "    print(\"9th Condition is \", False)\n",
    "if [1,2] == [2,1]:\n",
    "    print(\"10th Condition is \", not True)"
   ]
  },
  {
   "cell_type": "code",
   "execution_count": 41,
   "metadata": {},
   "outputs": [
    {
     "name": "stdout",
     "output_type": "stream",
     "text": [
      "K\n"
     ]
    }
   ],
   "source": [
    "if [1,2] == [2,1]:\n",
    "    print(\"J\")\n",
    "else:\n",
    "    print(\"K\")"
   ]
  },
  {
   "cell_type": "markdown",
   "metadata": {},
   "source": [
    "## LISTS and Tuples"
   ]
  },
  {
   "cell_type": "code",
   "execution_count": 48,
   "metadata": {},
   "outputs": [
    {
     "ename": "ValueError",
     "evalue": "attempt to assign sequence of size 6 to extended slice of size 5",
     "output_type": "error",
     "traceback": [
      "\u001b[1;31m---------------------------------------------------------------------------\u001b[0m",
      "\u001b[1;31mValueError\u001b[0m                                Traceback (most recent call last)",
      "\u001b[1;32m<ipython-input-48-39f4392946dc>\u001b[0m in \u001b[0;36m<module>\u001b[1;34m\u001b[0m\n\u001b[0;32m      1\u001b[0m \u001b[0mx\u001b[0m \u001b[1;33m=\u001b[0m \u001b[1;33m[\u001b[0m\u001b[1;36m1\u001b[0m\u001b[1;33m,\u001b[0m\u001b[1;36m2\u001b[0m\u001b[1;33m,\u001b[0m\u001b[1;36m3\u001b[0m\u001b[1;33m,\u001b[0m\u001b[1;36m4\u001b[0m\u001b[1;33m,\u001b[0m\u001b[1;36m5\u001b[0m\u001b[1;33m,\u001b[0m\u001b[1;36m6\u001b[0m\u001b[1;33m,\u001b[0m\u001b[1;36m7\u001b[0m\u001b[1;33m,\u001b[0m\u001b[1;36m8\u001b[0m\u001b[1;33m,\u001b[0m\u001b[1;36m9\u001b[0m\u001b[1;33m]\u001b[0m\u001b[1;33m\u001b[0m\u001b[1;33m\u001b[0m\u001b[0m\n\u001b[1;32m----> 2\u001b[1;33m \u001b[0mx\u001b[0m\u001b[1;33m[\u001b[0m\u001b[1;33m:\u001b[0m\u001b[1;33m:\u001b[0m\u001b[1;36m2\u001b[0m\u001b[1;33m]\u001b[0m \u001b[1;33m=\u001b[0m \u001b[1;36m10\u001b[0m\u001b[1;33m,\u001b[0m\u001b[1;36m20\u001b[0m\u001b[1;33m,\u001b[0m\u001b[1;36m30\u001b[0m\u001b[1;33m,\u001b[0m\u001b[1;36m40\u001b[0m\u001b[1;33m,\u001b[0m\u001b[1;36m50\u001b[0m\u001b[1;33m,\u001b[0m\u001b[1;36m60\u001b[0m\u001b[1;33m\u001b[0m\u001b[1;33m\u001b[0m\u001b[0m\n\u001b[0m\u001b[0;32m      3\u001b[0m \u001b[0mprint\u001b[0m\u001b[1;33m(\u001b[0m\u001b[0mx\u001b[0m\u001b[1;33m)\u001b[0m\u001b[1;33m\u001b[0m\u001b[1;33m\u001b[0m\u001b[0m\n",
      "\u001b[1;31mValueError\u001b[0m: attempt to assign sequence of size 6 to extended slice of size 5"
     ]
    }
   ],
   "source": [
    "x = [1,2,3,4,5,6,7,8,9]\n",
    "x[::2] = 10,20,30,40,50,60\n",
    "print(x)"
   ]
  },
  {
   "cell_type": "code",
   "execution_count": 49,
   "metadata": {},
   "outputs": [
    {
     "name": "stdout",
     "output_type": "stream",
     "text": [
      "[4, 3, 2]\n"
     ]
    }
   ],
   "source": [
    "a=[1,2,3,4,5]\n",
    "print(a[3:0:-1])"
   ]
  },
  {
   "cell_type": "code",
   "execution_count": 31,
   "metadata": {},
   "outputs": [
    {
     "name": "stdout",
     "output_type": "stream",
     "text": [
      "3 44\n"
     ]
    }
   ],
   "source": [
    "def fun(value, values):\n",
    "    v = 1\n",
    "    values[0] = 44\n",
    "t = 3\n",
    "v = [1, 2, 3]\n",
    "temp = fun(t, v)\n",
    "print(t, v[0])"
   ]
  },
  {
   "cell_type": "code",
   "execution_count": 93,
   "metadata": {},
   "outputs": [
    {
     "name": "stdout",
     "output_type": "stream",
     "text": [
      "4\n"
     ]
    }
   ],
   "source": [
    "data = [[[1, 2], [3, 4]], [[5, 6], [7, 8]]]\n",
    "def fun(val):\n",
    "    v = val[0][0]\n",
    "\n",
    "    for row in val:\n",
    "        for element in row:\n",
    "            if v < element: \n",
    "                v = element\n",
    "\n",
    "    return v\n",
    "print(fun(data[0]))"
   ]
  },
  {
   "cell_type": "code",
   "execution_count": 53,
   "metadata": {},
   "outputs": [
    {
     "name": "stdout",
     "output_type": "stream",
     "text": [
      "[1]\n",
      "[1, 2]\n",
      "[1, 2, 3]\n"
     ]
    },
    {
     "data": {
      "text/plain": [
       "[1, 2, 3]"
      ]
     },
     "execution_count": 53,
     "metadata": {},
     "output_type": "execute_result"
    }
   ],
   "source": [
    "def fun(val, values = []):\n",
    "    values.append(val)\n",
    "    print(values)\n",
    "    return values\n",
    "fun(1)\n",
    "fun(2)\n",
    "fun(3)"
   ]
  },
  {
   "cell_type": "code",
   "execution_count": 54,
   "metadata": {},
   "outputs": [
    {
     "name": "stdout",
     "output_type": "stream",
     "text": [
      "0\n"
     ]
    }
   ],
   "source": [
    "init_tuple = ()\n",
    "print (init_tuple.__len__())"
   ]
  },
  {
   "cell_type": "code",
   "execution_count": 55,
   "metadata": {},
   "outputs": [
    {
     "name": "stdout",
     "output_type": "stream",
     "text": [
      "True\n"
     ]
    }
   ],
   "source": [
    "init_tuple_a = 'a', 'b'\n",
    "init_tuple_b = ('a', 'b')\n",
    "\n",
    "print (init_tuple_a == init_tuple_b)"
   ]
  },
  {
   "cell_type": "code",
   "execution_count": 56,
   "metadata": {},
   "outputs": [
    {
     "name": "stdout",
     "output_type": "stream",
     "text": [
      "('1', '2', '3', '4')\n"
     ]
    }
   ],
   "source": [
    "init_tuple_a = '1', '2'\n",
    "init_tuple_b = ('3', '4')\n",
    "\n",
    "print (init_tuple_a + init_tuple_b)"
   ]
  },
  {
   "cell_type": "code",
   "execution_count": 94,
   "metadata": {},
   "outputs": [
    {
     "name": "stdout",
     "output_type": "stream",
     "text": [
      "10\n"
     ]
    },
    {
     "data": {
      "text/plain": [
       "[None]"
      ]
     },
     "execution_count": 94,
     "metadata": {},
     "output_type": "execute_result"
    }
   ],
   "source": [
    "init_tuple_a = 1, 2\n",
    "init_tuple_b = (3, 4)\n",
    "\n",
    "b = [print(sum(x)) for x in [init_tuple_a + init_tuple_b]]"
   ]
  },
  {
   "cell_type": "code",
   "execution_count": 61,
   "metadata": {},
   "outputs": [
    {
     "name": "stdout",
     "output_type": "stream",
     "text": [
      "6\n"
     ]
    }
   ],
   "source": [
    "init_tuple = [(0, 1), (1, 2), (2, 3)]\n",
    "result = sum(n for _, n in init_tuple)\n",
    "\n",
    "print(result)"
   ]
  },
  {
   "cell_type": "code",
   "execution_count": 95,
   "metadata": {},
   "outputs": [
    {
     "name": "stdout",
     "output_type": "stream",
     "text": [
      "()\n"
     ]
    }
   ],
   "source": [
    "lst = [1, 2, 3]\n",
    "init_tuple = ('Python',) * (lst.__len__() - lst[::-1][0])\n",
    "print(init_tuple)"
   ]
  },
  {
   "cell_type": "code",
   "execution_count": 68,
   "metadata": {},
   "outputs": [
    {
     "name": "stdout",
     "output_type": "stream",
     "text": [
      "<class 'tuple'>\n",
      "('Python', 'is', 'Python', 'is', 'Python', 'is')\n"
     ]
    }
   ],
   "source": [
    "init_tuple = ('Python', 'is') * 3\n",
    "\n",
    "print(type(init_tuple))\n",
    "print(init_tuple)"
   ]
  },
  {
   "cell_type": "code",
   "execution_count": 69,
   "metadata": {},
   "outputs": [
    {
     "name": "stdout",
     "output_type": "stream",
     "text": [
      "<class 'str'>\n",
      "PythonPythonPython\n"
     ]
    }
   ],
   "source": [
    "init_tuple = ('Python') * 3\n",
    "\n",
    "print(type(init_tuple))\n",
    "print(init_tuple)"
   ]
  },
  {
   "cell_type": "code",
   "execution_count": 71,
   "metadata": {},
   "outputs": [
    {
     "name": "stdout",
     "output_type": "stream",
     "text": [
      "1\n"
     ]
    }
   ],
   "source": [
    "a = {(1,2):1,(2,3):2}\n",
    "print(a[1,2])"
   ]
  },
  {
   "cell_type": "code",
   "execution_count": 72,
   "metadata": {},
   "outputs": [
    {
     "data": {
      "text/plain": [
       "'z'"
      ]
     },
     "execution_count": 72,
     "metadata": {},
     "output_type": "execute_result"
    }
   ],
   "source": [
    "x = [10, [3.141, 20, [30, 'baz', 2.718]], 'foo']\n",
    "x[1][2][1][2]"
   ]
  },
  {
   "cell_type": "code",
   "execution_count": 37,
   "metadata": {},
   "outputs": [
    {
     "data": {
      "text/plain": [
       "['a', 'b', 'c', 'd', 'e', '1']"
      ]
     },
     "execution_count": 37,
     "metadata": {},
     "output_type": "execute_result"
    }
   ],
   "source": [
    "a = ['a', 'b', 'c', 'd', 'e']\n",
    "a += '1'\n",
    "a"
   ]
  },
  {
   "cell_type": "code",
   "execution_count": 84,
   "metadata": {},
   "outputs": [
    {
     "data": {
      "text/plain": [
       "[1, 2, 3, 4, 5, 6, 7, 8, 9]"
      ]
     },
     "execution_count": 84,
     "metadata": {},
     "output_type": "execute_result"
    }
   ],
   "source": [
    "a = [1, 2, 3,  8, 9]\n",
    "a[3:3] = [4, 5, 6, 7]\n",
    "a"
   ]
  },
  {
   "cell_type": "code",
   "execution_count": 80,
   "metadata": {},
   "outputs": [
    {
     "data": {
      "text/plain": [
       "('foo',)"
      ]
     },
     "execution_count": 80,
     "metadata": {},
     "output_type": "execute_result"
    }
   ],
   "source": [
    "t = ('foo',)\n",
    "t"
   ]
  },
  {
   "cell_type": "code",
   "execution_count": 105,
   "metadata": {},
   "outputs": [
    {
     "name": "stdout",
     "output_type": "stream",
     "text": [
      "2\n",
      "5\n",
      "8\n"
     ]
    }
   ],
   "source": [
    "a, b, c = (1, 2, 3, 4, 5, 6, 7, 8, 9)[1::3]\n",
    "print(a)\n",
    "print(b)\n",
    "print(c)"
   ]
  },
  {
   "cell_type": "code",
   "execution_count": 107,
   "metadata": {},
   "outputs": [
    {
     "name": "stdout",
     "output_type": "stream",
     "text": [
      "((1, 2), (1, 2), (1, 2), (1, 2), (1, 2), (1, 2), (1, 2))\n",
      "4\n"
     ]
    }
   ],
   "source": [
    "init_tuple = ((1, 2),) * 7\n",
    "print(init_tuple)\n",
    "print(len(init_tuple[3:8]))"
   ]
  },
  {
   "cell_type": "code",
   "execution_count": 108,
   "metadata": {},
   "outputs": [
    {
     "name": "stdout",
     "output_type": "stream",
     "text": [
      "<generator object <genexpr> at 0x0000020BC67D7A98>\n",
      "<class 'generator'>\n"
     ]
    }
   ],
   "source": [
    "x = (x **2 for x in range(20))\n",
    "print(x)\n",
    "print(type(x))"
   ]
  },
  {
   "cell_type": "markdown",
   "metadata": {},
   "source": [
    "## Python Function"
   ]
  },
  {
   "cell_type": "code",
   "execution_count": 33,
   "metadata": {},
   "outputs": [
    {
     "name": "stdout",
     "output_type": "stream",
     "text": [
      "53\n"
     ]
    }
   ],
   "source": [
    "def sum(numbers):\n",
    "    total = 0\n",
    "    for x in numbers:\n",
    "        total += x\n",
    "    return total\n",
    "print(sum((20, 30, 1, 2, 0)))"
   ]
  },
  {
   "cell_type": "code",
   "execution_count": null,
   "metadata": {},
   "outputs": [],
   "source": [
    "def f1( x, y ):\n",
    "    if x > y:\n",
    "        return x\n",
    "    return y\n",
    "def f2( x, y, z ):\n",
    "    return f1( x, f1( y, z ) )\n",
    "print(f2(3, 6, -5))"
   ]
  },
  {
   "cell_type": "code",
   "execution_count": 34,
   "metadata": {},
   "outputs": [
    {
     "name": "stdout",
     "output_type": "stream",
     "text": [
      " 51.0 is in the range.\n"
     ]
    }
   ],
   "source": [
    "def test_range(n):\n",
    "    if n in range(21,91):\n",
    "        print(\" %s is in the range.\"%str(n))\n",
    "    else :\n",
    "        print(\"The number is outside the given range.\")\n",
    "test_range(51.0)"
   ]
  },
  {
   "cell_type": "code",
   "execution_count": 35,
   "metadata": {},
   "outputs": [
    {
     "name": "stdout",
     "output_type": "stream",
     "text": [
      "[1, 2, 3, 4, 5]\n"
     ]
    }
   ],
   "source": [
    "def f1(l):\n",
    "  x = []\n",
    "  for a in l:\n",
    "    if a not in x:\n",
    "      x.append(a)\n",
    "  return x\n",
    "\n",
    "print(f1([1,2,3,3,3,3,4,5])) "
   ]
  },
  {
   "cell_type": "code",
   "execution_count": 38,
   "metadata": {},
   "outputs": [
    {
     "name": "stdout",
     "output_type": "stream",
     "text": [
      "[2, 4, 6, 8]\n"
     ]
    }
   ],
   "source": [
    "def is_even_num(l):\n",
    "    enum = []\n",
    "    for n in l:\n",
    "        if n % 2 == 0:\n",
    "            enum.append(n)\n",
    "    return enum\n",
    "print(is_even_num([1, 2, 3, 4, 5, 6, 7, 8, 9]))"
   ]
  },
  {
   "cell_type": "code",
   "execution_count": 42,
   "metadata": {},
   "outputs": [
    {
     "name": "stdout",
     "output_type": "stream",
     "text": [
      "[441, 484, 529, 576, 625, 676, 729, 784, 841, 900]\n"
     ]
    }
   ],
   "source": [
    "def printValues():\n",
    "    l = list()\n",
    "    for i in range(21,31):\n",
    "        l.append(i**2)\n",
    "        continue\n",
    "    print(l)\n",
    "printValues()"
   ]
  },
  {
   "cell_type": "markdown",
   "metadata": {},
   "source": [
    "### Gaining a Deeper Understanding of Python Functions"
   ]
  },
  {
   "cell_type": "code",
   "execution_count": 62,
   "metadata": {},
   "outputs": [
    {
     "name": "stdout",
     "output_type": "stream",
     "text": [
      "<b><i><u>hello world</u></i></b>\n"
     ]
    }
   ],
   "source": [
    "\n",
    "# Write a Python program to make a chain of function decorators (bold, italic, underline etc.) in Python.\n",
    "def make_bold(fn):\n",
    "    def wrapped():\n",
    "        return \"<b>\" + fn() + \"</b>\"\n",
    "    return wrapped\n",
    "\n",
    "def make_italic(fn):\n",
    "    def wrapped():\n",
    "        return \"<i>\" + fn() + \"</i>\"\n",
    "    return wrapped\n",
    "\n",
    "def make_underline(fn):\n",
    "    def wrapped():\n",
    "        return \"<u>\" + fn() + \"</u>\"\n",
    "    return wrapped\n",
    "@make_bold\n",
    "@make_italic\n",
    "@make_underline\n",
    "def hello():\n",
    "    return \"hello world\"\n",
    "print(hello()) ## returns \"<b><i><u>hello world</u></i></b>\""
   ]
  },
  {
   "cell_type": "code",
   "execution_count": 64,
   "metadata": {},
   "outputs": [
    {
     "name": "stdout",
     "output_type": "stream",
     "text": [
      "9\n"
     ]
    }
   ],
   "source": [
    "def f1(a):\n",
    "        def f2(b):\n",
    "                nonlocal a\n",
    "                a += 1\n",
    "\n",
    "                return a+b\n",
    "        return f2\n",
    "func= f1(4)\n",
    "print(func(4))"
   ]
  },
  {
   "cell_type": "code",
   "execution_count": 65,
   "metadata": {},
   "outputs": [
    {
     "name": "stdout",
     "output_type": "stream",
     "text": [
      "hello world\n",
      "Multiply of 2 and 3 is:  6\n"
     ]
    }
   ],
   "source": [
    "# Write a Python program to execute a string containing Python code.\n",
    "mycode = 'print(\"hello world\")'\n",
    "code = \"\"\"\n",
    "def mutiply(x,y):\n",
    "    return x*y\n",
    "\n",
    "print('Multiply of 2 and 3 is: ',mutiply(2,3))\n",
    "\"\"\"\n",
    "exec(mycode)\n",
    "exec(code)"
   ]
  },
  {
   "cell_type": "code",
   "execution_count": 66,
   "metadata": {},
   "outputs": [
    {
     "name": "stdout",
     "output_type": "stream",
     "text": [
      "3\n"
     ]
    }
   ],
   "source": [
    "# Write a Python program to detect the number of local variables declared in a function.\n",
    "def abc():\n",
    "    x = 1\n",
    "    y = 2\n",
    "    str1= \"w3resource\"\n",
    "    print(\"Python Exercises\")\n",
    "\n",
    "print(abc.__code__.co_nlocals)"
   ]
  },
  {
   "cell_type": "code",
   "execution_count": 68,
   "metadata": {},
   "outputs": [
    {
     "name": "stdout",
     "output_type": "stream",
     "text": [
      "29\n",
      "88\n"
     ]
    }
   ],
   "source": [
    "# Write a Python program to create a lambda function that adds 15 to a given number passed in as an argument, also create a lambda function that multiplies argument x with argument y and print the result.\n",
    "r = lambda a : a + 19\n",
    "print(r(10))\n",
    "r = lambda x, y : x * y\n",
    "print(r(11, 8))"
   ]
  },
  {
   "cell_type": "code",
   "execution_count": 70,
   "metadata": {},
   "outputs": [
    {
     "name": "stdout",
     "output_type": "stream",
     "text": [
      "30\n",
      "45\n",
      "60\n",
      "75\n"
     ]
    }
   ],
   "source": [
    "# Write a Python program to create a function that takes one argument, and that argument will be multiplied with an unknown given number.\n",
    "def f1(n):\n",
    " return lambda x : x * n\n",
    "result = f1(2)\n",
    "print(result(15))\n",
    "result = func_compute(3)\n",
    "print(result(15))\n",
    "result = func_compute(4)\n",
    "print(result(15))\n",
    "result = func_compute(5)\n",
    "print(result(15))"
   ]
  },
  {
   "cell_type": "code",
   "execution_count": 72,
   "metadata": {},
   "outputs": [
    {
     "name": "stdout",
     "output_type": "stream",
     "text": [
      "True\n",
      "True\n",
      "False\n",
      "True\n",
      "False\n",
      "True\n",
      "True\n",
      "True\n"
     ]
    }
   ],
   "source": [
    "# Write a Python program to check whether a given string is number or not using Lambda.\n",
    "is_num = lambda q: q.replace('.','',1).isdigit()\n",
    "print(is_num('26587'))\n",
    "print(is_num('4.2365'))\n",
    "print(is_num('-12547'))\n",
    "print(is_num('00'))\n",
    "print(is_num('A001'))\n",
    "print(is_num('001'))\n",
    "is_num1 = lambda r: is_num(r[1:]) if r[0]=='-' else is_num(r)\n",
    "print(is_num1('-16.4'))\n",
    "print(is_num1('-24587.11'))"
   ]
  },
  {
   "cell_type": "markdown",
   "metadata": {},
   "source": [
    "### Working with Advanced Features of Python Functions"
   ]
  },
  {
   "cell_type": "code",
   "execution_count": null,
   "metadata": {},
   "outputs": [],
   "source": [
    "type() help()"
   ]
  },
  {
   "cell_type": "code",
   "execution_count": null,
   "metadata": {},
   "outputs": [],
   "source": [
    "# correct syntax of functions in python\n",
    "def <function_name>(<parameter_list>):\n",
    "    <body>"
   ]
  },
  {
   "cell_type": "code",
   "execution_count": 78,
   "metadata": {},
   "outputs": [
    {
     "data": {
      "text/plain": [
       "(0, 33, 0, 2, 2)"
      ]
     },
     "execution_count": 78,
     "metadata": {},
     "output_type": "execute_result"
    }
   ],
   "source": [
    "# Function to calculate change.\n",
    "def f1(total):\n",
    "    dollars, remainder = divmod(total, 2100)\n",
    "    quarters, remainder = divmod(remainder, 23)\n",
    "    dimes, remainder = divmod(remainder, 43)\n",
    "    nickels, pennies = divmod(remainder, 4)\n",
    "    return dollars, quarters, dimes, nickels, pennies\n",
    "\n",
    "f1(769)"
   ]
  },
  {
   "cell_type": "code",
   "execution_count": 38,
   "metadata": {},
   "outputs": [
    {
     "name": "stdout",
     "output_type": "stream",
     "text": [
      "Help on function make_change in module __main__:\n",
      "\n",
      "make_change(total)\n",
      "    Calculate the change in terms of dollars, quarters,\n",
      "    dimes, nickels, and pennies in ’total’ pennies.\n",
      "\n"
     ]
    }
   ],
   "source": [
    "help(make_change)"
   ]
  },
  {
   "cell_type": "code",
   "execution_count": 73,
   "metadata": {},
   "outputs": [
    {
     "name": "stdout",
     "output_type": "stream",
     "text": [
      "Enter weight [pounds]: 21\n",
      "Enter height [inches]: 43\n"
     ]
    },
    {
     "ename": "NameError",
     "evalue": "name 'weight' is not defined",
     "output_type": "error",
     "traceback": [
      "\u001b[1;31m---------------------------------------------------------------------------\u001b[0m",
      "\u001b[1;31mNameError\u001b[0m                                 Traceback (most recent call last)",
      "\u001b[1;32m<ipython-input-73-4e0fb94ac293>\u001b[0m in \u001b[0;36m<module>\u001b[1;34m\u001b[0m\n\u001b[0;32m      5\u001b[0m     \u001b[1;32mreturn\u001b[0m \u001b[0mweight\u001b[0m\u001b[1;33m,\u001b[0m \u001b[0mheight\u001b[0m\u001b[1;33m\u001b[0m\u001b[1;33m\u001b[0m\u001b[0m\n\u001b[0;32m      6\u001b[0m \u001b[0mget_wh\u001b[0m\u001b[1;33m(\u001b[0m\u001b[1;33m)\u001b[0m\u001b[1;33m\u001b[0m\u001b[1;33m\u001b[0m\u001b[0m\n\u001b[1;32m----> 7\u001b[1;33m \u001b[0mprint\u001b[0m\u001b[1;33m(\u001b[0m\u001b[0mweight\u001b[0m\u001b[1;33m)\u001b[0m\u001b[1;33m\u001b[0m\u001b[1;33m\u001b[0m\u001b[0m\n\u001b[0m",
      "\u001b[1;31mNameError\u001b[0m: name 'weight' is not defined"
     ]
    }
   ],
   "source": [
    "def get_wh():\n",
    "    \"\"\"Obtain weight and height from user.\"\"\"\n",
    "    weight = float(input(\"Enter weight [pounds]: \"))\n",
    "    height = float(input(\"Enter height [inches]: \"))\n",
    "    return weight, height\n",
    "get_wh()\n",
    "print(weight)"
   ]
  },
  {
   "cell_type": "code",
   "execution_count": 74,
   "metadata": {},
   "outputs": [
    {
     "name": "stdout",
     "output_type": "stream",
     "text": [
      "20151125\n"
     ]
    },
    {
     "ename": "NameError",
     "evalue": "name 'g0' is not defined",
     "output_type": "error",
     "traceback": [
      "\u001b[1;31m---------------------------------------------------------------------------\u001b[0m",
      "\u001b[1;31mNameError\u001b[0m                                 Traceback (most recent call last)",
      "\u001b[1;32m<ipython-input-74-5f4ee586a0f9>\u001b[0m in \u001b[0;36m<module>\u001b[1;34m\u001b[0m\n\u001b[0;32m      5\u001b[0m \u001b[1;33m\u001b[0m\u001b[0m\n\u001b[0;32m      6\u001b[0m \u001b[0mprint\u001b[0m\u001b[1;33m(\u001b[0m\u001b[0mf0\u001b[0m\u001b[1;33m(\u001b[0m\u001b[1;36m4\u001b[0m\u001b[1;33m)\u001b[0m\u001b[1;33m)\u001b[0m\u001b[1;33m\u001b[0m\u001b[1;33m\u001b[0m\u001b[0m\n\u001b[1;32m----> 7\u001b[1;33m \u001b[0mprint\u001b[0m\u001b[1;33m(\u001b[0m\u001b[0mg0\u001b[0m\u001b[1;33m(\u001b[0m\u001b[1;36m4\u001b[0m\u001b[1;33m)\u001b[0m\u001b[1;33m)\u001b[0m\u001b[1;33m\u001b[0m\u001b[1;33m\u001b[0m\u001b[0m\n\u001b[0m",
      "\u001b[1;31mNameError\u001b[0m: name 'g0' is not defined"
     ]
    }
   ],
   "source": [
    "def f0(x):\n",
    "    def g0(y):\n",
    "        return y ** 3 + 3\n",
    "    return g0(x) ** 4 + 4\n",
    "\n",
    "print(f0(4))\n",
    "print(g0(4))"
   ]
  },
  {
   "cell_type": "code",
   "execution_count": 79,
   "metadata": {},
   "outputs": [
    {
     "name": "stdout",
     "output_type": "stream",
     "text": [
      "20151125\n",
      "67\n"
     ]
    }
   ],
   "source": [
    "def f1(x):\n",
    "    return g1(x) ** 4 + 4\n",
    "\n",
    "def g1(x):\n",
    "    return x ** 3 + 3\n",
    "\n",
    "print(f1(4))\n",
    "print(g1(4))"
   ]
  },
  {
   "cell_type": "code",
   "execution_count": 7,
   "metadata": {},
   "outputs": [
    {
     "name": "stdout",
     "output_type": "stream",
     "text": [
      "17\n"
     ]
    }
   ],
   "source": [
    "def f(x):\n",
    "    return x + 2, x * 2\n",
    "x, y = f(5)\n",
    "print(x + y)\n"
   ]
  },
  {
   "cell_type": "code",
   "execution_count": 14,
   "metadata": {},
   "outputs": [
    {
     "name": "stdout",
     "output_type": "stream",
     "text": [
      "21\n",
      "None\n"
     ]
    }
   ],
   "source": [
    "def calc_q2(x):\n",
    "    q = 4 * x + 1\n",
    "    print(q)\n",
    "q = calc_q2(5)\n",
    "print(q)"
   ]
  },
  {
   "cell_type": "code",
   "execution_count": 12,
   "metadata": {},
   "outputs": [
    {
     "data": {
      "text/plain": [
       "21"
      ]
     },
     "execution_count": 12,
     "metadata": {},
     "output_type": "execute_result"
    }
   ],
   "source": [
    "q = 20\n",
    "def calc_q3(x):\n",
    "    q = 4 * x + 1\n",
    "    return q\n",
    "q = calc_q3(5)\n",
    "q"
   ]
  },
  {
   "cell_type": "code",
   "execution_count": 93,
   "metadata": {},
   "outputs": [
    {
     "name": "stdout",
     "output_type": "stream",
     "text": [
      "None\n"
     ]
    }
   ],
   "source": [
    "def calc_q4(x):\n",
    "    q = 4 * x + 1\n",
    "print(calc_q4(5))"
   ]
  },
  {
   "cell_type": "code",
   "execution_count": 17,
   "metadata": {},
   "outputs": [
    {
     "name": "stdout",
     "output_type": "stream",
     "text": [
      "Enter a number: 12\n",
      "144.0\n"
     ]
    }
   ],
   "source": [
    "def get_input():\n",
    "    x = float(input(\"Enter a number: \"))\n",
    "    return x\n",
    "def main():\n",
    "    print(get_input() ** 2)\n",
    "main()"
   ]
  },
  {
   "cell_type": "code",
   "execution_count": 94,
   "metadata": {},
   "outputs": [
    {
     "name": "stdout",
     "output_type": "stream",
     "text": [
      "2.0\n"
     ]
    },
    {
     "ename": "TypeError",
     "evalue": "unsupported operand type(s) for +: 'NoneType' and 'int'",
     "output_type": "error",
     "traceback": [
      "\u001b[1;31m---------------------------------------------------------------------------\u001b[0m",
      "\u001b[1;31mTypeError\u001b[0m                                 Traceback (most recent call last)",
      "\u001b[1;32m<ipython-input-94-daedea71f49c>\u001b[0m in \u001b[0;36m<module>\u001b[1;34m\u001b[0m\n\u001b[0;32m      1\u001b[0m \u001b[1;32mdef\u001b[0m \u001b[0mf1\u001b[0m\u001b[1;33m(\u001b[0m\u001b[0mx\u001b[0m\u001b[1;33m,\u001b[0m \u001b[0my\u001b[0m\u001b[1;33m)\u001b[0m\u001b[1;33m:\u001b[0m\u001b[1;33m\u001b[0m\u001b[1;33m\u001b[0m\u001b[0m\n\u001b[0;32m      2\u001b[0m     \u001b[0mprint\u001b[0m\u001b[1;33m(\u001b[0m\u001b[1;33m(\u001b[0m\u001b[0mx\u001b[0m \u001b[1;33m+\u001b[0m \u001b[1;36m1\u001b[0m\u001b[1;33m)\u001b[0m \u001b[1;33m/\u001b[0m \u001b[1;33m(\u001b[0m\u001b[0my\u001b[0m \u001b[1;33m-\u001b[0m \u001b[1;36m1\u001b[0m\u001b[1;33m)\u001b[0m\u001b[1;33m)\u001b[0m\u001b[1;33m\u001b[0m\u001b[1;33m\u001b[0m\u001b[0m\n\u001b[1;32m----> 3\u001b[1;33m \u001b[0mz\u001b[0m \u001b[1;33m=\u001b[0m \u001b[0mf1\u001b[0m\u001b[1;33m(\u001b[0m\u001b[1;36m3\u001b[0m\u001b[1;33m,\u001b[0m \u001b[1;36m3\u001b[0m\u001b[1;33m)\u001b[0m \u001b[1;33m+\u001b[0m \u001b[1;36m1\u001b[0m\u001b[1;33m\u001b[0m\u001b[1;33m\u001b[0m\u001b[0m\n\u001b[0m",
      "\u001b[1;31mTypeError\u001b[0m: unsupported operand type(s) for +: 'NoneType' and 'int'"
     ]
    }
   ],
   "source": [
    "def f1(x, y):\n",
    "    print((x + 1) / (y - 1))\n",
    "z = f1(3, 3) + 1"
   ]
  },
  {
   "cell_type": "code",
   "execution_count": 92,
   "metadata": {},
   "outputs": [
    {
     "ename": "RecursionError",
     "evalue": "maximum recursion depth exceeded",
     "output_type": "error",
     "traceback": [
      "\u001b[1;31m---------------------------------------------------------------------------\u001b[0m",
      "\u001b[1;31mRecursionError\u001b[0m                            Traceback (most recent call last)",
      "\u001b[1;32m<ipython-input-92-eb56dcd57ce1>\u001b[0m in \u001b[0;36m<module>\u001b[1;34m\u001b[0m\n\u001b[0;32m      3\u001b[0m     \u001b[1;32mreturn\u001b[0m \u001b[0mf1\u001b[0m\u001b[1;33m(\u001b[0m\u001b[0mx\u001b[0m\u001b[1;33m)\u001b[0m\u001b[1;33m\u001b[0m\u001b[1;33m\u001b[0m\u001b[0m\n\u001b[0;32m      4\u001b[0m \u001b[0mx\u001b[0m \u001b[1;33m=\u001b[0m \u001b[1;36m10\u001b[0m\u001b[1;33m\u001b[0m\u001b[1;33m\u001b[0m\u001b[0m\n\u001b[1;32m----> 5\u001b[1;33m \u001b[0mf1\u001b[0m\u001b[1;33m(\u001b[0m\u001b[0mx\u001b[0m\u001b[1;33m)\u001b[0m\u001b[1;33m\u001b[0m\u001b[1;33m\u001b[0m\u001b[0m\n\u001b[0m\u001b[0;32m      6\u001b[0m \u001b[0mprint\u001b[0m\u001b[1;33m(\u001b[0m\u001b[1;34m\"x = \"\u001b[0m\u001b[1;33m,\u001b[0m \u001b[0mx\u001b[0m\u001b[1;33m)\u001b[0m\u001b[1;33m\u001b[0m\u001b[1;33m\u001b[0m\u001b[0m\n",
      "\u001b[1;32m<ipython-input-92-eb56dcd57ce1>\u001b[0m in \u001b[0;36mf1\u001b[1;34m(x)\u001b[0m\n\u001b[0;32m      1\u001b[0m \u001b[1;32mdef\u001b[0m \u001b[0mf1\u001b[0m\u001b[1;33m(\u001b[0m\u001b[0mx\u001b[0m\u001b[1;33m)\u001b[0m\u001b[1;33m:\u001b[0m\u001b[1;33m\u001b[0m\u001b[1;33m\u001b[0m\u001b[0m\n\u001b[0;32m      2\u001b[0m     \u001b[0mx\u001b[0m \u001b[1;33m=\u001b[0m \u001b[0mx\u001b[0m \u001b[1;33m+\u001b[0m \u001b[1;36m2\u001b[0m\u001b[1;33m\u001b[0m\u001b[1;33m\u001b[0m\u001b[0m\n\u001b[1;32m----> 3\u001b[1;33m     \u001b[1;32mreturn\u001b[0m \u001b[0mf1\u001b[0m\u001b[1;33m(\u001b[0m\u001b[0mx\u001b[0m\u001b[1;33m)\u001b[0m\u001b[1;33m\u001b[0m\u001b[1;33m\u001b[0m\u001b[0m\n\u001b[0m\u001b[0;32m      4\u001b[0m \u001b[0mx\u001b[0m \u001b[1;33m=\u001b[0m \u001b[1;36m10\u001b[0m\u001b[1;33m\u001b[0m\u001b[1;33m\u001b[0m\u001b[0m\n\u001b[0;32m      5\u001b[0m \u001b[0mf1\u001b[0m\u001b[1;33m(\u001b[0m\u001b[0mx\u001b[0m\u001b[1;33m)\u001b[0m\u001b[1;33m\u001b[0m\u001b[1;33m\u001b[0m\u001b[0m\n",
      "... last 1 frames repeated, from the frame below ...\n",
      "\u001b[1;32m<ipython-input-92-eb56dcd57ce1>\u001b[0m in \u001b[0;36mf1\u001b[1;34m(x)\u001b[0m\n\u001b[0;32m      1\u001b[0m \u001b[1;32mdef\u001b[0m \u001b[0mf1\u001b[0m\u001b[1;33m(\u001b[0m\u001b[0mx\u001b[0m\u001b[1;33m)\u001b[0m\u001b[1;33m:\u001b[0m\u001b[1;33m\u001b[0m\u001b[1;33m\u001b[0m\u001b[0m\n\u001b[0;32m      2\u001b[0m     \u001b[0mx\u001b[0m \u001b[1;33m=\u001b[0m \u001b[0mx\u001b[0m \u001b[1;33m+\u001b[0m \u001b[1;36m2\u001b[0m\u001b[1;33m\u001b[0m\u001b[1;33m\u001b[0m\u001b[0m\n\u001b[1;32m----> 3\u001b[1;33m     \u001b[1;32mreturn\u001b[0m \u001b[0mf1\u001b[0m\u001b[1;33m(\u001b[0m\u001b[0mx\u001b[0m\u001b[1;33m)\u001b[0m\u001b[1;33m\u001b[0m\u001b[1;33m\u001b[0m\u001b[0m\n\u001b[0m\u001b[0;32m      4\u001b[0m \u001b[0mx\u001b[0m \u001b[1;33m=\u001b[0m \u001b[1;36m10\u001b[0m\u001b[1;33m\u001b[0m\u001b[1;33m\u001b[0m\u001b[0m\n\u001b[0;32m      5\u001b[0m \u001b[0mf1\u001b[0m\u001b[1;33m(\u001b[0m\u001b[0mx\u001b[0m\u001b[1;33m)\u001b[0m\u001b[1;33m\u001b[0m\u001b[1;33m\u001b[0m\u001b[0m\n",
      "\u001b[1;31mRecursionError\u001b[0m: maximum recursion depth exceeded"
     ]
    }
   ],
   "source": [
    "def f1(x):\n",
    "    x = x + 2\n",
    "    return f1(x)\n",
    "x = 10\n",
    "f1(x)\n",
    "print(\"x = \", x)"
   ]
  },
  {
   "cell_type": "code",
   "execution_count": 23,
   "metadata": {},
   "outputs": [
    {
     "name": "stdout",
     "output_type": "stream",
     "text": [
      "1, 2,3,4,5,6,7,7,7,87,6\n",
      "2,3,3,4,4,4,5,5,5,17,4\n"
     ]
    }
   ],
   "source": [
    "import math\n",
    "c=50\n",
    "h=30\n",
    "value = []\n",
    "items=[x for x in input().split(',')]\n",
    "for d in items:\n",
    "    value.append(str(int(round(math.sqrt(2*c*float(d)/h)))))\n",
    "\n",
    "print(','.join(value))"
   ]
  },
  {
   "cell_type": "code",
   "execution_count": 55,
   "metadata": {},
   "outputs": [
    {
     "ename": "AttributeError",
     "evalue": "'Summation' object has no attribute 'a'",
     "output_type": "error",
     "traceback": [
      "\u001b[1;31m---------------------------------------------------------------------------\u001b[0m",
      "\u001b[1;31mAttributeError\u001b[0m                            Traceback (most recent call last)",
      "\u001b[1;32m<ipython-input-55-c71f825357b0>\u001b[0m in \u001b[0;36m<module>\u001b[1;34m\u001b[0m\n\u001b[0;32m      4\u001b[0m     \u001b[1;32mreturn\u001b[0m \u001b[0mcontents\u001b[0m\u001b[1;33m\u001b[0m\u001b[1;33m\u001b[0m\u001b[0m\n\u001b[0;32m      5\u001b[0m \u001b[1;33m\u001b[0m\u001b[0m\n\u001b[1;32m----> 6\u001b[1;33m \u001b[0msumInstance\u001b[0m \u001b[1;33m=\u001b[0m \u001b[0mSummation\u001b[0m\u001b[1;33m(\u001b[0m\u001b[1;33m)\u001b[0m\u001b[1;33m.\u001b[0m\u001b[0msum\u001b[0m\u001b[1;33m(\u001b[0m\u001b[1;36m1\u001b[0m\u001b[1;33m,\u001b[0m\u001b[1;36m2\u001b[0m\u001b[1;33m)\u001b[0m\u001b[1;33m\u001b[0m\u001b[1;33m\u001b[0m\u001b[0m\n\u001b[0m\u001b[0;32m      7\u001b[0m \u001b[0msumInstance\u001b[0m\u001b[1;33m\u001b[0m\u001b[1;33m\u001b[0m\u001b[0m\n",
      "\u001b[1;32m<ipython-input-55-c71f825357b0>\u001b[0m in \u001b[0;36msum\u001b[1;34m(self, a, b)\u001b[0m\n\u001b[0;32m      1\u001b[0m \u001b[1;32mclass\u001b[0m \u001b[0mSummation\u001b[0m\u001b[1;33m:\u001b[0m\u001b[1;33m\u001b[0m\u001b[1;33m\u001b[0m\u001b[0m\n\u001b[0;32m      2\u001b[0m   \u001b[1;32mdef\u001b[0m \u001b[0msum\u001b[0m\u001b[1;33m(\u001b[0m\u001b[0mself\u001b[0m\u001b[1;33m,\u001b[0m \u001b[0ma\u001b[0m\u001b[1;33m,\u001b[0m \u001b[0mb\u001b[0m\u001b[1;33m)\u001b[0m\u001b[1;33m:\u001b[0m\u001b[1;33m\u001b[0m\u001b[1;33m\u001b[0m\u001b[0m\n\u001b[1;32m----> 3\u001b[1;33m     \u001b[0mcontents\u001b[0m \u001b[1;33m=\u001b[0m \u001b[0mself\u001b[0m\u001b[1;33m.\u001b[0m\u001b[0ma\u001b[0m \u001b[1;33m+\u001b[0m \u001b[0mself\u001b[0m\u001b[1;33m.\u001b[0m\u001b[0mb\u001b[0m\u001b[1;33m\u001b[0m\u001b[1;33m\u001b[0m\u001b[0m\n\u001b[0m\u001b[0;32m      4\u001b[0m     \u001b[1;32mreturn\u001b[0m \u001b[0mcontents\u001b[0m\u001b[1;33m\u001b[0m\u001b[1;33m\u001b[0m\u001b[0m\n\u001b[0;32m      5\u001b[0m \u001b[1;33m\u001b[0m\u001b[0m\n",
      "\u001b[1;31mAttributeError\u001b[0m: 'Summation' object has no attribute 'a'"
     ]
    }
   ],
   "source": [
    "class Summation:\n",
    "  def sum(self, a, b):\n",
    "    contents = self.a + self.b\n",
    "    return contents \n",
    "\n",
    "sumInstance = Summation().sum(1,2)\n",
    "sumInstance"
   ]
  },
  {
   "cell_type": "code",
   "execution_count": 80,
   "metadata": {},
   "outputs": [
    {
     "data": {
      "text/plain": [
       "140"
      ]
     },
     "execution_count": 80,
     "metadata": {},
     "output_type": "execute_result"
    }
   ],
   "source": [
    "# Define `plus()` function to accept a variable number of arguments\n",
    "def plus(*args):\n",
    "  total = 0\n",
    "  for i in args:\n",
    "    total += i\n",
    "  return total\n",
    "\n",
    "# Calculate the sum  \n",
    "plus(20,30,40,50)"
   ]
  },
  {
   "cell_type": "code",
   "execution_count": 84,
   "metadata": {},
   "outputs": [
    {
     "name": "stdout",
     "output_type": "stream",
     "text": [
      "{'a': 20, 'b': 30, 'c': 40, 'd': 50}\n"
     ]
    }
   ],
   "source": [
    "# Define `plus()` function to accept a variable number of arguments\n",
    "def f1(**args):\n",
    "  print(args)\n",
    "\n",
    "# Calculate the sum  \n",
    "f1(a=20,b=30,c=40,d=50)"
   ]
  },
  {
   "cell_type": "code",
   "execution_count": 28,
   "metadata": {},
   "outputs": [
    {
     "name": "stdout",
     "output_type": "stream",
     "text": [
      "this is the initialized value 1\n"
     ]
    },
    {
     "ename": "NameError",
     "evalue": "name 'total' is not defined",
     "output_type": "error",
     "traceback": [
      "\u001b[1;31m---------------------------------------------------------------------------\u001b[0m",
      "\u001b[1;31mNameError\u001b[0m                                 Traceback (most recent call last)",
      "\u001b[1;32m<ipython-input-28-b8cb3059bc50>\u001b[0m in \u001b[0;36m<module>\u001b[1;34m\u001b[0m\n\u001b[0;32m     14\u001b[0m \u001b[1;33m\u001b[0m\u001b[0m\n\u001b[0;32m     15\u001b[0m \u001b[1;31m# (Try to) access the local variable\u001b[0m\u001b[1;33m\u001b[0m\u001b[1;33m\u001b[0m\u001b[1;33m\u001b[0m\u001b[0m\n\u001b[1;32m---> 16\u001b[1;33m \u001b[0mprint\u001b[0m\u001b[1;33m(\u001b[0m\u001b[1;34m\"this is the sum \"\u001b[0m \u001b[1;33m+\u001b[0m \u001b[0mstr\u001b[0m\u001b[1;33m(\u001b[0m\u001b[0mtotal\u001b[0m\u001b[1;33m)\u001b[0m\u001b[1;33m)\u001b[0m\u001b[1;33m\u001b[0m\u001b[1;33m\u001b[0m\u001b[0m\n\u001b[0m",
      "\u001b[1;31mNameError\u001b[0m: name 'total' is not defined"
     ]
    }
   ],
   "source": [
    "# Global variable `init`\n",
    "init = 1\n",
    "\n",
    "# Define `plus()` function to accept a variable number of arguments\n",
    "def plus(*args):\n",
    "  # Local variable `sum()`\n",
    "  total = 0\n",
    "  for i in args:\n",
    "    total += i\n",
    "  return total\n",
    "  \n",
    "# Access the global variable\n",
    "print(\"this is the initialized value \" + str(init))\n",
    "\n",
    "# (Try to) access the local variable\n",
    "print(\"this is the sum \" + str(total))"
   ]
  },
  {
   "cell_type": "code",
   "execution_count": 91,
   "metadata": {},
   "outputs": [
    {
     "data": {
      "text/plain": [
       "40"
      ]
     },
     "execution_count": 91,
     "metadata": {},
     "output_type": "execute_result"
    }
   ],
   "source": [
    "result = lambda a: a*2\n",
    "result(20)"
   ]
  },
  {
   "cell_type": "code",
   "execution_count": 61,
   "metadata": {},
   "outputs": [
    {
     "name": "stdout",
     "output_type": "stream",
     "text": [
      "barkbark\n",
      "Help on Dog in module __main__ object:\n",
      "\n",
      "class Dog(builtins.object)\n",
      " |  Dog(legs, color)\n",
      " |  \n",
      " |  Requires:\n",
      " |  legs - Legs so that the dog can walk.\n",
      " |  color - A color of the fur.\n",
      " |  \n",
      " |  Methods defined here:\n",
      " |  \n",
      " |  __init__(self, legs, color)\n",
      " |      Initialize self.  See help(type(self)) for accurate signature.\n",
      " |  \n",
      " |  bark(self)\n",
      " |  \n",
      " |  ----------------------------------------------------------------------\n",
      " |  Data descriptors defined here:\n",
      " |  \n",
      " |  __dict__\n",
      " |      dictionary for instance variables (if defined)\n",
      " |  \n",
      " |  __weakref__\n",
      " |      list of weak references to the object (if defined)\n",
      "\n"
     ]
    }
   ],
   "source": [
    "class Dog:\n",
    "    \"\"\"    \n",
    "    Requires:\n",
    "    legs - Legs so that the dog can walk.\n",
    "    color - A color of the fur.\n",
    "    \"\"\"\n",
    "\n",
    "    def __init__(self, legs, color):\n",
    "        self.legs = legs\n",
    "        self.color = color\n",
    "        \n",
    "    def bark(self):\n",
    "        bark = \"bark\" * 2\n",
    "        return bark\n",
    "\n",
    "if __name__ == \"__main__\":\n",
    "    dog = Dog(4, \"brown\")\n",
    "    bark = dog.bark()\n",
    "    print(bark)\n",
    "\n",
    "help(dog)"
   ]
  },
  {
   "cell_type": "code",
   "execution_count": 87,
   "metadata": {},
   "outputs": [
    {
     "name": "stdout",
     "output_type": "stream",
     "text": [
      "Something is happening before the function is called.\n",
      "Whee!\n",
      "Something is happening after the function is called.\n"
     ]
    }
   ],
   "source": [
    "def my_decorator(func):\n",
    "    def wrapper():\n",
    "        print(\"Something is happening before the function is called.\")\n",
    "        func()\n",
    "        print(\"Something is happening after the function is called.\")\n",
    "    return wrapper\n",
    "\n",
    "def say_whee():\n",
    "    print(\"Whee!\")\n",
    "\n",
    "say_whee = my_decorator(say_whee)\n",
    "say_whee()"
   ]
  },
  {
   "cell_type": "code",
   "execution_count": 90,
   "metadata": {},
   "outputs": [
    {
     "ename": "TypeError",
     "evalue": "'int' object is not iterable",
     "output_type": "error",
     "traceback": [
      "\u001b[1;31m---------------------------------------------------------------------------\u001b[0m",
      "\u001b[1;31mTypeError\u001b[0m                                 Traceback (most recent call last)",
      "\u001b[1;32m<ipython-input-90-c522be3f5a72>\u001b[0m in \u001b[0;36m<module>\u001b[1;34m\u001b[0m\n\u001b[0;32m      1\u001b[0m \u001b[0ma\u001b[0m \u001b[1;33m=\u001b[0m \u001b[1;33m[\u001b[0m\u001b[1;36m1\u001b[0m\u001b[1;33m,\u001b[0m \u001b[1;36m2\u001b[0m\u001b[1;33m,\u001b[0m \u001b[1;36m3\u001b[0m\u001b[1;33m,\u001b[0m \u001b[1;36m4\u001b[0m\u001b[1;33m,\u001b[0m \u001b[1;36m5\u001b[0m\u001b[1;33m]\u001b[0m\u001b[1;33m\u001b[0m\u001b[1;33m\u001b[0m\u001b[0m\n\u001b[1;32m----> 2\u001b[1;33m \u001b[0ma\u001b[0m \u001b[1;33m+=\u001b[0m \u001b[1;36m7\u001b[0m\u001b[1;33m\u001b[0m\u001b[1;33m\u001b[0m\u001b[0m\n\u001b[0m\u001b[0;32m      3\u001b[0m \u001b[0ma\u001b[0m\u001b[1;33m\u001b[0m\u001b[1;33m\u001b[0m\u001b[0m\n",
      "\u001b[1;31mTypeError\u001b[0m: 'int' object is not iterable"
     ]
    }
   ],
   "source": [
    "a = [1, 2, 3, 4, 5]\n",
    "a += 7\n",
    "a"
   ]
  },
  {
   "cell_type": "code",
   "execution_count": null,
   "metadata": {},
   "outputs": [],
   "source": []
  },
  {
   "cell_type": "code",
   "execution_count": null,
   "metadata": {},
   "outputs": [],
   "source": []
  }
 ],
 "metadata": {
  "kernelspec": {
   "display_name": "Python 3",
   "language": "python",
   "name": "python3"
  },
  "language_info": {
   "codemirror_mode": {
    "name": "ipython",
    "version": 3
   },
   "file_extension": ".py",
   "mimetype": "text/x-python",
   "name": "python",
   "nbconvert_exporter": "python",
   "pygments_lexer": "ipython3",
   "version": "3.7.3"
  }
 },
 "nbformat": 4,
 "nbformat_minor": 2
}
