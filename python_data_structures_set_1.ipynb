{
 "cells": [
  {
   "cell_type": "markdown",
   "metadata": {},
   "source": [
    "# Python Data Structures Set 1"
   ]
  },
  {
   "cell_type": "markdown",
   "metadata": {},
   "source": [
    "### Linked List"
   ]
  },
  {
   "cell_type": "code",
   "execution_count": 9,
   "metadata": {},
   "outputs": [
    {
     "name": "stdout",
     "output_type": "stream",
     "text": [
      "Input number of elements in List: 3\n",
      "Before: \n",
      "65\n",
      "6\n",
      "30\n",
      "After: \n",
      "65\n",
      "111\n",
      "6\n",
      "30\n"
     ]
    }
   ],
   "source": [
    "import random\n",
    "class Node:\n",
    "    def __init__(self, data):\n",
    "        self.data = data\n",
    "        self.next = None\n",
    "\n",
    "\n",
    "def fetch_linkedlist(llist):\n",
    "    temp = llist\n",
    "    while(temp):\n",
    "        print(temp.data)\n",
    "        temp = temp.next\n",
    "\n",
    "def sort_llist(llist):\n",
    "    current = llist\n",
    "    index = None\n",
    "    if current is None:\n",
    "        return ;\n",
    "    else:\n",
    "        while(current != None):\n",
    "            index = current.next\n",
    "            while(index != None):\n",
    "                if(current.data > index.data):\n",
    "                    temp = current.data\n",
    "                    current.data = index.data\n",
    "                    index.data = temp\n",
    "                index = index.next\n",
    "            current = current.next\n",
    "    \n",
    "    return llist\n",
    "\n",
    "def push_elements(head_ref, data):\n",
    "    node = Node(data)\n",
    "    node.data = data\n",
    "    node.next = head_ref\n",
    "    head_ref = node\n",
    "    return head_ref\n",
    "\n",
    "def insert_node_nth_pos(head, position, data):\n",
    "    start = head\n",
    "    if position == 0:\n",
    "        return push_elements(head, data)\n",
    "    else:\n",
    "        while position > 1:\n",
    "            head = head.next\n",
    "            position -= 1\n",
    "        \n",
    "        head.next = push_elements(head.next, data)\n",
    "        return start\n",
    "\n",
    "if __name__ == '__main__':\n",
    "    l_list = Node(None)\n",
    "    n = int(input(\"Input number of elements in List: \"))\n",
    "    head_ref = None\n",
    "    for i in range(n):\n",
    "        head_ref = push_elements(head_ref, random.randint(1, 100))\n",
    "    \n",
    "    print(\"Before: \")\n",
    "    fetch_linkedlist(head_ref)\n",
    "    new_llist = insert_node_nth_pos(head_ref, 1, 111)\n",
    "#     sorted_list = sort_llist(new_llist)\n",
    "    #print(\"Sorted Linked List: \")\n",
    "    print(\"After: \")\n",
    "    fetch_linkedlist(new_llist)"
   ]
  },
  {
   "cell_type": "markdown",
   "metadata": {},
   "source": [
    "### Stack Implementation"
   ]
  },
  {
   "cell_type": "code",
   "execution_count": 10,
   "metadata": {},
   "outputs": [
    {
     "name": "stdout",
     "output_type": "stream",
     "text": [
      "Number of elements in Stack: 3\n",
      "Elements in Stack: \n",
      "<__main__.MyStack object at 0x000001CA3B2E1B70>\n",
      "60\n",
      "45\n"
     ]
    }
   ],
   "source": [
    "\"\"\" Stack Implementation \"\"\"\n",
    "class MyStack:\n",
    "    def __init__(self):\n",
    "        self.items = []\n",
    "    \n",
    "    def push(self, item):\n",
    "        return self.items.append(item)\n",
    "    \n",
    "    def pop(self):\n",
    "        return self.items.pop()\n",
    "    \n",
    "    def peek(self):\n",
    "        return self.items[len(self.items)-1]\n",
    "    \n",
    "    def is_empty(self):\n",
    "        if len(self.items):\n",
    "            return []\n",
    "        else:\n",
    "            return self.items\n",
    "\n",
    "if __name__ == '__main__':\n",
    "    st = MyStack()\n",
    "    n = int(input(\"Number of elements in Stack: \"))\n",
    "    for i in range(n):\n",
    "        st.push(random.randint(1, 100))\n",
    "    \n",
    "    print(\"Elements in Stack: \")\n",
    "    print(st)\n",
    "    print(st.pop())\n",
    "    print(st.peek())"
   ]
  },
  {
   "cell_type": "code",
   "execution_count": null,
   "metadata": {},
   "outputs": [],
   "source": []
  }
 ],
 "metadata": {
  "kernelspec": {
   "display_name": "Python 3",
   "language": "python",
   "name": "python3"
  },
  "language_info": {
   "codemirror_mode": {
    "name": "ipython",
    "version": 3
   },
   "file_extension": ".py",
   "mimetype": "text/x-python",
   "name": "python",
   "nbconvert_exporter": "python",
   "pygments_lexer": "ipython3",
   "version": "3.7.3"
  }
 },
 "nbformat": 4,
 "nbformat_minor": 2
}
