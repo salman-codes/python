{
 "cells": [
  {
   "cell_type": "code",
   "execution_count": 3,
   "metadata": {},
   "outputs": [
    {
     "ename": "NameError",
     "evalue": "name 'double' is not defined",
     "output_type": "error",
     "traceback": [
      "\u001b[1;31m---------------------------------------------------------------------------\u001b[0m",
      "\u001b[1;31mNameError\u001b[0m                                 Traceback (most recent call last)",
      "\u001b[1;32m<ipython-input-3-6b4aab99a94c>\u001b[0m in \u001b[0;36m<module>\u001b[1;34m\u001b[0m\n\u001b[0;32m      1\u001b[0m \u001b[0ma\u001b[0m \u001b[1;33m=\u001b[0m \u001b[1;36m2\u001b[0m\u001b[1;33m\u001b[0m\u001b[1;33m\u001b[0m\u001b[0m\n\u001b[1;32m----> 2\u001b[1;33m \u001b[0mdouble\u001b[0m\u001b[1;33m(\u001b[0m\u001b[0ma\u001b[0m\u001b[1;33m)\u001b[0m\u001b[1;33m\u001b[0m\u001b[1;33m\u001b[0m\u001b[0m\n\u001b[0m",
      "\u001b[1;31mNameError\u001b[0m: name 'double' is not defined"
     ]
    }
   ],
   "source": [
    "a = 2\n",
    "double(a)"
   ]
  },
  {
   "cell_type": "code",
   "execution_count": 5,
   "metadata": {},
   "outputs": [
    {
     "data": {
      "text/plain": [
       "function"
      ]
     },
     "execution_count": 5,
     "metadata": {},
     "output_type": "execute_result"
    }
   ],
   "source": [
    "def a():\n",
    "    return 2\n",
    "type(a)"
   ]
  },
  {
   "cell_type": "code",
   "execution_count": 6,
   "metadata": {},
   "outputs": [
    {
     "data": {
      "text/plain": [
       "2"
      ]
     },
     "execution_count": 6,
     "metadata": {},
     "output_type": "execute_result"
    }
   ],
   "source": [
    "5//2"
   ]
  },
  {
   "cell_type": "code",
   "execution_count": 17,
   "metadata": {},
   "outputs": [
    {
     "data": {
      "text/plain": [
       "3"
      ]
     },
     "execution_count": 17,
     "metadata": {},
     "output_type": "execute_result"
    }
   ],
   "source": [
    "a = {1:3, 3:4, 4:5}\n",
    "a.get(1)"
   ]
  },
  {
   "cell_type": "code",
   "execution_count": 9,
   "metadata": {},
   "outputs": [
    {
     "name": "stdout",
     "output_type": "stream",
     "text": [
      "b\n",
      "d\n"
     ]
    }
   ],
   "source": [
    "try:\n",
    "    [1, 2, 3][4]\n",
    "except IndentationError:\n",
    "    print('a')\n",
    "except:\n",
    "    print('b')\n",
    "else:\n",
    "    print('c')\n",
    "finally:\n",
    "    print('d')"
   ]
  },
  {
   "cell_type": "code",
   "execution_count": 11,
   "metadata": {},
   "outputs": [
    {
     "data": {
      "text/plain": [
       "'7'"
      ]
     },
     "execution_count": 11,
     "metadata": {},
     "output_type": "execute_result"
    }
   ],
   "source": [
    "a = 7\n",
    "a.__str__()"
   ]
  },
  {
   "cell_type": "code",
   "execution_count": 12,
   "metadata": {},
   "outputs": [
    {
     "data": {
      "text/plain": [
       "True"
      ]
     },
     "execution_count": 12,
     "metadata": {},
     "output_type": "execute_result"
    }
   ],
   "source": [
    "set([1, 2, 1]) == set([1, 2])"
   ]
  },
  {
   "cell_type": "code",
   "execution_count": 19,
   "metadata": {},
   "outputs": [
    {
     "ename": "RecursionError",
     "evalue": "maximum recursion depth exceeded",
     "output_type": "error",
     "traceback": [
      "\u001b[1;31m---------------------------------------------------------------------------\u001b[0m",
      "\u001b[1;31mRecursionError\u001b[0m                            Traceback (most recent call last)",
      "\u001b[1;32m<ipython-input-19-ca5fae3e5979>\u001b[0m in \u001b[0;36m<module>\u001b[1;34m\u001b[0m\n\u001b[0;32m      2\u001b[0m     \u001b[0mf\u001b[0m\u001b[1;33m(\u001b[0m\u001b[1;33m)\u001b[0m\u001b[1;33m\u001b[0m\u001b[1;33m\u001b[0m\u001b[0m\n\u001b[0;32m      3\u001b[0m     \u001b[1;32mreturn\u001b[0m \u001b[1;36m42\u001b[0m\u001b[1;33m\u001b[0m\u001b[1;33m\u001b[0m\u001b[0m\n\u001b[1;32m----> 4\u001b[1;33m \u001b[0mf\u001b[0m\u001b[1;33m(\u001b[0m\u001b[1;33m)\u001b[0m\u001b[1;33m\u001b[0m\u001b[1;33m\u001b[0m\u001b[0m\n\u001b[0m",
      "\u001b[1;32m<ipython-input-19-ca5fae3e5979>\u001b[0m in \u001b[0;36mf\u001b[1;34m()\u001b[0m\n\u001b[0;32m      1\u001b[0m \u001b[1;32mdef\u001b[0m \u001b[0mf\u001b[0m\u001b[1;33m(\u001b[0m\u001b[1;33m)\u001b[0m\u001b[1;33m:\u001b[0m\u001b[1;33m\u001b[0m\u001b[1;33m\u001b[0m\u001b[0m\n\u001b[1;32m----> 2\u001b[1;33m     \u001b[0mf\u001b[0m\u001b[1;33m(\u001b[0m\u001b[1;33m)\u001b[0m\u001b[1;33m\u001b[0m\u001b[1;33m\u001b[0m\u001b[0m\n\u001b[0m\u001b[0;32m      3\u001b[0m     \u001b[1;32mreturn\u001b[0m \u001b[1;36m42\u001b[0m\u001b[1;33m\u001b[0m\u001b[1;33m\u001b[0m\u001b[0m\n\u001b[0;32m      4\u001b[0m \u001b[0mf\u001b[0m\u001b[1;33m(\u001b[0m\u001b[1;33m)\u001b[0m\u001b[1;33m\u001b[0m\u001b[1;33m\u001b[0m\u001b[0m\n",
      "... last 1 frames repeated, from the frame below ...\n",
      "\u001b[1;32m<ipython-input-19-ca5fae3e5979>\u001b[0m in \u001b[0;36mf\u001b[1;34m()\u001b[0m\n\u001b[0;32m      1\u001b[0m \u001b[1;32mdef\u001b[0m \u001b[0mf\u001b[0m\u001b[1;33m(\u001b[0m\u001b[1;33m)\u001b[0m\u001b[1;33m:\u001b[0m\u001b[1;33m\u001b[0m\u001b[1;33m\u001b[0m\u001b[0m\n\u001b[1;32m----> 2\u001b[1;33m     \u001b[0mf\u001b[0m\u001b[1;33m(\u001b[0m\u001b[1;33m)\u001b[0m\u001b[1;33m\u001b[0m\u001b[1;33m\u001b[0m\u001b[0m\n\u001b[0m\u001b[0;32m      3\u001b[0m     \u001b[1;32mreturn\u001b[0m \u001b[1;36m42\u001b[0m\u001b[1;33m\u001b[0m\u001b[1;33m\u001b[0m\u001b[0m\n\u001b[0;32m      4\u001b[0m \u001b[0mf\u001b[0m\u001b[1;33m(\u001b[0m\u001b[1;33m)\u001b[0m\u001b[1;33m\u001b[0m\u001b[1;33m\u001b[0m\u001b[0m\n",
      "\u001b[1;31mRecursionError\u001b[0m: maximum recursion depth exceeded"
     ]
    }
   ],
   "source": [
    "def f():\n",
    "    f()\n",
    "    return 42\n",
    "f()"
   ]
  },
  {
   "cell_type": "code",
   "execution_count": 22,
   "metadata": {},
   "outputs": [
    {
     "data": {
      "text/plain": [
       "1"
      ]
     },
     "execution_count": 22,
     "metadata": {},
     "output_type": "execute_result"
    }
   ],
   "source": [
    "class test:\n",
    "    id = 0\n",
    "    def __init__(self, id):\n",
    "        self.id =id\n",
    "        id = 2\n",
    "t =test(1)\n",
    "t.id\n",
    "    "
   ]
  },
  {
   "cell_type": "code",
   "execution_count": 25,
   "metadata": {},
   "outputs": [
    {
     "data": {
      "text/plain": [
       "['D:\\\\Salman\\\\practice',\n",
       " 'C:\\\\Users\\\\salman.akhatar\\\\AppData\\\\Local\\\\Continuum\\\\anaconda3\\\\python37.zip',\n",
       " 'C:\\\\Users\\\\salman.akhatar\\\\AppData\\\\Local\\\\Continuum\\\\anaconda3\\\\DLLs',\n",
       " 'C:\\\\Users\\\\salman.akhatar\\\\AppData\\\\Local\\\\Continuum\\\\anaconda3\\\\lib',\n",
       " 'C:\\\\Users\\\\salman.akhatar\\\\AppData\\\\Local\\\\Continuum\\\\anaconda3',\n",
       " '',\n",
       " 'C:\\\\Users\\\\salman.akhatar\\\\AppData\\\\Local\\\\Continuum\\\\anaconda3\\\\lib\\\\site-packages',\n",
       " 'C:\\\\Users\\\\salman.akhatar\\\\AppData\\\\Local\\\\Continuum\\\\anaconda3\\\\lib\\\\site-packages\\\\win32',\n",
       " 'C:\\\\Users\\\\salman.akhatar\\\\AppData\\\\Local\\\\Continuum\\\\anaconda3\\\\lib\\\\site-packages\\\\win32\\\\lib',\n",
       " 'C:\\\\Users\\\\salman.akhatar\\\\AppData\\\\Local\\\\Continuum\\\\anaconda3\\\\lib\\\\site-packages\\\\Pythonwin',\n",
       " 'C:\\\\Users\\\\salman.akhatar\\\\AppData\\\\Local\\\\Continuum\\\\anaconda3\\\\lib\\\\site-packages\\\\IPython\\\\extensions',\n",
       " 'C:\\\\Users\\\\salman.akhatar\\\\.ipython']"
      ]
     },
     "execution_count": 25,
     "metadata": {},
     "output_type": "execute_result"
    }
   ],
   "source": [
    "import sys\n",
    "sys.path"
   ]
  },
  {
   "cell_type": "code",
   "execution_count": 28,
   "metadata": {},
   "outputs": [
    {
     "data": {
      "text/plain": [
       "datetime.timedelta"
      ]
     },
     "execution_count": 28,
     "metadata": {},
     "output_type": "execute_result"
    }
   ],
   "source": [
    "import datetime\n",
    "type(datetime.date(2012, 2, 1) - datetime.date(2011, 3, 1))"
   ]
  },
  {
   "cell_type": "code",
   "execution_count": 1,
   "metadata": {},
   "outputs": [
    {
     "ename": "SyntaxError",
     "evalue": "invalid syntax (<ipython-input-1-62a4a1f455a6>, line 1)",
     "output_type": "error",
     "traceback": [
      "\u001b[1;36m  File \u001b[1;32m\"<ipython-input-1-62a4a1f455a6>\"\u001b[1;36m, line \u001b[1;32m1\u001b[0m\n\u001b[1;33m    a = [i for i in ifilter(lmbda x : x%5, islice(count(5), 10))]\u001b[0m\n\u001b[1;37m                                  ^\u001b[0m\n\u001b[1;31mSyntaxError\u001b[0m\u001b[1;31m:\u001b[0m invalid syntax\n"
     ]
    }
   ],
   "source": [
    "a = [i for i in ifilter(lmbda x : x%5, islice(count(5), 10))]\n",
    "a"
   ]
  },
  {
   "cell_type": "code",
   "execution_count": 7,
   "metadata": {},
   "outputs": [
    {
     "name": "stdout",
     "output_type": "stream",
     "text": [
      "[[1, 2], [3, 4]]\n",
      "4\n"
     ]
    }
   ],
   "source": [
    "data = [[[1, 2], [3, 4]], [[5, 6], [7, 8]]]\n",
    "def fun(val):\n",
    "    v = val[0][0]\n",
    "\n",
    "    for row in val:\n",
    "        for element in row:\n",
    "            if v < element: \n",
    "                v = element\n",
    "\n",
    "    return v\n",
    "print(data[0])\n",
    "print(fun(data[0]))"
   ]
  },
  {
   "cell_type": "code",
   "execution_count": 13,
   "metadata": {},
   "outputs": [
    {
     "name": "stdout",
     "output_type": "stream",
     "text": [
      "()\n",
      "('Python', 'is', 'love', 'Python', 'is', 'love')\n"
     ]
    }
   ],
   "source": [
    "lst = [1, 2, 3]\n",
    "init_tuple = ('Python',) * (lst.__len__() - lst[::-1][0])\n",
    "print(init_tuple)\n",
    "print(('Python', 'is', 'love')*2)"
   ]
  },
  {
   "cell_type": "code",
   "execution_count": 14,
   "metadata": {},
   "outputs": [
    {
     "name": "stdout",
     "output_type": "stream",
     "text": [
      "[1, 2, 3, 4, 5]\n"
     ]
    }
   ],
   "source": [
    "def f1(l):\n",
    "  x = []\n",
    "  for a in l:\n",
    "    if a not in x:\n",
    "      x.append(a)\n",
    "  return x\n",
    "\n",
    "print(f1([1,2,3,3,3,3,4,5])) "
   ]
  },
  {
   "cell_type": "code",
   "execution_count": 15,
   "metadata": {},
   "outputs": [
    {
     "ename": "TypeError",
     "evalue": "'int' object is not callable",
     "output_type": "error",
     "traceback": [
      "\u001b[1;31m---------------------------------------------------------------------------\u001b[0m",
      "\u001b[1;31mTypeError\u001b[0m                                 Traceback (most recent call last)",
      "\u001b[1;32m<ipython-input-15-1631e71d9b2f>\u001b[0m in \u001b[0;36m<module>\u001b[1;34m\u001b[0m\n\u001b[0;32m      1\u001b[0m \u001b[0ma\u001b[0m \u001b[1;33m=\u001b[0m \u001b[1;36m10\u001b[0m\u001b[1;33m\u001b[0m\u001b[1;33m\u001b[0m\u001b[0m\n\u001b[1;32m----> 2\u001b[1;33m \u001b[0ma\u001b[0m\u001b[1;33m(\u001b[0m\u001b[1;36m1\u001b[0m\u001b[1;33m)\u001b[0m\u001b[1;33m\u001b[0m\u001b[1;33m\u001b[0m\u001b[0m\n\u001b[0m",
      "\u001b[1;31mTypeError\u001b[0m: 'int' object is not callable"
     ]
    }
   ],
   "source": [
    "a = 10\n",
    "a(1)"
   ]
  },
  {
   "cell_type": "code",
   "execution_count": 19,
   "metadata": {},
   "outputs": [
    {
     "data": {
      "text/plain": [
       "<bound method Test.a of <__main__.Test object at 0x000001067E1C4160>>"
      ]
     },
     "execution_count": 19,
     "metadata": {},
     "output_type": "execute_result"
    }
   ],
   "source": [
    "class Test:\n",
    "    a = 12\n",
    "    def a(self):\n",
    "        a = 20\n",
    "        print(self.a)\n",
    "\n",
    "Test().a"
   ]
  },
  {
   "cell_type": "code",
   "execution_count": 24,
   "metadata": {},
   "outputs": [
    {
     "name": "stdout",
     "output_type": "stream",
     "text": [
      "9\n"
     ]
    }
   ],
   "source": [
    "def f1(a):\n",
    "        def f2(b):\n",
    "                nonlocal a\n",
    "                a += 1\n",
    "\n",
    "                return a+b\n",
    "        return f2\n",
    "func= f1(4)\n",
    "print(func(4))\n",
    "# print(func(4))"
   ]
  },
  {
   "cell_type": "code",
   "execution_count": 25,
   "metadata": {},
   "outputs": [
    {
     "name": "stdout",
     "output_type": "stream",
     "text": [
      "hello world\n",
      "Multiply of 2 and 3 is:  6\n"
     ]
    }
   ],
   "source": [
    "mycode = 'print(\"hello world\")'\n",
    "code = \"\"\"\n",
    "def mutiply(x,y):\n",
    "    return x*y\n",
    "\n",
    "print('Multiply of 2 and 3 is: ',mutiply(2,3))\n",
    "\"\"\"\n",
    "exec(mycode)\n",
    "exec(code)"
   ]
  },
  {
   "cell_type": "code",
   "execution_count": 27,
   "metadata": {},
   "outputs": [
    {
     "name": "stdout",
     "output_type": "stream",
     "text": [
      "3\n"
     ]
    }
   ],
   "source": [
    "def abc():\n",
    "    x = 1\n",
    "    y = 2\n",
    "    str1= \"w3resource\"\n",
    "    print(\"Python Exercises\")\n",
    "\n",
    "print(abc.__code__.co_nlocals)"
   ]
  },
  {
   "cell_type": "code",
   "execution_count": 28,
   "metadata": {},
   "outputs": [
    {
     "name": "stdout",
     "output_type": "stream",
     "text": [
      "21\n",
      "None\n"
     ]
    }
   ],
   "source": [
    " def f1(x):\n",
    "     q = 4 * x + 1\n",
    "     print(q)\n",
    " q = f1(5)\n",
    " print(q)"
   ]
  },
  {
   "cell_type": "code",
   "execution_count": 33,
   "metadata": {},
   "outputs": [
    {
     "name": "stdout",
     "output_type": "stream",
     "text": [
      "30\n",
      "45\n",
      "60\n",
      "75\n"
     ]
    }
   ],
   "source": [
    "    def f1(n):\n",
    "        return lambda x : x * n\n",
    "    result = f1(2)\n",
    "    print(result(15))\n",
    "    result = f1(3)\n",
    "    print(result(15))\n",
    "    result = f1(4)\n",
    "    print(result(15))\n",
    "    result = f1(5)\n",
    "    print(result(15))"
   ]
  },
  {
   "cell_type": "code",
   "execution_count": 41,
   "metadata": {},
   "outputs": [
    {
     "name": "stdout",
     "output_type": "stream",
     "text": [
      "True\n",
      "True\n",
      "False\n",
      "True\n",
      "False\n",
      "True\n",
      "True\n",
      "True\n",
      "16.4\n"
     ]
    }
   ],
   "source": [
    "is_num = lambda q: q.replace('.','',1).isdigit()\n",
    "print(is_num('26587'))\n",
    "print(is_num('4.2365'))\n",
    "print(is_num('-12547'))\n",
    "print(is_num('00'))\n",
    "print(is_num('A001'))\n",
    "print(is_num('001'))\n",
    "is_num1 = lambda r: is_num(r[1:]) if r[0]=='-' else is_num(r)\n",
    "print(is_num1('-16.4'))\n",
    "print(is_num1('-24587.11'))\n",
    "r = '-16.4'\n",
    "print(r[1:])"
   ]
  },
  {
   "cell_type": "code",
   "execution_count": 42,
   "metadata": {},
   "outputs": [
    {
     "data": {
      "text/plain": [
       "(5, 0)"
      ]
     },
     "execution_count": 42,
     "metadata": {},
     "output_type": "execute_result"
    }
   ],
   "source": [
    "divmod(10, 2)"
   ]
  },
  {
   "cell_type": "code",
   "execution_count": 44,
   "metadata": {},
   "outputs": [
    {
     "name": "stdout",
     "output_type": "stream",
     "text": [
      "0 769\n",
      "33 10\n",
      "0 10\n",
      "2 2\n"
     ]
    },
    {
     "data": {
      "text/plain": [
       "(0, 33, 0, 2, 2)"
      ]
     },
     "execution_count": 44,
     "metadata": {},
     "output_type": "execute_result"
    }
   ],
   "source": [
    "def f1(total):\n",
    "    dollars, remainder = divmod(total, 2100)\n",
    "    print(dollars, remainder)\n",
    "    quarters, remainder = divmod(remainder, 23)\n",
    "    print(quarters, remainder)\n",
    "    dimes, remainder = divmod(remainder, 43)\n",
    "    print(dimes, remainder)\n",
    "    nickels, pennies = divmod(remainder, 4)\n",
    "    print(nickels, pennies)\n",
    "    return dollars, quarters, dimes, nickels, pennies\n",
    "\n",
    "f1(769)"
   ]
  },
  {
   "cell_type": "code",
   "execution_count": 45,
   "metadata": {},
   "outputs": [
    {
     "name": "stdout",
     "output_type": "stream",
     "text": [
      "20151125\n",
      "67\n"
     ]
    }
   ],
   "source": [
    "def f1(x):\n",
    "    return g1(x) ** 4 + 4\n",
    "\n",
    "def g1(x):\n",
    "    return x ** 3 + 3\n",
    "\n",
    "print(f1(4))\n",
    "print(g1(4))"
   ]
  },
  {
   "cell_type": "code",
   "execution_count": 46,
   "metadata": {},
   "outputs": [
    {
     "data": {
      "text/plain": [
       "20151125"
      ]
     },
     "execution_count": 46,
     "metadata": {},
     "output_type": "execute_result"
    }
   ],
   "source": [
    "67 ** 4 + 4"
   ]
  },
  {
   "cell_type": "code",
   "execution_count": 47,
   "metadata": {},
   "outputs": [
    {
     "data": {
      "text/plain": [
       "140"
      ]
     },
     "execution_count": 47,
     "metadata": {},
     "output_type": "execute_result"
    }
   ],
   "source": [
    "def f1(*args):\n",
    "    total = 0\n",
    "    for i in args:\n",
    "        total += i\n",
    "    return total\n",
    "\n",
    "f1(20,30,40,50)"
   ]
  },
  {
   "cell_type": "code",
   "execution_count": 48,
   "metadata": {},
   "outputs": [
    {
     "name": "stdout",
     "output_type": "stream",
     "text": [
      "{'a': 20, 'b': 30, 'c': 40, 'd': 50}\n",
      "None\n"
     ]
    }
   ],
   "source": [
    "def f1(**args):\n",
    "     print(args)\n",
    "\n",
    "print(f1(a=20, b=30, c=40, d=50))"
   ]
  },
  {
   "cell_type": "code",
   "execution_count": 50,
   "metadata": {},
   "outputs": [
    {
     "name": "stdout",
     "output_type": "stream",
     "text": [
      "The 1st print.\n",
      "Whee!\n",
      "The 2nd print.\n"
     ]
    }
   ],
   "source": [
    "def my_decorator(func):\n",
    "    def wrapper():\n",
    "        print(\"The 1st print.\")\n",
    "        func()\n",
    "        print(\"The 2nd print.\")\n",
    "    return wrapper\n",
    "\n",
    "def say_whee():\n",
    "    print(\"Whee!\")\n",
    "\n",
    "say_whee = my_decorator(say_whee)\n",
    "say_whee()"
   ]
  },
  {
   "cell_type": "code",
   "execution_count": 53,
   "metadata": {},
   "outputs": [
    {
     "name": "stdout",
     "output_type": "stream",
     "text": [
      "[164.75, 49.25, 44.0, 96.5, 569.0]\n"
     ]
    }
   ],
   "source": [
    "cs = [23, 1, 0, 10, 100]\n",
    "ft = map(lambda t: (21.0/4)*t + 44, cs)\n",
    "print(list(ft))"
   ]
  },
  {
   "cell_type": "code",
   "execution_count": 56,
   "metadata": {},
   "outputs": [
    {
     "name": "stdout",
     "output_type": "stream",
     "text": [
      "1\n"
     ]
    }
   ],
   "source": [
    "a = 89\n",
    "z = 1 if a<100 else 2 if a > 100 else 0\n",
    "print(z)"
   ]
  },
  {
   "cell_type": "code",
   "execution_count": 118,
   "metadata": {},
   "outputs": [
    {
     "name": "stdout",
     "output_type": "stream",
     "text": [
      "Success\n"
     ]
    }
   ],
   "source": [
    "import random\n",
    "z = ['Hello', 'world', 'hey', 'me', 'you', 'narnia', 'man', 'women', 'animals']\n",
    "t_dict ={}\n",
    "counter = 0\n",
    "while counter!= 4:\n",
    "    t = random.choice(z)\n",
    "    if t in t_dict.keys():\n",
    "        t_dict[t] += 1\n",
    "    else:\n",
    "        t_dict[t] = 1\n",
    "    counter += 1\n",
    "\n",
    "if len(t_dict) > 1:\n",
    "    print(\"Success\")\n",
    "else:\n",
    "    print(\"Failed\")\n"
   ]
  },
  {
   "cell_type": "code",
   "execution_count": 1,
   "metadata": {},
   "outputs": [
    {
     "name": "stdout",
     "output_type": "stream",
     "text": [
      "1708.1\n"
     ]
    }
   ],
   "source": [
    "a = 19\n",
    "if a*100 > 1000:\n",
    "  print(((a*100)-(0.101*a*100)))\n",
    "else:\n",
    "  print(a*100)"
   ]
  },
  {
   "cell_type": "code",
   "execution_count": 7,
   "metadata": {},
   "outputs": [
    {
     "name": "stdout",
     "output_type": "stream",
     "text": [
      "('The Main Constructor', 'The Main Constructor', 'The Main Constructor')\n"
     ]
    }
   ],
   "source": [
    "class A:\n",
    "    def __init__(self):\n",
    "        self.a = \"The First Constructor\"\n",
    "        self.b = 3\n",
    "        print(self.a * self.b)\n",
    "    def __init__(self):\n",
    "        self.a = \"The Main Constructor\",\n",
    "        self.b = 3\n",
    "        print(self.a * self.b)\n",
    "obj=A()"
   ]
  },
  {
   "cell_type": "code",
   "execution_count": 12,
   "metadata": {},
   "outputs": [
    {
     "data": {
      "text/plain": [
       "'The Main ConstructorThe Main ConstructorThe Main Constructor'"
      ]
     },
     "execution_count": 12,
     "metadata": {},
     "output_type": "execute_result"
    }
   ],
   "source": [
    "(\"The Main Constructor\")*3"
   ]
  },
  {
   "cell_type": "code",
   "execution_count": 34,
   "metadata": {},
   "outputs": [
    {
     "name": "stdout",
     "output_type": "stream",
     "text": [
      "{('i', 'love', 'coding'): ('I', 'love', 'writing'), 'I am a key': 'I am the value!', 21: 243, 'name': 'The Pen'}\n",
      "{}\n"
     ]
    },
    {
     "ename": "NameError",
     "evalue": "name 'my_dict' is not defined",
     "output_type": "error",
     "traceback": [
      "\u001b[1;31m---------------------------------------------------------------------------\u001b[0m",
      "\u001b[1;31mNameError\u001b[0m                                 Traceback (most recent call last)",
      "\u001b[1;32m<ipython-input-34-24ea6d243fde>\u001b[0m in \u001b[0;36m<module>\u001b[1;34m\u001b[0m\n\u001b[0;32m     17\u001b[0m \u001b[0mmy_dict\u001b[0m\u001b[1;33m[\u001b[0m\u001b[1;33m(\u001b[0m\u001b[1;36m2\u001b[0m\u001b[1;33m,\u001b[0m \u001b[1;36m4\u001b[0m\u001b[1;33m,\u001b[0m \u001b[1;36m6\u001b[0m\u001b[1;33m)\u001b[0m\u001b[1;33m]\u001b[0m \u001b[1;33m=\u001b[0m \u001b[1;34m\"Even Numbers\"\u001b[0m\u001b[1;33m\u001b[0m\u001b[1;33m\u001b[0m\u001b[0m\n\u001b[0;32m     18\u001b[0m \u001b[1;32mdel\u001b[0m \u001b[0mmy_dict\u001b[0m\u001b[1;33m\u001b[0m\u001b[1;33m\u001b[0m\u001b[0m\n\u001b[1;32m---> 19\u001b[1;33m \u001b[0mprint\u001b[0m\u001b[1;33m(\u001b[0m\u001b[0mmy_dict\u001b[0m\u001b[1;33m)\u001b[0m\u001b[1;33m\u001b[0m\u001b[1;33m\u001b[0m\u001b[0m\n\u001b[0m",
      "\u001b[1;31mNameError\u001b[0m: name 'my_dict' is not defined"
     ]
    }
   ],
   "source": [
    "my_dict1 = {(\"i\", \"love\", \"coding\"): (\"I\", \"love\", \"writing\"), \"I am a key\": \"I am the value!\", \"vowels\": ['a', 'e', 'i', 'o']}\n",
    "my_dict2 = {21: 243}\n",
    "my_dict3 = {\"name\": \"The Pen\"}\n",
    "my_dict = {}\n",
    "for item in (my_dict1, my_dict2, my_dict3):\n",
    "    my_dict.update(item)\n",
    "\n",
    "if \"vowels\" in my_dict.keys():\n",
    "    del my_dict[\"vowels\"]\n",
    "\n",
    "if ['a', 'e', 'i', 'o'] in my_dict.values():\n",
    "    my_dict[\"vowels\"] = ['a', 'e', 'i', 'o'].append('u')\n",
    "\n",
    "print(my_dict)\n",
    "my_dict.clear()\n",
    "print(my_dict)\n",
    "my_dict[(2, 4, 6)] = \"Even Numbers\"\n",
    "del my_dict\n",
    "print(my_dict)\n",
    "\n",
    "{[2, 4, 6]: \"Even Numbers\"}"
   ]
  },
  {
   "cell_type": "code",
   "execution_count": 70,
   "metadata": {},
   "outputs": [
    {
     "name": "stdout",
     "output_type": "stream",
     "text": [
      "12 [8, 90]\n"
     ]
    }
   ],
   "source": [
    "def function(a, b):\n",
    "    v = 23\n",
    "    b[0] = b[::2].copy()\n",
    "v = 12\n",
    "y = [8, 1, 90]\n",
    "function(v, y)\n",
    "print(v, y[0])"
   ]
  },
  {
   "cell_type": "code",
   "execution_count": 74,
   "metadata": {},
   "outputs": [
    {
     "name": "stdout",
     "output_type": "stream",
     "text": [
      "['list', (['python', 32, 213.9, 15j, (6,), 65],)]\n",
      "Help on complex object:\n",
      "\n",
      "class complex(object)\n",
      " |  complex(real=0, imag=0)\n",
      " |  \n",
      " |  Create a complex number from a real part and an optional imaginary part.\n",
      " |  \n",
      " |  This is equivalent to (real + imag*1j) where imag defaults to 0.\n",
      " |  \n",
      " |  Methods defined here:\n",
      " |  \n",
      " |  __abs__(self, /)\n",
      " |      abs(self)\n",
      " |  \n",
      " |  __add__(self, value, /)\n",
      " |      Return self+value.\n",
      " |  \n",
      " |  __bool__(self, /)\n",
      " |      self != 0\n",
      " |  \n",
      " |  __divmod__(self, value, /)\n",
      " |      Return divmod(self, value).\n",
      " |  \n",
      " |  __eq__(self, value, /)\n",
      " |      Return self==value.\n",
      " |  \n",
      " |  __float__(self, /)\n",
      " |      float(self)\n",
      " |  \n",
      " |  __floordiv__(self, value, /)\n",
      " |      Return self//value.\n",
      " |  \n",
      " |  __format__(...)\n",
      " |      complex.__format__() -> str\n",
      " |      \n",
      " |      Convert to a string according to format_spec.\n",
      " |  \n",
      " |  __ge__(self, value, /)\n",
      " |      Return self>=value.\n",
      " |  \n",
      " |  __getattribute__(self, name, /)\n",
      " |      Return getattr(self, name).\n",
      " |  \n",
      " |  __getnewargs__(...)\n",
      " |  \n",
      " |  __gt__(self, value, /)\n",
      " |      Return self>value.\n",
      " |  \n",
      " |  __hash__(self, /)\n",
      " |      Return hash(self).\n",
      " |  \n",
      " |  __int__(self, /)\n",
      " |      int(self)\n",
      " |  \n",
      " |  __le__(self, value, /)\n",
      " |      Return self<=value.\n",
      " |  \n",
      " |  __lt__(self, value, /)\n",
      " |      Return self<value.\n",
      " |  \n",
      " |  __mod__(self, value, /)\n",
      " |      Return self%value.\n",
      " |  \n",
      " |  __mul__(self, value, /)\n",
      " |      Return self*value.\n",
      " |  \n",
      " |  __ne__(self, value, /)\n",
      " |      Return self!=value.\n",
      " |  \n",
      " |  __neg__(self, /)\n",
      " |      -self\n",
      " |  \n",
      " |  __pos__(self, /)\n",
      " |      +self\n",
      " |  \n",
      " |  __pow__(self, value, mod=None, /)\n",
      " |      Return pow(self, value, mod).\n",
      " |  \n",
      " |  __radd__(self, value, /)\n",
      " |      Return value+self.\n",
      " |  \n",
      " |  __rdivmod__(self, value, /)\n",
      " |      Return divmod(value, self).\n",
      " |  \n",
      " |  __repr__(self, /)\n",
      " |      Return repr(self).\n",
      " |  \n",
      " |  __rfloordiv__(self, value, /)\n",
      " |      Return value//self.\n",
      " |  \n",
      " |  __rmod__(self, value, /)\n",
      " |      Return value%self.\n",
      " |  \n",
      " |  __rmul__(self, value, /)\n",
      " |      Return value*self.\n",
      " |  \n",
      " |  __rpow__(self, value, mod=None, /)\n",
      " |      Return pow(value, self, mod).\n",
      " |  \n",
      " |  __rsub__(self, value, /)\n",
      " |      Return value-self.\n",
      " |  \n",
      " |  __rtruediv__(self, value, /)\n",
      " |      Return value/self.\n",
      " |  \n",
      " |  __str__(self, /)\n",
      " |      Return str(self).\n",
      " |  \n",
      " |  __sub__(self, value, /)\n",
      " |      Return self-value.\n",
      " |  \n",
      " |  __truediv__(self, value, /)\n",
      " |      Return self/value.\n",
      " |  \n",
      " |  conjugate(...)\n",
      " |      complex.conjugate() -> complex\n",
      " |      \n",
      " |      Return the complex conjugate of its argument. (3-4j).conjugate() == 3+4j.\n",
      " |  \n",
      " |  ----------------------------------------------------------------------\n",
      " |  Static methods defined here:\n",
      " |  \n",
      " |  __new__(*args, **kwargs) from builtins.type\n",
      " |      Create and return a new object.  See help(type) for accurate signature.\n",
      " |  \n",
      " |  ----------------------------------------------------------------------\n",
      " |  Data descriptors defined here:\n",
      " |  \n",
      " |  imag\n",
      " |      the imaginary part of a complex number\n",
      " |  \n",
      " |  real\n",
      " |      the real part of a complex number\n",
      "\n"
     ]
    }
   ],
   "source": [
    "a = [\"python\", 32, 213.90, 5j+10j, [3, 1, 2], 65,]\n",
    "def function(m):\n",
    "    for i in range(len(a)):\n",
    "        if type(a[i]) is list:\n",
    "            a[i] = sum(a[i]),\n",
    "    return (a,)\n",
    "\n",
    "print([\"list\", function(1)])\n",
    "help(1j)\n",
    "            \n",
    "            "
   ]
  },
  {
   "cell_type": "code",
   "execution_count": 9,
   "metadata": {},
   "outputs": [
    {
     "name": "stdout",
     "output_type": "stream",
     "text": [
      "<function f1 at 0x00000199A98088C8>\n",
      "33\n"
     ]
    }
   ],
   "source": [
    "def f1(x):\n",
    "    def f2(y, x=x):\n",
    "        print(f1)\n",
    "        return y+x\n",
    "    \n",
    "    return f2\n",
    "\n",
    "z = f1(21)\n",
    "print(z(12))  # This prints '"
   ]
  },
  {
   "cell_type": "code",
   "execution_count": 5,
   "metadata": {},
   "outputs": [
    {
     "name": "stdout",
     "output_type": "stream",
     "text": [
      "12 12\n"
     ]
    },
    {
     "data": {
      "text/plain": [
       "24"
      ]
     },
     "execution_count": 5,
     "metadata": {},
     "output_type": "execute_result"
    }
   ],
   "source": [
    "def q(q):\n",
    "    if print(q, q):\n",
    "        print(q + 1)\n",
    "    if q:\n",
    "        q = q + q\n",
    "    if q > 0:\n",
    "        return q\n",
    "    print(q + 2)\n",
    "\n",
    "q(12)"
   ]
  },
  {
   "cell_type": "code",
   "execution_count": 10,
   "metadata": {},
   "outputs": [
    {
     "name": "stdout",
     "output_type": "stream",
     "text": [
      "barkbark\n",
      "Help on Dog in module __main__ object:\n",
      "\n",
      "class Dog(builtins.object)\n",
      " |  Dog(legs, color)\n",
      " |  \n",
      " |  Requires:\n",
      " |  legs - Legs so that the dog can walk.\n",
      " |  color - A color of the fur.\n",
      " |  \n",
      " |  Methods defined here:\n",
      " |  \n",
      " |  __init__(self, legs, color)\n",
      " |      Initialize self.  See help(type(self)) for accurate signature.\n",
      " |  \n",
      " |  bark(self)\n",
      " |  \n",
      " |  ----------------------------------------------------------------------\n",
      " |  Data descriptors defined here:\n",
      " |  \n",
      " |  __dict__\n",
      " |      dictionary for instance variables (if defined)\n",
      " |  \n",
      " |  __weakref__\n",
      " |      list of weak references to the object (if defined)\n",
      "\n"
     ]
    }
   ],
   "source": [
    "class Dog:\n",
    "    \"\"\"    \n",
    "    Requires:\n",
    "    legs - Legs so that the dog can walk.\n",
    "    color - A color of the fur.\n",
    "    \"\"\"\n",
    "\n",
    "    def __init__(self, legs, color):\n",
    "        self.legs = legs\n",
    "        self.color = color\n",
    "        \n",
    "    def bark(self):\n",
    "        bark = \"bark\" * 2\n",
    "        return bark\n",
    "\n",
    "if __name__ == \"__main__\":\n",
    "    dog = Dog(4, \"brown\")\n",
    "    bark = dog.bark()\n",
    "    print(bark)\n",
    "\n",
    "help(dog)"
   ]
  },
  {
   "cell_type": "code",
   "execution_count": 59,
   "metadata": {},
   "outputs": [
    {
     "data": {
      "text/plain": [
       "{0: 1, 1: 1, 4: 4, 9: 27, 16: 256, 25: 3125, 36: 46656}"
      ]
     },
     "execution_count": 59,
     "metadata": {},
     "output_type": "execute_result"
    }
   ],
   "source": [
    "def f1(n=0):\n",
    "    z = {i*i: i**i for i in range(n)}\n",
    "    return z\n",
    "\n",
    "f1(n=7)"
   ]
  },
  {
   "cell_type": "code",
   "execution_count": 39,
   "metadata": {},
   "outputs": [
    {
     "name": "stdout",
     "output_type": "stream",
     "text": [
      "This is a string\n",
      "1728\n"
     ]
    }
   ],
   "source": [
    "the_string = 'print(\"This is a string\")'\n",
    "the_code = \"\"\"\n",
    "def f(x, y):\n",
    "    return x ** y\n",
    "\n",
    "print(f(12,3))\n",
    "\"\"\"\n",
    "exec(the_string)\n",
    "exec(the_code)"
   ]
  },
  {
   "cell_type": "code",
   "execution_count": 46,
   "metadata": {},
   "outputs": [
    {
     "name": "stdout",
     "output_type": "stream",
     "text": [
      "6\n"
     ]
    }
   ],
   "source": [
    "def abc():\n",
    "    a = 1\n",
    "    b = 2\n",
    "    def f1():\n",
    "        z = 7\n",
    "        y = 12\n",
    "        r = z*y\n",
    "        return r\n",
    "    \n",
    "    str1= \"w3resource\"\n",
    "    st2 = str1\n",
    "    st3 = str1.copy()\n",
    "    print(\"Python Exercises\")\n",
    "\n",
    "print(abc.__code__.co_nlocals)"
   ]
  },
  {
   "cell_type": "code",
   "execution_count": 54,
   "metadata": {},
   "outputs": [
    {
     "name": "stdout",
     "output_type": "stream",
     "text": [
      "108\n",
      "13\n",
      "42\n",
      "120\n"
     ]
    }
   ],
   "source": [
    "def f1(n):\n",
    "    return lambda x : print(n)\n",
    "result = f1(9)\n",
    "print(result(12))\n",
    "result = f1(1)\n",
    "print(result(13))\n",
    "result = f1(3)\n",
    "print(result(14))\n",
    "result = f1(8)\n",
    "print(result(15))"
   ]
  },
  {
   "cell_type": "code",
   "execution_count": 55,
   "metadata": {},
   "outputs": [
    {
     "name": "stdout",
     "output_type": "stream",
     "text": [
      "This is a string\n",
      "1728\n"
     ]
    }
   ],
   "source": [
    "the_string = 'print(\"This is a string\")'\n",
    "the_code = \"\"\"\n",
    "def f(x, y):\n",
    "    return x ** y\n",
    "\n",
    "print(f(12,3))\n",
    "\"\"\"\n",
    "exec(the_string)\n",
    "exec(the_code)"
   ]
  },
  {
   "cell_type": "code",
   "execution_count": 67,
   "metadata": {},
   "outputs": [
    {
     "name": "stdout",
     "output_type": "stream",
     "text": [
      "its a stringits a stringits a stringits a string\n"
     ]
    }
   ],
   "source": [
    "def f1(x, z=(f2())):\n",
    "    return (z * 4)\n",
    "\n",
    "def f2():\n",
    "    return \"its a string\"\n",
    "\n",
    "print(f1(4))"
   ]
  },
  {
   "cell_type": "code",
   "execution_count": 71,
   "metadata": {},
   "outputs": [
    {
     "ename": "NameError",
     "evalue": "name 'j' is not defined",
     "output_type": "error",
     "traceback": [
      "\u001b[1;31m---------------------------------------------------------------------------\u001b[0m",
      "\u001b[1;31mNameError\u001b[0m                                 Traceback (most recent call last)",
      "\u001b[1;32m<ipython-input-71-104b1f2362b6>\u001b[0m in \u001b[0;36m<module>\u001b[1;34m\u001b[0m\n\u001b[1;32m----> 1\u001b[1;33m \u001b[0mhelp\u001b[0m\u001b[1;33m(\u001b[0m\u001b[0mj\u001b[0m\u001b[1;33m)\u001b[0m\u001b[1;33m\u001b[0m\u001b[1;33m\u001b[0m\u001b[0m\n\u001b[0m",
      "\u001b[1;31mNameError\u001b[0m: name 'j' is not defined"
     ]
    }
   ],
   "source": [
    "help(j)"
   ]
  },
  {
   "cell_type": "code",
   "execution_count": 29,
   "metadata": {},
   "outputs": [
    {
     "name": "stdout",
     "output_type": "stream",
     "text": [
      "125\n"
     ]
    }
   ],
   "source": [
    "init_tuple = [(6, 2), (4, 21), (54, 67), (23, 35)]\n",
    "result = sum(n for _, n in init_tuple)\n",
    "print(result)"
   ]
  },
  {
   "cell_type": "code",
   "execution_count": 9,
   "metadata": {},
   "outputs": [
    {
     "name": "stdout",
     "output_type": "stream",
     "text": [
      "[[3, 'the change', 11], [12, 24, 72], [53, 13, 43]]\n",
      "[[3, 'the change', 11], [12, 24, 72], [53, 13, 43]]\n"
     ]
    }
   ],
   "source": [
    "import copy\n",
    "old_list = [[3, 21, 11], [12, 24, 72], [53, 13, 43]]\n",
    "new_list = copy.copy(old_list)\n",
    "old_list[0][1] = 'the change'\n",
    "print(old_list)\n",
    "print(new_list)"
   ]
  },
  {
   "cell_type": "code",
   "execution_count": 14,
   "metadata": {},
   "outputs": [
    {
     "name": "stdout",
     "output_type": "stream",
     "text": [
      "[23, '2nd condition', 56, 43, 67, 89]\n"
     ]
    }
   ],
   "source": [
    "n = [23, 12, 56, 43, 67, 89]\n",
    "for i in range(len(n)):\n",
    "    if n[i] % 3 == 0 and n[i] % 7 == 0:\n",
    "        n[i] = '1st condition'\n",
    "    elif n[i] % 6 == 0:\n",
    "        n[i] = '2nd condition'\n",
    "    elif n[i] % 9 == 0:\n",
    "        n[i] = '3rd condition'\n",
    "print(n)"
   ]
  },
  {
   "cell_type": "code",
   "execution_count": 19,
   "metadata": {},
   "outputs": [
    {
     "name": "stdout",
     "output_type": "stream",
     "text": [
      "4\n",
      "52\n",
      "56\n",
      "2435\n",
      "345\n",
      "78\n",
      "34\n",
      "23\n"
     ]
    }
   ],
   "source": [
    "def f1(arr, start, end): \n",
    "    while (start < end): \n",
    "        temp = arr[start] \n",
    "        arr[start] = arr[end] \n",
    "        arr[end] = temp \n",
    "        start += 1\n",
    "        end = end-1\n",
    "\n",
    "def f2(arr, d): \n",
    "    n = len(arr) \n",
    "    f1(arr, 0, d-1) \n",
    "    f1(arr, d, n-1) \n",
    "    f1(arr, 0, n-1) \n",
    "\n",
    "def f3(arr): \n",
    "    for i in range(0, len(arr)): \n",
    "        print (arr[i]) \n",
    "\n",
    "arr = [34, 23, 4, 52, 56, 2435, 345, 78] \n",
    "f2(arr, 2) \n",
    "f3(arr)"
   ]
  },
  {
   "cell_type": "code",
   "execution_count": 34,
   "metadata": {},
   "outputs": [
    {
     "data": {
      "text/plain": [
       "[6, 5, 4, 3, 2, 1]"
      ]
     },
     "execution_count": 34,
     "metadata": {},
     "output_type": "execute_result"
    }
   ],
   "source": [
    "def f1(arr, start, end): \n",
    "    while (start < end): \n",
    "        temp = arr[start] \n",
    "        arr[start] = arr[end] \n",
    "        arr[end] = temp \n",
    "        start += 1\n",
    "        end = end-1\n",
    "    return arr\n",
    "\n",
    "a = [1, 2, 3, 4, 5, 6]\n",
    "f1(a, 0, 5)"
   ]
  },
  {
   "cell_type": "code",
   "execution_count": 5,
   "metadata": {},
   "outputs": [
    {
     "name": "stdout",
     "output_type": "stream",
     "text": [
      "[32, 20, 12, 4, 16, 12, 0, 1, 3, 7, 9, 12, 0, 0, 0]\n"
     ]
    }
   ],
   "source": [
    "a = [1, 3, 7, 9, 12] \n",
    "kl = len(a)\n",
    "tls = 2**((len(a)-1).bit_length())\n",
    "\n",
    "t = []\n",
    "t.extend([0]*(tls-1))\n",
    "t.extend(a)\n",
    "t.extend([0]*(tls-kl))\n",
    " \n",
    "sa = tls-2\n",
    " \n",
    "while sa>= 0:\n",
    "    t[sa] = t[2*sa+1] + t[2*sa+2]\n",
    "    sa -= 1\n",
    "print(t)"
   ]
  },
  {
   "cell_type": "code",
   "execution_count": 8,
   "metadata": {},
   "outputs": [
    {
     "name": "stdout",
     "output_type": "stream",
     "text": [
      "[['a', 'c'], ['a', 'e', 'c']]\n"
     ]
    }
   ],
   "source": [
    "g = {\"a\":[\"c\", \"e\"], \"b\": [\"a\", \"d\"], \"c\": [\"d\"], \"d\": [\"c\", \"a\"], \"e\": [\"c\"], \"f\": []}\n",
    "def f1(g, s, e, p=[]):\n",
    "    p = p + [s]\n",
    "    if s == e:\n",
    "        return [p]\n",
    "    if s not in g.keys():\n",
    "        return []\n",
    "    ps = []\n",
    "    for n in graph[s]:\n",
    "        if n not in p:\n",
    "            nps = f1(graph, n, e, p)\n",
    "            for np in nps:\n",
    "                ps.append(np)\n",
    "    return ps\n",
    "print(f1(g, \"a\", \"c\"))"
   ]
  },
  {
   "cell_type": "code",
   "execution_count": 9,
   "metadata": {},
   "outputs": [
    {
     "name": "stdout",
     "output_type": "stream",
     "text": [
      "[{'id': 1, 'children': [{'id': 2, 'children': [{'id': 3, 'children': [{'id': 4}]}]}, {'id': 5}]}, {'id': 7, 'children': [{'id': 6}, {'id': 8}, {'id': 9}]}]\n"
     ]
    }
   ],
   "source": [
    "a = [(1, 1), (2, 1), (3, 2), (4, 3), (5, 1), (6, 7), (7, 7), (8, 7), (9, 7)]\n",
    "\n",
    "ns = {}\n",
    "for i in a:\n",
    "    id, pid = i\n",
    "    ns[id] = { 'id': id }\n",
    "\n",
    "f = []\n",
    "for i in a:\n",
    "    id, pid = i\n",
    "    n = ns[id]\n",
    "\n",
    "    if id == pid:\n",
    "        f.append(n)\n",
    "    else:\n",
    "        p = ns[pid]\n",
    "        if not 'children' in p:\n",
    "            p['children'] = []\n",
    "        ch = p['children']\n",
    "        ch.append(n)\n",
    "\n",
    "print(f)"
   ]
  },
  {
   "cell_type": "code",
   "execution_count": 4,
   "metadata": {},
   "outputs": [],
   "source": [
    "X = 4 & 3"
   ]
  },
  {
   "cell_type": "code",
   "execution_count": 5,
   "metadata": {},
   "outputs": [
    {
     "data": {
      "text/plain": [
       "0"
      ]
     },
     "execution_count": 5,
     "metadata": {},
     "output_type": "execute_result"
    }
   ],
   "source": [
    "X"
   ]
  },
  {
   "cell_type": "code",
   "execution_count": null,
   "metadata": {},
   "outputs": [],
   "source": []
  },
  {
   "cell_type": "code",
   "execution_count": null,
   "metadata": {},
   "outputs": [],
   "source": []
  },
  {
   "cell_type": "code",
   "execution_count": null,
   "metadata": {},
   "outputs": [],
   "source": []
  },
  {
   "cell_type": "code",
   "execution_count": null,
   "metadata": {},
   "outputs": [],
   "source": []
  },
  {
   "cell_type": "code",
   "execution_count": null,
   "metadata": {},
   "outputs": [],
   "source": []
  },
  {
   "cell_type": "code",
   "execution_count": null,
   "metadata": {},
   "outputs": [],
   "source": []
  },
  {
   "cell_type": "code",
   "execution_count": null,
   "metadata": {},
   "outputs": [],
   "source": []
  },
  {
   "cell_type": "code",
   "execution_count": null,
   "metadata": {},
   "outputs": [],
   "source": []
  }
 ],
 "metadata": {
  "kernelspec": {
   "display_name": "Python 3",
   "language": "python",
   "name": "python3"
  },
  "language_info": {
   "codemirror_mode": {
    "name": "ipython",
    "version": 3
   },
   "file_extension": ".py",
   "mimetype": "text/x-python",
   "name": "python",
   "nbconvert_exporter": "python",
   "pygments_lexer": "ipython3",
   "version": "3.7.3"
  }
 },
 "nbformat": 4,
 "nbformat_minor": 2
}
