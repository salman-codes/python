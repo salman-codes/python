{
 "cells": [
  {
   "cell_type": "code",
   "execution_count": 7,
   "metadata": {},
   "outputs": [
    {
     "name": "stdout",
     "output_type": "stream",
     "text": [
      "16.296261430954583\n"
     ]
    }
   ],
   "source": [
    "import math\n",
    "# coordinates1, coordinates2, coordinates3 are tuples containig coordinates as-\n",
    "#coordinates1 = (x1, y1), coordinates2=(x2, y2), coordinates3(x3, y3)\n",
    "def calculateDistance(coordinates1, coordinates2, coordinates3):\n",
    "    d1 = math.sqrt((coordinates1[0]-coordinates2[0])**2 + (coordinates1[1]-coordinates2[1])**2)\n",
    "    d2 = math.sqrt((coordinates2[0]-coordinates3[0])**2 + (coordinates2[1]-coordinates3[1])**2)\n",
    "    d3 = math.sqrt((coordinates1[0]-coordinates3[0])**2 + (coordinates1[1]-coordinates3[1])**2)\n",
    "    distance = (d1+d2+d3)/3\n",
    "    return distance\n",
    "\n",
    "x_coordinates, y_coordinates, z_coordinates = (7, 20), (21, 3), (7, 8)\n",
    "\n",
    "print(calculateDistance(x_coordinates, y_coordinates, z_coordinates))"
   ]
  },
  {
   "cell_type": "code",
   "execution_count": 19,
   "metadata": {},
   "outputs": [
    {
     "data": {
      "text/plain": [
       "False"
      ]
     },
     "execution_count": 19,
     "metadata": {},
     "output_type": "execute_result"
    }
   ],
   "source": [
    "def isAlmostPalindrome(string):\n",
    "    temp = string[::-1]\n",
    "    length = len(string)\n",
    "    if temp == string:\n",
    "        return True\n",
    "    else:\n",
    "        c = 0\n",
    "        for i in range(int(length/2)):\n",
    "            if (string[i] != string[length - i - 1]) : \n",
    "                c = c + 1\n",
    "        if c > 1:\n",
    "            return False\n",
    "        \n",
    "        return True\n",
    "    \n",
    "isAlmostPalindrome('abccfg')"
   ]
  },
  {
   "cell_type": "code",
   "execution_count": 34,
   "metadata": {},
   "outputs": [
    {
     "name": "stdout",
     "output_type": "stream",
     "text": [
      "101\n"
     ]
    }
   ],
   "source": [
    "import operator\n",
    "def mostPopularNumber(arr, length):\n",
    "    t_dict = {}\n",
    "    for i in arr:\n",
    "        if i in t_dict.keys():\n",
    "            t_dict[i] += 1\n",
    "        else:\n",
    "            t_dict[i] = 1\n",
    "    temp = dict( sorted(t_dict.items(), key=operator.itemgetter(1), reverse=True))\n",
    "    t = list(temp.keys())\n",
    "    return t[0]\n",
    "\n",
    "print(mostPopularNumber([22, 101, 102, 101, 102, 525, 88], 5))"
   ]
  },
  {
   "cell_type": "code",
   "execution_count": 43,
   "metadata": {},
   "outputs": [
    {
     "data": {
      "text/plain": [
       "2"
      ]
     },
     "execution_count": 43,
     "metadata": {},
     "output_type": "execute_result"
    }
   ],
   "source": [
    "def findOccurences(arr, number):\n",
    "    c = 0\n",
    "    for i in arr:\n",
    "        if i==number:\n",
    "            c += 1\n",
    "    \n",
    "    return c\n",
    "\n",
    "findOccurences([2,3,4,3,2,1], 3)"
   ]
  },
  {
   "cell_type": "code",
   "execution_count": 66,
   "metadata": {},
   "outputs": [],
   "source": [
    "class CheckParanthesis:\n",
    "    def __init__(self):\n",
    "        self.paranthesis = 0\n",
    "        self.curly_braces = 0\n",
    "        self.square_brackets = 0\n",
    "    \n",
    "    def checkForBalancedBrackets(self, string):\n",
    "        c = True\n",
    "        for i in string:\n",
    "            if i == '(':\n",
    "                self.paranthesis += 1\n",
    "            elif i == ')':\n",
    "                self.paranthesis -= 1\n",
    "            elif i == '{':\n",
    "                self.curly_braces += 1\n",
    "            elif i == '}':\n",
    "                self.curly_braces -= 1\n",
    "            elif i == '[':\n",
    "                self.square_brackets += 1\n",
    "            elif i == ']':\n",
    "                self.square_brackets -= 1\n",
    "            else:\n",
    "                continue\n",
    "            \n",
    "            c =  False\n",
    "            \n",
    "            if (self.paranthesis == -1 or self.curly_braces == -1 or self.square_brackets == -1) and c==True:\n",
    "                return False\n",
    "        \n",
    "        if self.paranthesis == 0 and self.curly_braces == 0 and self.square_brackets == 0:\n",
    "            return True\n",
    "        return False\n",
    "    \n",
    "    def test(self):\n",
    "        test_cases = (\n",
    "                ('(a[0]+b[2c[6]]) {24+53}', True), ('f(e(d))', True), \n",
    "                ('[()]{}([])', True), ('(()', False), ('(c]', False), ('{(a[])', False), \n",
    "                ('([)]', False), (')(', False), (']{}[', False), ('][{]}', False)\n",
    "                  )\n",
    "        for i in test_cases:\n",
    "            temp = self.checkForBalancedBrackets(i[0])\n",
    "            assert temp == i[1]\n",
    "\n",
    "if __name__ == '__main__':\n",
    "    obj = CheckParanthesis()\n",
    "    obj.test()\n",
    "# obj.checkForBalancedBrackets('(a[0]+b[2c[6]]) {24+53}')"
   ]
  },
  {
   "cell_type": "code",
   "execution_count": 1,
   "metadata": {},
   "outputs": [
    {
     "name": "stdout",
     "output_type": "stream",
     "text": [
      "128\n"
     ]
    }
   ],
   "source": [
    "temp = [1001, 1008, 1015, 1022, 1029, 1036, 1043, 1050, 1057, 1064, 1071, 1078, 1085, 1092, 1099, 1106, 1113, 1120, 1127, 1134, 1141, 1148, 1155, 1162, 1169, 1176, 1183, 1190, 1197, 1204, 1211, 1218, 1225, 1232, 1239, 1246, 1253, 1260, 1267, 1274, 1281, 1288, 1295, 1302, 1309, 1316, 1323, 1330, 1337, 1344, 1351, 1358, 1365, 1372, 1379, 1386, 1393, 1400, 1407, 1414, 1421, 1428, 1435, 1442, 1449, 1456, 1463, 1470, 1477, 1484, 1491, 1498, 1505, 1512, 1519, 1526, 1533, 1540, 1547, 1554, 1561, 1568, 1575, 1582, 1589, 1596, 1603, 1610, 1617, 1624, 1631, 1638, 1645, 1652, 1659, 1666, 1673, 1680, 1687, 1694, 1701, 1708, 1715, 1722, 1729, 1736, 1743, 1750, 1757, 1764, 1771, 1778, 1785, 1792, 1799, 1806, 1813, 1820, 1827, 1834, 1841, 1848, 1855, 1862, 1869, 1876, 1883, 1890, 1897, 1904, 1911, 1918, 1925, 1932, 1939, 1946, 1953, 1960, 1967, 1974, 1981, 1988, 1995, 2002, 2009, 2016, 2023, 2030, 2037, 2044, 2051, 2058, 2065, 2072, 2079, 2086, 2093, 2100, 2107, 2114, 2121, 2128, 2135, 2142, 2149, 2156, 2163, 2170, 2177, 2184, 2191, 2198, 2205, 2212, 2219, 2226, 2233, 2240, 2247, 2254, 2261, 2268, 2275, 2282, 2289, 2296, 2303, 2310, 2317, 2324, 2331, 2338, 2345, 2352, 2359, 2366, 2373, 2380, 2387, 2394, 2401, 2408, 2415, 2422, 2429, 2436, 2443, 2450, 2457, 2464, 2471, 2478, 2485, 2492, 2499, 2506, 2513, 2520, 2527, 2534, 2541, 2548, 2555, 2562, 2569, 2576, 2583, 2590, 2597, 2604, 2611, 2618, 2625, 2632, 2639, 2646, 2653, 2660, 2667, 2674, 2681, 2688, 2695, 2702, 2709, 2716, 2723, 2730, 2737, 2744, 2751, 2758, 2765, 2772, 2779, 2786, 2793, 2800, 2807, 2814, 2821, 2828, 2835, 2842, 2849, 2856, 2863, 2870, 2877, 2884, 2891, 2898, 2905, 2912, 2919, 2926, 2933, 2940, 2947, 2954, 2961, 2968, 2975, 2982, 2989, 2996, 3003, 3010, 3017, 3024, 3031, 3038, 3045, 3052, 3059, 3066, 3073, 3080, 3087, 3094, 3101, 3108, 3115, 3122, 3129, 3136, 3143, 3150, 3157, 3164, 3171, 3178, 3185, 3192, 3199, 3206, 3213, 3220, 3227, 3234, 3241, 3248, 3255, 3262, 3269, 3276, 3283, 3290, 3297, 3304, 3311, 3318, 3325, 3332, 3339, 3346, 3353, 3360, 3367, 3374, 3381, 3388, 3395, 3402, 3409, 3416, 3423, 3430, 3437, 3444, 3451, 3458, 3465, 3472, 3479, 3486, 3493, 3500, 3507, 3514, 3521, 3528, 3535, 3542, 3549, 3556, 3563, 3570, 3577, 3584, 3591, 3598, 3605, 3612, 3619, 3626, 3633, 3640, 3647, 3654, 3661, 3668, 3675, 3682, 3689, 3696, 3703, 3710, 3717, 3724, 3731, 3738, 3745, 3752, 3759, 3766, 3773, 3780, 3787, 3794, 3801, 3808, 3815, 3822, 3829, 3836, 3843, 3850, 3857, 3864, 3871, 3878, 3885, 3892, 3899, 3906, 3913, 3920, 3927, 3934, 3941, 3948, 3955, 3962, 3969, 3976, 3983, 3990, 3997, 4004, 4011, 4018, 4025, 4032, 4039, 4046, 4053, 4060, 4067, 4074, 4081, 4088, 4095, 4102, 4109, 4116, 4123, 4130, 4137, 4144, 4151, 4158, 4165, 4172, 4179, 4186, 4193, 4200, 4207, 4214, 4221, 4228, 4235, 4242, 4249, 4256, 4263, 4270, 4277, 4284, 4291, 4298, 4305, 4312, 4319, 4326, 4333, 4340, 4347, 4354, 4361, 4368, 4375, 4382, 4389, 4396, 4403, 4410, 4417, 4424, 4431, 4438, 4445, 4452, 4459, 4466, 4473, 4480, 4487, 4494, 4501, 4508, 4515, 4522, 4529, 4536, 4543, 4550, 4557, 4564, 4571, 4578, 4585, 4592, 4599, 4606, 4613, 4620, 4627, 4634, 4641, 4648, 4655, 4662, 4669, 4676, 4683, 4690, 4697, 4704, 4711, 4718, 4725, 4732, 4739, 4746, 4753, 4760, 4767, 4774, 4781, 4788, 4795, 4802, 4809, 4816, 4823, 4830, 4837, 4844, 4851, 4858, 4865, 4872, 4879, 4886, 4893, 4900, 4907, 4914, 4921, 4928, 4935, 4942, 4949, 4956, 4963, 4970, 4977, 4984, 4991, 4998, 5005, 5012, 5019, 5026, 5033, 5040, 5047, 5054, 5061, 5068, 5075, 5082, 5089, 5096, 5103, 5110, 5117, 5124, 5131, 5138, 5145, 5152, 5159, 5166, 5173, 5180, 5187, 5194, 5201, 5208, 5215, 5222, 5229, 5236, 5243, 5250, 5257, 5264, 5271, 5278, 5285, 5292, 5299, 5306, 5313, 5320, 5327, 5334, 5341, 5348, 5355, 5362, 5369, 5376, 5383, 5390, 5397, 5404, 5411, 5418, 5425, 5432, 5439, 5446, 5453, 5460, 5467, 5474, 5481, 5488, 5495, 5502, 5509, 5516, 5523, 5530, 5537, 5544, 5551, 5558, 5565, 5572, 5579, 5586, 5593, 5600, 5607, 5614, 5621, 5628, 5635, 5642, 5649, 5656, 5663, 5670, 5677, 5684, 5691, 5698, 5705, 5712, 5719, 5726, 5733, 5740, 5747, 5754, 5761, 5768, 5775, 5782, 5789, 5796, 5803, 5810, 5817, 5824, 5831, 5838, 5845, 5852, 5859, 5866, 5873, 5880, 5887, 5894, 5901, 5908, 5915, 5922, 5929, 5936, 5943, 5950, 5957, 5964, 5971, 5978, 5985, 5992, 5999, 6006, 6013, 6020, 6027, 6034, 6041, 6048, 6055, 6062, 6069, 6076, 6083, 6090, 6097, 6104, 6111, 6118, 6125, 6132, 6139, 6146, 6153, 6160, 6167, 6174, 6181, 6188, 6195, 6202, 6209, 6216, 6223, 6230, 6237, 6244, 6251, 6258, 6265, 6272, 6279, 6286, 6293, 6300, 6307, 6314, 6321, 6328, 6335, 6342, 6349, 6356, 6363, 6370, 6377, 6384, 6391, 6398, 6405, 6412, 6419, 6426, 6433, 6440, 6447, 6454, 6461, 6468, 6475, 6482, 6489, 6496, 6503, 6510, 6517, 6524, 6531, 6538, 6545, 6552, 6559, 6566, 6573, 6580, 6587, 6594, 6601, 6608, 6615, 6622, 6629, 6636, 6643, 6650, 6657, 6664, 6671, 6678, 6685, 6692, 6699, 6706, 6713, 6720, 6727, 6734, 6741, 6748, 6755, 6762, 6769, 6776, 6783, 6790, 6797, 6804, 6811, 6818, 6825, 6832, 6839, 6846, 6853, 6860, 6867, 6874, 6881, 6888, 6895, 6902, 6909, 6916, 6923, 6930, 6937, 6944, 6951, 6958, 6965, 6972, 6979, 6986, 6993, 7000, 7007, 7014, 7021, 7028, 7035, 7042, 7049, 7056, 7063, 7070, 7077, 7084, 7091, 7098, 7105, 7112, 7119, 7126, 7133, 7140, 7147, 7154, 7161, 7168, 7175, 7182, 7189, 7196, 7203, 7210, 7217, 7224, 7231, 7238, 7245, 7252, 7259, 7266, 7273, 7280, 7287, 7294, 7301, 7308, 7315, 7322, 7329, 7336, 7343, 7350, 7357, 7364, 7371, 7378, 7385, 7392, 7399, 7406, 7413, 7420, 7427, 7434, 7441, 7448, 7455, 7462, 7469, 7476, 7483, 7490, 7497, 7504, 7511, 7518, 7525, 7532, 7539, 7546, 7553, 7560, 7567, 7574, 7581, 7588, 7595, 7602, 7609, 7616, 7623, 7630, 7637, 7644, 7651, 7658, 7665, 7672, 7679, 7686, 7693, 7700, 7707, 7714, 7721, 7728, 7735, 7742, 7749, 7756, 7763, 7770, 7777, 7784, 7791, 7798, 7805, 7812, 7819, 7826, 7833, 7840, 7847, 7854, 7861, 7868, 7875, 7882, 7889, 7896, 7903, 7910, 7917, 7924, 7931, 7938, 7945, 7952, 7959, 7966, 7973, 7980, 7987, 7994, 8001, 8008, 8015, 8022, 8029, 8036, 8043, 8050, 8057, 8064, 8071, 8078, 8085, 8092, 8099, 8106, 8113, 8120, 8127, 8134, 8141, 8148, 8155, 8162, 8169, 8176, 8183, 8190, 8197, 8204, 8211, 8218, 8225, 8232, 8239, 8246, 8253, 8260, 8267, 8274, 8281, 8288, 8295, 8302, 8309, 8316, 8323, 8330, 8337, 8344, 8351, 8358, 8365, 8372, 8379, 8386, 8393, 8400, 8407, 8414, 8421, 8428, 8435, 8442, 8449, 8456, 8463, 8470, 8477, 8484, 8491, 8498, 8505, 8512, 8519, 8526, 8533, 8540, 8547, 8554, 8561, 8568, 8575, 8582, 8589, 8596, 8603, 8610, 8617, 8624, 8631, 8638, 8645, 8652, 8659, 8666, 8673, 8680, 8687, 8694, 8701, 8708, 8715, 8722, 8729, 8736, 8743, 8750, 8757, 8764, 8771, 8778, 8785, 8792, 8799, 8806, 8813, 8820, 8827, 8834, 8841, 8848, 8855, 8862, 8869, 8876, 8883, 8890, 8897, 8904, 8911, 8918, 8925, 8932, 8939, 8946, 8953, 8960, 8967, 8974, 8981, 8988, 8995, 9002, 9009, 9016, 9023, 9030, 9037, 9044, 9051, 9058, 9065, 9072, 9079, 9086, 9093, 9100, 9107, 9114, 9121, 9128, 9135, 9142, 9149, 9156, 9163, 9170, 9177, 9184, 9191, 9198, 9205, 9212, 9219, 9226, 9233, 9240, 9247, 9254, 9261, 9268, 9275, 9282, 9289, 9296, 9303, 9310, 9317, 9324, 9331, 9338, 9345, 9352, 9359, 9366, 9373, 9380, 9387, 9394, 9401, 9408, 9415, 9422, 9429, 9436, 9443, 9450, 9457, 9464, 9471, 9478, 9485, 9492, 9499, 9506, 9513, 9520, 9527, 9534, 9541, 9548, 9555, 9562, 9569, 9576, 9583, 9590, 9597, 9604, 9611, 9618, 9625, 9632, 9639, 9646, 9653, 9660, 9667, 9674, 9681, 9688, 9695, 9702, 9709, 9716, 9723, 9730, 9737, 9744, 9751, 9758, 9765, 9772, 9779, 9786, 9793, 9800, 9807, 9814, 9821, 9828, 9835, 9842, 9849, 9856, 9863, 9870, 9877, 9884, 9891, 9898, 9905, 9912, 9919, 9926, 9933, 9940, 9947, 9954, 9961, 9968, 9975, 9982, 9989, 9996]\n",
    "c = 0\n",
    "for i in temp:\n",
    "    if i%5 == 0 and i%7 ==0 and str(i)[3]=='0':\n",
    "        c +=1\n",
    "\n",
    "print(c)"
   ]
  },
  {
   "cell_type": "code",
   "execution_count": 6,
   "metadata": {},
   "outputs": [
    {
     "name": "stdout",
     "output_type": "stream",
     "text": [
      "array('i', [1])\n"
     ]
    }
   ],
   "source": [
    "import array\n",
    "a = array.array('i')\n",
    "a.append(1)\n",
    "print(a)"
   ]
  },
  {
   "cell_type": "code",
   "execution_count": 49,
   "metadata": {},
   "outputs": [
    {
     "name": "stdout",
     "output_type": "stream",
     "text": [
      "['Collection', 'in', 'python', 'are', 'containers', 'that', 'are', 'used', 'to', 'store', 'the', 'collection', 'of', 'data', 'for', 'example', 'list', 'dict', 'tuple', 'set', 'etc', 'Several', 'modules', 'have', 'been', 'deployed', 'that', 'provide', 'additional', 'data', 'structures', 'to', 'store', 'collection', 'of', 'data']\n"
     ]
    },
    {
     "data": {
      "text/plain": [
       "[('data', 3), ('are', 2), ('that', 2), ('to', 2), ('store', 2)]"
      ]
     },
     "execution_count": 49,
     "metadata": {},
     "output_type": "execute_result"
    }
   ],
   "source": [
    "from collections import Counter\n",
    "import re\n",
    "sentance = \"\"\"\n",
    "            Collection in python are containers that are used to store the collection of data, \n",
    "            for example list, dict tuple, set etc. Several modules have been deployed that \n",
    "            provide additional data structures to store collection of data.\n",
    "        \"\"\"\n",
    "words = re.findall('\\w+', sentance)\n",
    "Counter(words).most_common(5)"
   ]
  },
  {
   "cell_type": "code",
   "execution_count": 53,
   "metadata": {},
   "outputs": [
    {
     "name": "stdout",
     "output_type": "stream",
     "text": [
      "deque([23, '0', 'o', 'python', 18.2, '@#', 12.9])\n"
     ]
    }
   ],
   "source": [
    "from collections import deque\n",
    "d = deque() # Declaration\n",
    "d.append(1)  # [1]\n",
    "d.append('python') # [1, 'python'] \n",
    "d.popleft() # ['python']\n",
    "d.append(18.2) # ['python', 18.2]\n",
    "d.extendleft(['o', '0', 23]) # [23, '0', 'o', 'python', 18.2]\n",
    "d.extend(['@#', 12.9, '123']) # [23, '0', 'o', 'python', 18.2, '@#', 12.9, '123']\n",
    "d.pop() # [23, '0', 'o', 'python', 18.2, '@#', 12.9]\n",
    "print(d)"
   ]
  },
  {
   "cell_type": "code",
   "execution_count": 26,
   "metadata": {},
   "outputs": [
    {
     "name": "stdout",
     "output_type": "stream",
     "text": [
      "set()\n",
      "{34, 67, 43, 44, 12, 48, 23}\n"
     ]
    }
   ],
   "source": [
    "firstSet  = {23, 34, 12}\n",
    "secondSet = {44, 23, 12, 67, 34, 43, 48}\n",
    "\n",
    "firstSet.issubset(secondSet)\n",
    "secondSet.issubset(firstSet)\n",
    "\n",
    "firstSet.issuperset(secondSet)\n",
    "secondSet.issuperset(firstSet)\n",
    "\n",
    "if(firstSet.issubset(secondSet)):\n",
    "  firstSet.clear()\n",
    "  \n",
    "if(secondSet.issubset(firstSet)):\n",
    "  secondSet.clear()\n",
    "\n",
    "print(firstSet)\n",
    "print(secondSet)"
   ]
  },
  {
   "cell_type": "code",
   "execution_count": 56,
   "metadata": {},
   "outputs": [
    {
     "name": "stdout",
     "output_type": "stream",
     "text": [
      "1 4 21 3 7 8 None\n"
     ]
    }
   ],
   "source": [
    "class Tree:\n",
    "    def __init__(self, info, left=None, right=None):\n",
    "        self.info = info\n",
    "        self.left  = left\n",
    "        self.right = right\n",
    "\n",
    "    def __str__(self):\n",
    "        return (str(self.info) +\" \"+ str(self.left) + \" \" + str(self.right))\n",
    "\n",
    "tree = Tree(1, Tree(4, 21, 3), Tree(7, 8))\n",
    "print(tree)"
   ]
  },
  {
   "cell_type": "code",
   "execution_count": 54,
   "metadata": {},
   "outputs": [
    {
     "name": "stdout",
     "output_type": "stream",
     "text": [
      "{'Tue', 'Mon', 'Sun', 'Fri', 'Sat', 'Wed', 'Thu'}\n",
      "{'Tue', 'Mon', 'Fri', 'Sat', 'Wed', 'Thu'}\n"
     ]
    }
   ],
   "source": [
    "DaysA = set([\"Mon\",\"Tue\",\"Wed\"])\n",
    "DaysB = set([\"Wed\",\"Thu\",\"Fri\",\"Sat\",\"Sun\"])\n",
    "days = DaysA|DaysB\n",
    "print(days)\n",
    "days.discard(\"Sun\")\n",
    "print(days)"
   ]
  },
  {
   "cell_type": "code",
   "execution_count": 43,
   "metadata": {},
   "outputs": [
    {
     "name": "stdout",
     "output_type": "stream",
     "text": [
      "The Sorted array is:\n",
      "1\n",
      "2\n",
      "3\n",
      "4\n",
      "5\n",
      "6\n",
      "7\n",
      "8\n"
     ]
    }
   ],
   "source": [
    "def f1(array,low,high):\n",
    "    i = ( low-1 )\n",
    "    pivot = array[high]\n",
    "    for j in range(low , high):\n",
    "        if   array[j] <= pivot:\n",
    "            i = i+1\n",
    "            array[i],array[j] = array[j],array[i]\n",
    "    array[i+1],array[high] = array[high],array[i+1]\n",
    "    return ( i+1 )\n",
    "\n",
    "def f2(array,low,high):\n",
    "    if low < high:\n",
    "        pit = f1(array,low,high)\n",
    "        f2(array, low, pit-1)\n",
    "        f2(array, pit+1, high)\n",
    "\n",
    "array=[1, 2, 3, 4, 5, 6, 7, 8]\n",
    "n = len(array)\n",
    "f2(array,0,n-1)\n",
    "print (\"The Sorted array is:\")\n",
    "for i in range(n):\n",
    "    print (array[i])"
   ]
  },
  {
   "cell_type": "code",
   "execution_count": 46,
   "metadata": {},
   "outputs": [
    {
     "name": "stdout",
     "output_type": "stream",
     "text": [
      "Element is present at index  3\n"
     ]
    }
   ],
   "source": [
    "def f1(arr, l, r, x): \n",
    "    if r >= l:\n",
    "        mid = l + (r - l) // 2\n",
    "        if arr[mid] == x: \n",
    "            return mid \n",
    "        elif arr[mid] > x: \n",
    "            return f1(arr, l, mid-1, x) \n",
    "        else: \n",
    "            return f1(arr, mid + 1, r, x) \n",
    "    else: \n",
    "        return -1"
   ]
  },
  {
   "cell_type": "code",
   "execution_count": null,
   "metadata": {},
   "outputs": [],
   "source": [
    "def f1(arr, l, r, x): \n",
    "    if r >= l:\n",
    "        mid = l + (r - l) // 2\n",
    "        if arr[mid] == x: \n",
    "            return mid \n",
    "        elif arr[mid] > x: \n",
    "            return f1(arr, l, mid-1, x) \n",
    "        else: \n",
    "            return f1(arr, mid + 1, r, x) \n",
    "    else: \n",
    "        return -1"
   ]
  },
  {
   "cell_type": "code",
   "execution_count": 55,
   "metadata": {},
   "outputs": [],
   "source": [
    "def f1(alist):\n",
    "    copy = list(alist) # O(n), as loop through all the elements to copy\n",
    "    copy.sort()        # O(n logn),  python sorting algo complexity\n",
    "    for i in range(len(alist)-1): # O(n-1) = O(n), as it'll loop through all the element of the list\n",
    "        if copy[i] == copy[i+1]: # O(1), simply copying element\n",
    "            return False        # O(1), as it'll never be executed in worse case\n",
    "    return True  # O(1)"
   ]
  },
  {
   "cell_type": "code",
   "execution_count": 61,
   "metadata": {},
   "outputs": [
    {
     "name": "stdout",
     "output_type": "stream",
     "text": [
      "[('d', 'c'), ('a', 'b'), ('z', 'a'), ('c', 'a')]\n"
     ]
    }
   ],
   "source": [
    "def f1(item):\n",
    "    return item[1]\n",
    "\n",
    "unordered = [('z', 'a'), ('d', 'c'), ('a', 'b'), ('c', 'a')]\n",
    "unordered.sort(key=f1, reverse = True)\n",
    "print(unordered)"
   ]
  },
  {
   "cell_type": "code",
   "execution_count": 68,
   "metadata": {},
   "outputs": [
    {
     "name": "stdout",
     "output_type": "stream",
     "text": [
      "xtsrponmligeea\n"
     ]
    }
   ],
   "source": [
    "string = \"sortingexample\"\n",
    "result = ''.join(sorted(string, reverse = True)) \n",
    "print(str(result))"
   ]
  },
  {
   "cell_type": "code",
   "execution_count": 71,
   "metadata": {},
   "outputs": [
    {
     "name": "stdout",
     "output_type": "stream",
     "text": [
      "([1, 3, 8], [3, 7, 9], [0, 6, 11])\n"
     ]
    }
   ],
   "source": [
    "tupls = ([8, 3, 1], [9, 3, 7], [0, 11, 6]) \n",
    "result = tuple((sorted(sub) for sub in tupls)) \n",
    "print(str(result))"
   ]
  },
  {
   "cell_type": "code",
   "execution_count": 83,
   "metadata": {},
   "outputs": [
    {
     "name": "stdout",
     "output_type": "stream",
     "text": [
      "[['Emma', 22, 'F'], ['Catherin', 25, 'F'], ['Alex', 20, 'M'], ['Justin', 32, 'M'], ['Donald', 51, 'M']]\n",
      "[['Donald', 51, 'M'], ['Justin', 32, 'M'], ['Catherin', 25, 'F'], ['Emma', 22, 'F'], ['Alex', 20, 'M']]\n"
     ]
    }
   ],
   "source": [
    "import functools\n",
    "def f1(data_a, data_b):\n",
    "    if data_a[2] == data_b[2]:\n",
    "        return data_a[1] - data_b[1]\n",
    "    else:\n",
    "        if data_b[2] == 'F':\n",
    "            return 1\n",
    "        else:\n",
    "            return -1\n",
    "\n",
    "data = [['Justin', 32, 'M'], ['Donald', 51, 'M'], ['Catherin', 25, 'F'], ['Alex', 20, 'M'], ['Emma', 22, 'F']]\n",
    "data.sort(key=functools.cmp_to_key(f1))\n",
    "\n",
    "print(persons)\n",
    "\n",
    "a = [['Alex', 20, 'M'], ['Emma', 22, 'F'], ['Catherin', 25, 'F'], ['Justin', 32, 'M'], ['Donald', 51, 'M']]\n",
    "print(a[::-1])"
   ]
  },
  {
   "cell_type": "code",
   "execution_count": null,
   "metadata": {},
   "outputs": [],
   "source": [
    "import functools\n",
    "\n",
    "\n",
    "def compare_function(person_a, person_b):\n",
    "    if person_a[2] == person_b[2]:  # if their gender become same\n",
    "        return person_a[1] - person_b[1]  # return True if person_a is younger\n",
    "    else:  # if their gender not matched\n",
    "        if person_b[2] == 'F':  # give person_b first priority if she is female\n",
    "            return 1\n",
    "        else:  # otherwise give person_a first priority\n",
    "            return -1\n",
    "\n",
    "\n",
    "persons = [['Alice', 26, 'F'], ['Trudy', 25, 'M'], ['Bob', 24, 'M'], ['Alexa', 22, 'F']]\n",
    "\n",
    "print(f'Before sorting: {persons}')\n",
    "\n",
    "persons.sort(key=functools.cmp_to_key(compare_function))\n",
    "\n",
    "print(f'After sorting: {persons}')"
   ]
  },
  {
   "cell_type": "markdown",
   "metadata": {},
   "source": [
    "## Bubble Sort"
   ]
  },
  {
   "cell_type": "code",
   "execution_count": 58,
   "metadata": {},
   "outputs": [
    {
     "name": "stdout",
     "output_type": "stream",
     "text": [
      "Iteration 0: [23, 3, 45, 12, 4, 78]\n",
      "Iteration 1: [3, 23, 12, 4, 45, 78]\n",
      "Iteration 2: [3, 12, 4, 23, 45, 78]\n",
      "Iteration 3: [3, 4, 12, 23, 45, 78]\n",
      "Iteration 4: [3, 4, 12, 23, 45, 78]\n",
      "[3, 4, 12, 23, 45, 78]\n"
     ]
    }
   ],
   "source": [
    "def f1(arr):\n",
    "    def swap(i, j):\n",
    "        arr[i], arr[j] = arr[j], arr[i]\n",
    "\n",
    "    n = len(arr)\n",
    "    swapped = True\n",
    "    \n",
    "    x = -1\n",
    "    while swapped:\n",
    "        swapped = False\n",
    "        x = x + 1\n",
    "        for i in range(1, n-x):\n",
    "            if arr[i - 1] > arr[i]:\n",
    "                swap(i - 1, i)\n",
    "                swapped = True\n",
    "        print(\"Iteration {}: {}\".format(x, arr))\n",
    "    return arr\n",
    "\n",
    "print(f1([78, 23, 3, 45, 12, 4]))"
   ]
  },
  {
   "cell_type": "code",
   "execution_count": 9,
   "metadata": {},
   "outputs": [
    {
     "name": "stdout",
     "output_type": "stream",
     "text": [
      "[(69, 'E'), (104, 'h'), (109, 'm'), (114, 'r')]\n"
     ]
    }
   ],
   "source": [
    "lst = ['monkey', 'Elephant', 'rat', 'horse']\n",
    "a = [(ord(z[0]), z[0]) for z in sorted(lst)]\n",
    "print(a)"
   ]
  },
  {
   "cell_type": "code",
   "execution_count": 17,
   "metadata": {},
   "outputs": [
    {
     "name": "stdout",
     "output_type": "stream",
     "text": [
      "[FinalMarks(name='John', grade=91), FinalMarks(name='Aliza', grade=95), FinalMarks(name='Barren', grade=99), FinalMarks(name='Ben', grade=87), FinalMarks(name='Ramon', grade=78)]\n"
     ]
    }
   ],
   "source": [
    "from collections import namedtuple\n",
    "StudentFinal = namedtuple('FinalMarks', 'name grade')\n",
    "john = StudentFinal('John', 91)\n",
    "aliza = StudentFinal('Aliza', 95)\n",
    "barren = StudentFinal('Barren', 99)\n",
    "ben = StudentFinal('Ben', 87)\n",
    "ramon = StudentFinal('Ramon', 78)\n",
    "students = [john, aliza, barren, ben, ramon]\n",
    "# data = sorted(students, key=lambda x: getattr(x, 'grade'), reverse=True)\n",
    "print(students)"
   ]
  },
  {
   "cell_type": "code",
   "execution_count": 72,
   "metadata": {},
   "outputs": [
    {
     "ename": "TypeError",
     "evalue": "'<' not supported between instances of 'str' and 'int'",
     "output_type": "error",
     "traceback": [
      "\u001b[1;31m---------------------------------------------------------------------------\u001b[0m",
      "\u001b[1;31mTypeError\u001b[0m                                 Traceback (most recent call last)",
      "\u001b[1;32m<ipython-input-72-bd4cbe5ef903>\u001b[0m in \u001b[0;36m<module>\u001b[1;34m\u001b[0m\n\u001b[0;32m      1\u001b[0m \u001b[0ma\u001b[0m \u001b[1;33m=\u001b[0m \u001b[1;33m[\u001b[0m\u001b[1;33m(\u001b[0m\u001b[1;36m10\u001b[0m\u001b[1;33m,\u001b[0m \u001b[1;36m2\u001b[0m\u001b[1;33m,\u001b[0m \u001b[1;36m6\u001b[0m\u001b[1;33m)\u001b[0m\u001b[1;33m,\u001b[0m \u001b[1;33m{\u001b[0m\u001b[1;34m'name'\u001b[0m\u001b[1;33m:\u001b[0m \u001b[1;34m'John'\u001b[0m\u001b[1;33m,\u001b[0m \u001b[1;34m'age'\u001b[0m\u001b[1;33m:\u001b[0m \u001b[1;36m32\u001b[0m\u001b[1;33m}\u001b[0m\u001b[1;33m,\u001b[0m \u001b[1;33m[\u001b[0m\u001b[1;34m'bca'\u001b[0m\u001b[1;33m,\u001b[0m \u001b[1;36m43\u001b[0m\u001b[1;33m,\u001b[0m \u001b[1;36m12\u001b[0m\u001b[1;33m,\u001b[0m \u001b[1;33m(\u001b[0m\u001b[1;36m2\u001b[0m\u001b[1;33m,\u001b[0m \u001b[1;36m1\u001b[0m\u001b[1;33m,\u001b[0m \u001b[1;36m3\u001b[0m\u001b[1;33m)\u001b[0m\u001b[1;33m]\u001b[0m\u001b[1;33m]\u001b[0m\u001b[1;33m\u001b[0m\u001b[1;33m\u001b[0m\u001b[0m\n\u001b[0;32m      2\u001b[0m \u001b[0ma\u001b[0m \u001b[1;33m=\u001b[0m \u001b[1;33m[\u001b[0m\u001b[1;36m5\u001b[0m\u001b[1;33m,\u001b[0m \u001b[1;36m3\u001b[0m\u001b[1;33m,\u001b[0m \u001b[1;36m2\u001b[0m\u001b[1;33m,\u001b[0m \u001b[1;36m5\u001b[0m\u001b[1;33m,\u001b[0m \u001b[1;34m\"1\"\u001b[0m\u001b[1;33m]\u001b[0m\u001b[1;33m\u001b[0m\u001b[1;33m\u001b[0m\u001b[0m\n\u001b[1;32m----> 3\u001b[1;33m \u001b[0mprint\u001b[0m\u001b[1;33m(\u001b[0m\u001b[0ma\u001b[0m\u001b[1;33m.\u001b[0m\u001b[0msort\u001b[0m\u001b[1;33m(\u001b[0m\u001b[1;33m)\u001b[0m\u001b[1;33m)\u001b[0m\u001b[1;33m\u001b[0m\u001b[1;33m\u001b[0m\u001b[0m\n\u001b[0m\u001b[0;32m      4\u001b[0m \u001b[0ma\u001b[0m\u001b[1;33m\u001b[0m\u001b[1;33m\u001b[0m\u001b[0m\n",
      "\u001b[1;31mTypeError\u001b[0m: '<' not supported between instances of 'str' and 'int'"
     ]
    }
   ],
   "source": [
    "a = [(10, 2, 6), {'name': 'John', 'age': 32}, ['bca', 43, 12, (2, 1, 3)]]\n",
    "a = [5, 3, 2, 5, \"1\"]\n",
    "print(a.sort())\n",
    "a"
   ]
  },
  {
   "cell_type": "markdown",
   "metadata": {},
   "source": [
    "## Trees and Graphs"
   ]
  },
  {
   "cell_type": "code",
   "execution_count": 10,
   "metadata": {},
   "outputs": [],
   "source": [
    "# {\"a\": (\"c\", \"d\", \"b\"), \"b\": (\"d\", \"c\"), \"c\": \"d\", \"c\": \"e\", \"e\": \"a\", \"f\": ()} \n",
    "graph = {\"a\":[\"c\", \"e\"], \"b\": [\"a\", \"d\"], \"c\": [\"d\"], \"d\": [\"c\", \"a\"], \"e\": [\"c\", \"b\"], \"f\": []}"
   ]
  },
  {
   "cell_type": "code",
   "execution_count": 12,
   "metadata": {},
   "outputs": [
    {
     "name": "stdout",
     "output_type": "stream",
     "text": [
      "[['a', 'c'], ['a', 'e', 'c']]\n"
     ]
    }
   ],
   "source": [
    "# All possible Paths between two nodes-\n",
    "graph = {\"a\":[\"c\", \"e\"], \"b\": [\"a\", \"d\"], \"c\": [\"d\"], \"d\": [\"c\", \"a\"], \"e\": [\"c\"], \"f\": []}\n",
    "def f1(graph, start, end, path=[]):\n",
    "    path = path + [start]\n",
    "    if start == end:\n",
    "        return [path]\n",
    "    if start not in graph.keys():\n",
    "        return []\n",
    "    paths = []\n",
    "    for node in graph[start]:\n",
    "        if node not in path:\n",
    "            newpaths = f1(graph, node, end, path)\n",
    "            for newpath in newpaths:\n",
    "                paths.append(newpath)\n",
    "    return paths\n",
    "print(f1(graph, \"a\", \"c\"))"
   ]
  },
  {
   "cell_type": "code",
   "execution_count": 15,
   "metadata": {},
   "outputs": [
    {
     "name": "stdout",
     "output_type": "stream",
     "text": [
      "['a', 'c', 'f']\n"
     ]
    }
   ],
   "source": [
    "# Shortest Path between two nodes\n",
    "graph = {\"a\":[\"c\", \"d\"], \"b\": [\"d\", \"c\"], \"c\": [\"f\"], \"d\": [\"f\", \"e\"], \"e\": [\"d\"], \"f\": []}\n",
    "def f1(graph, start, end, path=[]):\n",
    "    path = path + [start]\n",
    "    if start == end:\n",
    "        return path\n",
    "    if start not in graph.keys():\n",
    "        return None\n",
    "    shortest = None\n",
    "    for node in graph[start]:\n",
    "        if node not in path:\n",
    "            newpath = f1(graph, node, end, path)\n",
    "            if newpath:\n",
    "                if not shortest or len(newpath) < len(shortest):\n",
    "                    shortest = newpath\n",
    "    return shortest\n",
    "print(f1(graph, \"a\", \"f\"))"
   ]
  },
  {
   "cell_type": "code",
   "execution_count": 21,
   "metadata": {},
   "outputs": [
    {
     "name": "stdout",
     "output_type": "stream",
     "text": [
      "8\n",
      "[32, 20, 12, 4, 16, 12, 0, 1, 3, 7, 9, 12, 0, 0, 0]\n"
     ]
    }
   ],
   "source": [
    "list_first_line = [1, 3, 7, 9, 12]\n",
    " \n",
    "known_leaves = len(list_first_line)\n",
    "total_leaf_size = 2**((len(list_first_line)-1).bit_length())\n",
    "print(total_leaf_size)\n",
    " \n",
    "tree = []\n",
    "tree.extend([0]*(total_leaf_size-1))\n",
    "tree.extend(list_first_line)\n",
    "tree.extend([0]*(total_leaf_size-known_leaves))\n",
    " \n",
    "start_at = total_leaf_size-2\n",
    " \n",
    "while start_at>= 0:\n",
    "    tree[start_at] = tree[2*start_at+1] + tree[2*start_at+2]\n",
    "    start_at -= 1\n",
    " \n",
    "print(tree)"
   ]
  },
  {
   "cell_type": "code",
   "execution_count": 34,
   "metadata": {},
   "outputs": [
    {
     "name": "stdout",
     "output_type": "stream",
     "text": [
      "[{'id': 1, 'children': [{'id': 2, 'children': [{'id': 3, 'children': [{'id': 4}]}]}, {'id': 5}]}, {'id': 7, 'children': [{'id': 6}, {'id': 8}, {'id': 9}]}]\n"
     ]
    }
   ],
   "source": [
    "a = [(1, 1), (2, 1), (3, 2), (4, 3), (5, 1), (6, 7), (7, 7), (8, 7), (9, 7)]\n",
    "\n",
    "nodes = {}\n",
    "for i in a:\n",
    "    id, parent_id = i\n",
    "    nodes[id] = { 'id': id }\n",
    "\n",
    "forest = []\n",
    "for i in a:\n",
    "    id, parent_id = i\n",
    "    node = nodes[id]\n",
    "\n",
    "    if id == parent_id:\n",
    "        forest.append(node)\n",
    "    else:\n",
    "        parent = nodes[parent_id]\n",
    "        if not 'children' in parent:\n",
    "            parent['children'] = []\n",
    "        children = parent['children']\n",
    "        children.append(node)\n",
    "\n",
    "print(forest)"
   ]
  },
  {
   "cell_type": "code",
   "execution_count": 40,
   "metadata": {},
   "outputs": [
    {
     "data": {
      "text/plain": [
       "['a', 'b', 'c', 'd']"
      ]
     },
     "execution_count": 40,
     "metadata": {},
     "output_type": "execute_result"
    }
   ],
   "source": [
    "sorted({\"b\": 4, \"c\": 1, \"a\": 3, \"d\":2})"
   ]
  },
  {
   "cell_type": "code",
   "execution_count": 85,
   "metadata": {},
   "outputs": [
    {
     "name": "stdout",
     "output_type": "stream",
     "text": [
      "Start:  6\n",
      "Start:  5\n",
      "Start:  4\n",
      "Start:  3\n",
      "Start:  2\n",
      "Start:  1\n",
      "Start:  0\n",
      "[32, 20, 12, 4, 16, 12, 0, 1, 3, 7, 9, 12, 0, 0, 0]\n"
     ]
    }
   ],
   "source": [
    "list_first_line = [1, 3, 7, 9, 12] \n",
    "known_leaves = len(list_first_line)\n",
    "total_leaf_size = 2**((len(list_first_line)-1).bit_length())\n",
    "\n",
    "tree = []\n",
    "tree.extend([0]*(total_leaf_size-1))\n",
    "tree.extend(list_first_line)\n",
    "tree.extend([0]*(total_leaf_size-known_leaves))\n",
    " \n",
    "start_at = total_leaf_size-2\n",
    " \n",
    "while start_at>= 0:\n",
    "    print(\"Start: \", start_at)\n",
    "#     print(tree[2*start_at+1] + tree[2*start_at+2])\n",
    "    tree[start_at] = tree[2*start_at+1] + tree[2*start_at+2]\n",
    "    start_at -= 1\n",
    "print(tree)"
   ]
  },
  {
   "cell_type": "code",
   "execution_count": 92,
   "metadata": {},
   "outputs": [
    {
     "name": "stdout",
     "output_type": "stream",
     "text": [
      "[3, 4, 12, 23, 45, 78]\n"
     ]
    }
   ],
   "source": [
    "def f1(arr):\n",
    "    def swap(i, j):\n",
    "        arr[i], arr[j] = arr[j], arr[i]\n",
    "\n",
    "    n = len(arr)\n",
    "    swapped = True\n",
    "    \n",
    "    x = -1\n",
    "    while swapped:\n",
    "        swapped = False\n",
    "        x = x + 1\n",
    "        for i in range(1, n-x):\n",
    "            if arr[i - 1] > arr[i]:\n",
    "                swap(i - 1, i)\n",
    "                swapped = True\n",
    "    return arr\n",
    "\n",
    "print(f1([78, 23, 3, 45, 12, 4]))"
   ]
  },
  {
   "cell_type": "code",
   "execution_count": null,
   "metadata": {},
   "outputs": [],
   "source": []
  },
  {
   "cell_type": "code",
   "execution_count": null,
   "metadata": {},
   "outputs": [],
   "source": []
  },
  {
   "cell_type": "code",
   "execution_count": null,
   "metadata": {},
   "outputs": [],
   "source": []
  },
  {
   "cell_type": "code",
   "execution_count": null,
   "metadata": {},
   "outputs": [],
   "source": []
  },
  {
   "cell_type": "code",
   "execution_count": null,
   "metadata": {},
   "outputs": [],
   "source": []
  },
  {
   "cell_type": "code",
   "execution_count": null,
   "metadata": {},
   "outputs": [],
   "source": []
  },
  {
   "cell_type": "code",
   "execution_count": null,
   "metadata": {},
   "outputs": [],
   "source": [
    "gnitroselpmaxe"
   ]
  }
 ],
 "metadata": {
  "kernelspec": {
   "display_name": "Python 3",
   "language": "python",
   "name": "python3"
  },
  "language_info": {
   "codemirror_mode": {
    "name": "ipython",
    "version": 3
   },
   "file_extension": ".py",
   "mimetype": "text/x-python",
   "name": "python",
   "nbconvert_exporter": "python",
   "pygments_lexer": "ipython3",
   "version": "3.7.3"
  }
 },
 "nbformat": 4,
 "nbformat_minor": 2
}
