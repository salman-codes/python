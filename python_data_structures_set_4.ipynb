{
 "cells": [
  {
   "cell_type": "code",
   "execution_count": 4,
   "metadata": {},
   "outputs": [
    {
     "name": "stdout",
     "output_type": "stream",
     "text": [
      "1 2 4 3 None\n"
     ]
    }
   ],
   "source": [
    "#Find the output of the below code-\n",
    "\n",
    "from collections import defaultdict \n",
    "class Test: \n",
    "    def __init__(self): \n",
    "        self.graph = defaultdict(list) \n",
    "  \n",
    "    def create(self,u,v): \n",
    "        self.graph[u].append(v) \n",
    "\n",
    "    def f1(self, s): \n",
    "        visited = [False] * (len(self.graph)) \n",
    "        queue = [] \n",
    "\n",
    "        queue.append(s) \n",
    "        visited[s] = True\n",
    "\n",
    "        while queue:  \n",
    "            s = queue.pop(0) \n",
    "            print (s, end = \" \")\n",
    "            for i in self.graph[s]: \n",
    "                if visited[i] == False: \n",
    "                    queue.append(i) \n",
    "                    visited[i] = True\n",
    "\n",
    "g = Test()\n",
    "g.create(1, 2)\n",
    "g.create(0, 1)\n",
    "g.create(3, 1)\n",
    "g.create(2, 3)\n",
    "g.create(1, 4)\n",
    "g.create(4, 2)\n",
    "\n",
    "print(g.f1(1))"
   ]
  },
  {
   "cell_type": "code",
   "execution_count": 6,
   "metadata": {},
   "outputs": [
    {
     "name": "stdout",
     "output_type": "stream",
     "text": [
      "4\n"
     ]
    }
   ],
   "source": [
    "class Node:\n",
    "    def __init__(self, data): \n",
    "        self.data = data \n",
    "        self.left = None\n",
    "        self.right = None\n",
    "\n",
    "def f1(node): \n",
    "    if node is None: \n",
    "        return 0 ; \n",
    "    else :\n",
    "        a = f1(node.left) \n",
    "        b = f1(node.right) \n",
    "  \n",
    "        if (a > b): \n",
    "            return a+1\n",
    "        else: \n",
    "            return b+1\n",
    "  \n",
    "root = Node(1) \n",
    "root.left = Node(2) \n",
    "root.right = Node(3) \n",
    "root.left.left = Node(4) \n",
    "root.left.right = Node(5)\n",
    "root.left.left.left = Node(6) \n",
    "print ((f1(root))) "
   ]
  },
  {
   "cell_type": "code",
   "execution_count": 9,
   "metadata": {},
   "outputs": [
    {
     "name": "stdout",
     "output_type": "stream",
     "text": [
      "12 19 23 23 87 1 \n",
      "12 19 5 23 23 87 1 "
     ]
    }
   ],
   "source": [
    "# Find the output of the below code-\n",
    "\n",
    "class newNode():\n",
    "    def __init__(self, data):  \n",
    "        self.key = data \n",
    "        self.left = None\n",
    "        self.right = None\n",
    "\n",
    "def print_tree(temp): \n",
    "  \n",
    "    if (not temp): \n",
    "        return\n",
    "  \n",
    "    print_tree(temp.left)  \n",
    "    print(temp.key,end = \" \") \n",
    "    print_tree(temp.right)  \n",
    "\n",
    "def add_data(temp,key):\n",
    "    q = []  \n",
    "    q.append(temp)\n",
    "    while (len(q)):  \n",
    "        temp = q[0]  \n",
    "        q.pop(0)  \n",
    "  \n",
    "        if (not temp.left): \n",
    "            temp.left = newNode(key)  \n",
    "            break\n",
    "        else: \n",
    "            q.append(temp.left)  \n",
    "  \n",
    "        if (not temp.right): \n",
    "            temp.right = newNode(key)  \n",
    "            break\n",
    "        else: \n",
    "            q.append(temp.right)  \n",
    "\n",
    "if __name__ == '__main__': \n",
    "    root = newNode(23)  \n",
    "    root.left = newNode(19)  \n",
    "    root.left.left = newNode(12)  \n",
    "    root.right = newNode(87)\n",
    "    root.right.left = newNode(23)  \n",
    "    root.right.right = newNode(1)  \n",
    "\n",
    "    print_tree(root)  \n",
    "    key = 5\n",
    "    add_data(root, key)  \n",
    "    print()\n",
    "    print_tree(root)"
   ]
  },
  {
   "cell_type": "code",
   "execution_count": 11,
   "metadata": {},
   "outputs": [
    {
     "name": "stdout",
     "output_type": "stream",
     "text": [
      "3\n"
     ]
    }
   ],
   "source": [
    "#Find the output of the below code-\n",
    "\n",
    "def addEdge(adj, u, v): \n",
    "    adj[u].append(v)  \n",
    "    adj[v].append(u) \n",
    "\n",
    "def f1(u, adj, visited): \n",
    "    visited[u] = True\n",
    "    for i in range(len(adj[u])): \n",
    "        if (visited[adj[u][i]] == False): \n",
    "            f1(adj[u][i], adj, visited) \n",
    " \n",
    "def f2(adj, V): \n",
    "    visited = [False] * V  \n",
    "    res = 0\n",
    "    for u in range(V): \n",
    "        if (visited[u] == False): \n",
    "            f1(u, adj, visited)  \n",
    "            res += 1\n",
    "    return res \n",
    "\n",
    "if __name__ == '__main__': \n",
    "    V = 6\n",
    "    adj = [[] for i in range(V)]  \n",
    "    addEdge(adj, 1, 2)\n",
    "    addEdge(adj, 0, 3)\n",
    "    addEdge(adj, 2, 5)\n",
    "    print(f2(adj, V))"
   ]
  },
  {
   "cell_type": "code",
   "execution_count": null,
   "metadata": {},
   "outputs": [],
   "source": []
  },
  {
   "cell_type": "code",
   "execution_count": null,
   "metadata": {},
   "outputs": [],
   "source": []
  }
 ],
 "metadata": {
  "kernelspec": {
   "display_name": "Python 3",
   "language": "python",
   "name": "python3"
  },
  "language_info": {
   "codemirror_mode": {
    "name": "ipython",
    "version": 3
   },
   "file_extension": ".py",
   "mimetype": "text/x-python",
   "name": "python",
   "nbconvert_exporter": "python",
   "pygments_lexer": "ipython3",
   "version": "3.7.3"
  }
 },
 "nbformat": 4,
 "nbformat_minor": 2
}
